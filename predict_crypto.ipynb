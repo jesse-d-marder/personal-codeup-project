{
 "cells": [
  {
   "cell_type": "code",
   "execution_count": 2,
   "id": "df16334e-e1c4-4a73-82e9-f6ea761bb5d2",
   "metadata": {},
   "outputs": [],
   "source": [
    "from env import *\n",
    "from env_tradestation import *\n",
    "from data_retriever_simple import Client\n",
    "import acquire\n",
    "import prepare\n",
    "\n",
    "import cbpro\n",
    "import pandas as pd\n",
    "import numpy as np\n",
    "from datetime import datetime, timedelta\n",
    "import matplotlib.pyplot as plt\n",
    "import seaborn as sns\n",
    "\n",
    "import scipy.stats as stats\n",
    "import statsmodels.api as sm\n",
    "from statsmodels.tsa.arima.model import ARIMA\n",
    "from statsmodels.tsa.stattools import adfuller\n",
    "from sklearn.metrics import mean_squared_error, r2_score\n",
    "from sklearn.linear_model import LinearRegression, LassoLars, TweedieRegressor, LogisticRegression\n",
    "from sklearn.tree import DecisionTreeRegressor, DecisionTreeClassifier\n",
    "from sklearn.svm import SVR, SVC\n",
    "from sklearn.ensemble import RandomForestRegressor, RandomForestClassifier\n",
    "from sklearn.preprocessing import PolynomialFeatures, StandardScaler, MinMaxScaler, RobustScaler\n",
    "from sklearn.feature_selection import RFE, SelectKBest\n",
    "\n",
    "import warnings\n",
    "warnings.filterwarnings(\"ignore\")\n",
    "\n",
    "np.random.seed(123)"
   ]
  },
  {
   "cell_type": "markdown",
   "id": "a60b8d27-cd8c-4498-98c3-c6ba4a68bec5",
   "metadata": {},
   "source": [
    "# Compare the ability to predict cryptocurrency returns using machine learning and ARIMA models"
   ]
  },
  {
   "cell_type": "markdown",
   "id": "fcbb05a4-efbe-4a01-a29e-7eedf409cba2",
   "metadata": {},
   "source": [
    "###  Acquire Data Using Coinbase Pro API (account and API key required)"
   ]
  },
  {
   "cell_type": "code",
   "execution_count": 3,
   "id": "b3206b65-ab36-4fe7-b3e7-34919ef1209b",
   "metadata": {},
   "outputs": [
    {
     "name": "stdout",
     "output_type": "stream",
     "text": [
      "Max first date is 2016-08-17 00:00:00, starting all dataframes at this day\n",
      "Corrected btc low data for 2017-04-15\n"
     ]
    }
   ],
   "source": [
    "results = acquire.get_data_from_csv()"
   ]
  },
  {
   "cell_type": "markdown",
   "id": "727525f5-8f19-4f30-a2be-350d5f100c06",
   "metadata": {},
   "source": [
    "### Prepare Data:\n",
    "- Data comes pretty clean from Coinbase\n",
    "- The min low value for the dataset was suspiciously low. Further investigation found that for 2017-04-15 errors with Coinbase caused this low value. "
   ]
  },
  {
   "cell_type": "code",
   "execution_count": 6,
   "id": "0ad29593-64cf-4a92-a8c4-11098a90a7b4",
   "metadata": {},
   "outputs": [
    {
     "name": "stdout",
     "output_type": "stream",
     "text": [
      "Max first date is 2016-08-17 00:00:00, starting all dataframes at this day\n",
      "Corrected btc low data for 2017-04-15\n"
     ]
    }
   ],
   "source": [
    "prepared_results = prepare.prepare_crypto_data(results)"
   ]
  },
  {
   "cell_type": "markdown",
   "id": "5cda2480-4919-4fe0-ada8-2d1d756aedf0",
   "metadata": {
    "tags": []
   },
   "source": [
    "### Bitcoin prices explored and modeled"
   ]
  },
  {
   "cell_type": "code",
   "execution_count": 4,
   "id": "84e5c26f-6420-4f80-b06e-095a6a21afdd",
   "metadata": {},
   "outputs": [],
   "source": [
    "btc=prepared_results['BTC_USD']"
   ]
  },
  {
   "cell_type": "code",
   "execution_count": 5,
   "id": "2be18a71-d728-4937-9b52-b84619df48f7",
   "metadata": {},
   "outputs": [
    {
     "data": {
      "text/html": [
       "<div>\n",
       "<style scoped>\n",
       "    .dataframe tbody tr th:only-of-type {\n",
       "        vertical-align: middle;\n",
       "    }\n",
       "\n",
       "    .dataframe tbody tr th {\n",
       "        vertical-align: top;\n",
       "    }\n",
       "\n",
       "    .dataframe thead th {\n",
       "        text-align: right;\n",
       "    }\n",
       "</style>\n",
       "<table border=\"1\" class=\"dataframe\">\n",
       "  <thead>\n",
       "    <tr style=\"text-align: right;\">\n",
       "      <th></th>\n",
       "      <th>time</th>\n",
       "      <th>low</th>\n",
       "      <th>high</th>\n",
       "      <th>open</th>\n",
       "      <th>close</th>\n",
       "      <th>volume</th>\n",
       "    </tr>\n",
       "    <tr>\n",
       "      <th>time</th>\n",
       "      <th></th>\n",
       "      <th></th>\n",
       "      <th></th>\n",
       "      <th></th>\n",
       "      <th></th>\n",
       "      <th></th>\n",
       "    </tr>\n",
       "  </thead>\n",
       "  <tbody>\n",
       "    <tr>\n",
       "      <th>2016-08-17</th>\n",
       "      <td>2016-08-17</td>\n",
       "      <td>569.67</td>\n",
       "      <td>581.99</td>\n",
       "      <td>579.02</td>\n",
       "      <td>574.45</td>\n",
       "      <td>4509.774374</td>\n",
       "    </tr>\n",
       "    <tr>\n",
       "      <th>2016-08-18</th>\n",
       "      <td>2016-08-18</td>\n",
       "      <td>573.00</td>\n",
       "      <td>576.99</td>\n",
       "      <td>574.45</td>\n",
       "      <td>574.09</td>\n",
       "      <td>3964.998989</td>\n",
       "    </tr>\n",
       "    <tr>\n",
       "      <th>2016-08-19</th>\n",
       "      <td>2016-08-19</td>\n",
       "      <td>572.68</td>\n",
       "      <td>576.99</td>\n",
       "      <td>574.05</td>\n",
       "      <td>573.67</td>\n",
       "      <td>4038.303001</td>\n",
       "    </tr>\n",
       "    <tr>\n",
       "      <th>2016-08-20</th>\n",
       "      <td>2016-08-20</td>\n",
       "      <td>572.38</td>\n",
       "      <td>583.92</td>\n",
       "      <td>573.68</td>\n",
       "      <td>581.87</td>\n",
       "      <td>3581.224253</td>\n",
       "    </tr>\n",
       "    <tr>\n",
       "      <th>2016-08-21</th>\n",
       "      <td>2016-08-21</td>\n",
       "      <td>579.34</td>\n",
       "      <td>583.99</td>\n",
       "      <td>581.72</td>\n",
       "      <td>581.29</td>\n",
       "      <td>2442.633748</td>\n",
       "    </tr>\n",
       "    <tr>\n",
       "      <th>...</th>\n",
       "      <td>...</td>\n",
       "      <td>...</td>\n",
       "      <td>...</td>\n",
       "      <td>...</td>\n",
       "      <td>...</td>\n",
       "      <td>...</td>\n",
       "    </tr>\n",
       "    <tr>\n",
       "      <th>2022-04-18</th>\n",
       "      <td>2022-04-18</td>\n",
       "      <td>38550.00</td>\n",
       "      <td>41100.00</td>\n",
       "      <td>39681.11</td>\n",
       "      <td>40803.58</td>\n",
       "      <td>13090.794234</td>\n",
       "    </tr>\n",
       "    <tr>\n",
       "      <th>2022-04-19</th>\n",
       "      <td>2022-04-19</td>\n",
       "      <td>40571.99</td>\n",
       "      <td>41772.94</td>\n",
       "      <td>40810.87</td>\n",
       "      <td>41503.85</td>\n",
       "      <td>10218.113707</td>\n",
       "    </tr>\n",
       "    <tr>\n",
       "      <th>2022-04-20</th>\n",
       "      <td>2022-04-20</td>\n",
       "      <td>40900.00</td>\n",
       "      <td>42209.58</td>\n",
       "      <td>41501.56</td>\n",
       "      <td>41377.61</td>\n",
       "      <td>14609.283927</td>\n",
       "    </tr>\n",
       "    <tr>\n",
       "      <th>2022-04-21</th>\n",
       "      <td>2022-04-21</td>\n",
       "      <td>39744.75</td>\n",
       "      <td>43109.47</td>\n",
       "      <td>41371.88</td>\n",
       "      <td>40480.81</td>\n",
       "      <td>17204.353267</td>\n",
       "    </tr>\n",
       "    <tr>\n",
       "      <th>2022-04-22</th>\n",
       "      <td>2022-04-22</td>\n",
       "      <td>39174.80</td>\n",
       "      <td>40802.65</td>\n",
       "      <td>40483.38</td>\n",
       "      <td>39729.39</td>\n",
       "      <td>14797.040841</td>\n",
       "    </tr>\n",
       "  </tbody>\n",
       "</table>\n",
       "<p>2075 rows × 6 columns</p>\n",
       "</div>"
      ],
      "text/plain": [
       "                  time       low      high      open     close        volume\n",
       "time                                                                        \n",
       "2016-08-17  2016-08-17    569.67    581.99    579.02    574.45   4509.774374\n",
       "2016-08-18  2016-08-18    573.00    576.99    574.45    574.09   3964.998989\n",
       "2016-08-19  2016-08-19    572.68    576.99    574.05    573.67   4038.303001\n",
       "2016-08-20  2016-08-20    572.38    583.92    573.68    581.87   3581.224253\n",
       "2016-08-21  2016-08-21    579.34    583.99    581.72    581.29   2442.633748\n",
       "...                ...       ...       ...       ...       ...           ...\n",
       "2022-04-18  2022-04-18  38550.00  41100.00  39681.11  40803.58  13090.794234\n",
       "2022-04-19  2022-04-19  40571.99  41772.94  40810.87  41503.85  10218.113707\n",
       "2022-04-20  2022-04-20  40900.00  42209.58  41501.56  41377.61  14609.283927\n",
       "2022-04-21  2022-04-21  39744.75  43109.47  41371.88  40480.81  17204.353267\n",
       "2022-04-22  2022-04-22  39174.80  40802.65  40483.38  39729.39  14797.040841\n",
       "\n",
       "[2075 rows x 6 columns]"
      ]
     },
     "execution_count": 5,
     "metadata": {},
     "output_type": "execute_result"
    }
   ],
   "source": [
    "btc"
   ]
  },
  {
   "cell_type": "code",
   "execution_count": null,
   "id": "0681ae57-dff2-422b-9c87-5e299d9a2d47",
   "metadata": {},
   "outputs": [],
   "source": []
  }
 ],
 "metadata": {
  "kernelspec": {
   "display_name": "quant",
   "language": "python",
   "name": "quant"
  },
  "language_info": {
   "codemirror_mode": {
    "name": "ipython",
    "version": 3
   },
   "file_extension": ".py",
   "mimetype": "text/x-python",
   "name": "python",
   "nbconvert_exporter": "python",
   "pygments_lexer": "ipython3",
   "version": "3.9.7"
  }
 },
 "nbformat": 4,
 "nbformat_minor": 5
}
