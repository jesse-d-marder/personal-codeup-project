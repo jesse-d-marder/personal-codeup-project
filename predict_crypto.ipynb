{
 "cells": [
  {
   "cell_type": "code",
   "execution_count": 1,
   "id": "df16334e-e1c4-4a73-82e9-f6ea761bb5d2",
   "metadata": {},
   "outputs": [],
   "source": [
    "from env import *\n",
    "from env_tradestation import *\n",
    "from data_retriever_simple import Client\n",
    "import acquire\n",
    "import prepare\n",
    "import model\n",
    "\n",
    "import cbpro\n",
    "import pandas as pd\n",
    "import numpy as np\n",
    "from datetime import datetime, timedelta\n",
    "import matplotlib.pyplot as plt\n",
    "import seaborn as sns\n",
    "\n",
    "import scipy.stats as stats\n",
    "import statsmodels.api as sm\n",
    "from statsmodels.tsa.arima.model import ARIMA\n",
    "from statsmodels.tsa.stattools import adfuller\n",
    "from statsmodels.graphics.tsaplots import plot_acf, plot_pacf\n",
    "\n",
    "from sklearn.metrics import mean_squared_error, r2_score, accuracy_score\n",
    "from sklearn.linear_model import LinearRegression, LassoLars, TweedieRegressor, LogisticRegression\n",
    "from sklearn.tree import DecisionTreeRegressor, DecisionTreeClassifier\n",
    "from sklearn.svm import SVR, SVC\n",
    "from sklearn.neighbors import KNeighborsClassifier\n",
    "from sklearn.ensemble import RandomForestRegressor, RandomForestClassifier\n",
    "from sklearn.preprocessing import PolynomialFeatures, StandardScaler, MinMaxScaler, RobustScaler\n",
    "from sklearn.feature_selection import RFE, SelectKBest\n",
    "\n",
    "import warnings\n",
    "warnings.filterwarnings(\"ignore\")\n",
    "\n",
    "np.random.seed(123)"
   ]
  },
  {
   "cell_type": "markdown",
   "id": "e1d88bc3-b521-4fee-abb8-e738addbc091",
   "metadata": {},
   "source": [
    "# Predicting cryptocurrency returns using machine learning and ARIMA models"
   ]
  },
  {
   "cell_type": "markdown",
   "id": "6a146079-e7ab-4756-8774-3a33873e32cd",
   "metadata": {},
   "source": [
    "## Summary"
   ]
  },
  {
   "cell_type": "markdown",
   "id": "efde62ca-fc4c-4e4a-bdfd-58051406e5ad",
   "metadata": {},
   "source": [
    "I compared the forecasting ability of regression, classification and ARIMA models to predict returns for Bitcoin.  I developed a pipeline for ingesting price data from the Coinbase online API, cleaning the data in preparation for modeling, determining useful features via statistical testing and visualization, and iterating through multiple models to ultimately come up with profitable trading strategies. I roughly followed the methodology used by Helder Sebastiao and Pedro Godinho in their article \"Forecasting and trading cryptocurrencies with machine learning under changing market conditions,\" published 06 Jan 2021 (https://rdcu.be/cMaLB). Though I did not find that the features used in the study showed correlation with Bitcoin returns based on visualization and statistical testing, using them as inputs to the machine learning models did result in positive average returns. Model performance using standard train/validate/test data splitting (multi-step forecasting) was superior to single-step forecasting (that used in the study)."
   ]
  },
  {
   "cell_type": "markdown",
   "id": "fcbb05a4-efbe-4a01-a29e-7eedf409cba2",
   "metadata": {},
   "source": [
    "###  Acquire Bitcoin Data Using Coinbase Pro API (account and API key required) or cached csv"
   ]
  },
  {
   "cell_type": "code",
   "execution_count": 2,
   "id": "b3206b65-ab36-4fe7-b3e7-34919ef1209b",
   "metadata": {},
   "outputs": [],
   "source": [
    "results = acquire.get_data_from_csv()"
   ]
  },
  {
   "cell_type": "markdown",
   "id": "727525f5-8f19-4f30-a2be-350d5f100c06",
   "metadata": {},
   "source": [
    "### Prepare Data:\n",
    "- Data came fairly clean from Coinbase, without any missing values\n",
    "- The minimum low value for the dataset was suspiciously low. Further investigation found that there were system maintenance issues on 2017-04-15 with Coinbase. Because the low value is used to calculate a feature, 1-minute data was acquired for that day and the actual low determined and filled in for the erroneous value.  "
   ]
  },
  {
   "cell_type": "code",
   "execution_count": 3,
   "id": "0ad29593-64cf-4a92-a8c4-11098a90a7b4",
   "metadata": {},
   "outputs": [
    {
     "name": "stdout",
     "output_type": "stream",
     "text": [
      "Max first date is 2016-08-17 00:00:00, starting all dataframes at this day\n",
      "Corrected btc low data for 2017-04-15\n"
     ]
    }
   ],
   "source": [
    "prepared_results = prepare.prepare_crypto_data(results)"
   ]
  },
  {
   "cell_type": "markdown",
   "id": "5cda2480-4919-4fe0-ada8-2d1d756aedf0",
   "metadata": {
    "tags": []
   },
   "source": [
    "### Bitcoin Price Exploration"
   ]
  },
  {
   "cell_type": "code",
   "execution_count": 4,
   "id": "84e5c26f-6420-4f80-b06e-095a6a21afdd",
   "metadata": {},
   "outputs": [],
   "source": [
    "btc = prepared_results['BTC_USD']"
   ]
  },
  {
   "cell_type": "code",
   "execution_count": 5,
   "id": "e5069519-8040-4cbd-8344-5ec96ca4aee0",
   "metadata": {},
   "outputs": [],
   "source": [
    "# Adds target and features based on study by Sebastiao and Godinho\n",
    "btc = prepare.add_features(btc)"
   ]
  },
  {
   "cell_type": "code",
   "execution_count": 6,
   "id": "ee9b3f71-911b-453b-acf7-a53ceb6c7a08",
   "metadata": {},
   "outputs": [
    {
     "data": {
      "text/plain": [
       "Timestamp('2016-08-24 00:00:00')"
      ]
     },
     "execution_count": 6,
     "metadata": {},
     "output_type": "execute_result"
    }
   ],
   "source": [
    "btc.index.min()"
   ]
  },
  {
   "cell_type": "code",
   "execution_count": 7,
   "id": "89cf1dbd-f1d8-48a5-af66-bfa3186c8531",
   "metadata": {},
   "outputs": [
    {
     "data": {
      "text/plain": [
       "Timestamp('2022-04-21 00:00:00')"
      ]
     },
     "execution_count": 7,
     "metadata": {},
     "output_type": "execute_result"
    }
   ],
   "source": [
    "btc.index.max()"
   ]
  },
  {
   "cell_type": "markdown",
   "id": "f35adcfe-aace-45ca-8279-2f206c4e8e2d",
   "metadata": {},
   "source": [
    "### Split into train, validate, test"
   ]
  },
  {
   "cell_type": "code",
   "execution_count": 8,
   "id": "f4fcc17b-44f7-4693-aec4-e0d92b0b6114",
   "metadata": {},
   "outputs": [],
   "source": [
    "train_size = int(len(btc) * .5)\n",
    "validate_size = int(len(btc) * .3)\n",
    "test_size = int(len(btc) - train_size - validate_size)\n",
    "validate_end_index = train_size + validate_size\n",
    "\n",
    "# split into train, validation, test\n",
    "train = btc[: train_size]\n",
    "validate = btc[train_size : validate_end_index]\n",
    "test = btc[validate_end_index : ]"
   ]
  },
  {
   "cell_type": "code",
   "execution_count": 9,
   "id": "c02a3576-94b2-4374-b769-dc9b6e6e5672",
   "metadata": {},
   "outputs": [
    {
     "data": {
      "text/plain": [
       "<matplotlib.legend.Legend at 0x7fca6a6ad190>"
      ]
     },
     "execution_count": 9,
     "metadata": {},
     "output_type": "execute_result"
    },
    {
     "data": {
      "image/png": "[encoded data removed]",
      "text/plain": [
       "<Figure size 432x288 with 1 Axes>"
      ]
     },
     "metadata": {
      "needs_background": "light"
     },
     "output_type": "display_data"
    }
   ],
   "source": [
    "train.close.plot(label='train')\n",
    "validate.close.plot(label='validate')\n",
    "test.close.plot(label='test')\n",
    "plt.title('Bitcoin Daily Close Price')\n",
    "plt.legend()"
   ]
  },
  {
   "cell_type": "markdown",
   "id": "5c68f88d-26db-4879-8164-17d0c0e571fc",
   "metadata": {},
   "source": [
    "### Differences in split samples:\n",
    "- Both train and validate include a huge runup, though only train has a large crash afterward\n",
    "- Test includes a crash from highs in 2021 followed by new all time highs later in the year followed by another crash\n",
    "- Price dynamics are dramatically different from one sample to another, which would make any positive results more robust"
   ]
  },
  {
   "cell_type": "markdown",
   "id": "c1efe9e2-6ce7-443d-a267-f7239f78d0b4",
   "metadata": {
    "tags": []
   },
   "source": [
    "### Target exploration:\n",
    "- Regression target is forward log returns, which is the difference in close from tomorrow to today\n",
    "- Classification target is whether next close is positive\n",
    "- Log returns used (vs absolute prices) so can compare between different time series"
   ]
  },
  {
   "cell_type": "code",
   "execution_count": 10,
   "id": "c37378b2-6109-4132-8c59-5f44f7afaa64",
   "metadata": {},
   "outputs": [
    {
     "data": {
      "text/plain": [
       "Text(0, 0.5, 'Frequency of Return')"
      ]
     },
     "execution_count": 10,
     "metadata": {},
     "output_type": "execute_result"
    },
    {
     "data": {
      "image/png": "[encoded data removed]",
      "text/plain": [
       "<Figure size 432x288 with 1 Axes>"
      ]
     },
     "metadata": {
      "needs_background": "light"
     },
     "output_type": "display_data"
    }
   ],
   "source": [
    "train.fwd_log_ret.hist()\n",
    "plt.title('Daily Log Returns')\n",
    "plt.xlabel('Log Return')\n",
    "plt.ylabel('Frequency of Return')"
   ]
  },
  {
   "cell_type": "code",
   "execution_count": 11,
   "id": "6cb55428-1556-4d1a-b142-2203970d3030",
   "metadata": {},
   "outputs": [
    {
     "data": {
      "text/plain": [
       "Text(0.5, 1.0, 'Next Close Positive (Classification Target) - fairly balanced')"
      ]
     },
     "execution_count": 11,
     "metadata": {},
     "output_type": "execute_result"
    },
    {
     "data": {
      "image/png": "[encoded data removed]",
      "text/plain": [
       "<Figure size 432x288 with 1 Axes>"
      ]
     },
     "metadata": {
      "needs_background": "light"
     },
     "output_type": "display_data"
    }
   ],
   "source": [
    "train.fwd_close_positive.value_counts(normalize=True).plot.bar()\n",
    "plt.title('Next Close Positive (Classification Target) - fairly balanced')"
   ]
  },
  {
   "cell_type": "markdown",
   "id": "6d283a95-ff5d-4f56-8eaa-f150309f0cfb",
   "metadata": {
    "tags": []
   },
   "source": [
    "### Are there any differences in log returns based on the day of the week or the month of the year?\n",
    "- Because this is looking at forward log returns it is actually looking at the following day's return"
   ]
  },
  {
   "cell_type": "code",
   "execution_count": 12,
   "id": "224ca8fd-3e60-4e9d-acbc-5881e12e162c",
   "metadata": {},
   "outputs": [
    {
     "data": {
      "image/png": "[encoded data removed]",
      "text/plain": [
       "<Figure size 432x288 with 1 Axes>"
      ]
     },
     "metadata": {
      "needs_background": "light"
     },
     "output_type": "display_data"
    }
   ],
   "source": [
    "order = ['Monday','Tuesday','Wednesday','Thursday','Friday','Saturday','Sunday']\n",
    "train.groupby(train.index.day_name()).fwd_log_ret.mean().loc[order].plot.bar()\n",
    "plt.axhline(train.fwd_log_ret.mean(), color = 'r')\n",
    "plt.title('Average Next Day Log Return by Day of the Week')\n",
    "plt.ylabel('Average Log Return')\n",
    "plt.xlabel(\"\")\n",
    "None"
   ]
  },
  {
   "cell_type": "code",
   "execution_count": 13,
   "id": "192bfcf6-ee31-4a9b-9f9f-1a7dec8b0e3e",
   "metadata": {},
   "outputs": [
    {
     "data": {
      "image/png": "[encoded data removed]",
      "text/plain": [
       "<Figure size 432x288 with 1 Axes>"
      ]
     },
     "metadata": {
      "needs_background": "light"
     },
     "output_type": "display_data"
    }
   ],
   "source": [
    "sns.boxplot(x=train.index.day_name(), y = train.fwd_log_ret, order=['Monday','Tuesday','Wednesday','Thursday','Friday','Saturday','Sunday'])\n",
    "plt.xlabel(\"\")\n",
    "plt.ylabel(\"Log Return\")\n",
    "plt.title(\"Next Day Log Return by Day of the Week\")\n",
    "plt.tight_layout()\n"
   ]
  },
  {
   "cell_type": "code",
   "execution_count": 14,
   "id": "757458a4-cddb-48a3-92bf-bfd1649b58e0",
   "metadata": {},
   "outputs": [
    {
     "name": "stdout",
     "output_type": "stream",
     "text": [
      "Wednesday -0.4382109049371638 False\n",
      "Thursday -0.19071391435173793 False\n",
      "Friday 1.2220108640716778 False\n",
      "Saturday -0.6757647160605057 False\n",
      "Sunday 0.22803172561984486 False\n",
      "Monday 0.45829650036842684 False\n",
      "Tuesday -0.5432212034679261 False\n"
     ]
    }
   ],
   "source": [
    "# Set alpha to 0.05\n",
    "alpha = 0.05\n",
    "overall_mean = train.fwd_log_ret.mean()\n",
    "# Perform t-test to determine if any day's average return is significantly different from overall average\n",
    "for day_of_the_week in train.index.day_name().unique():\n",
    "    sample = train[train.index.day_name() == day_of_the_week]\n",
    "    t,p=stats.ttest_1samp(sample.fwd_log_ret, overall_mean)\n",
    "    print(day_of_the_week, t, p<alpha)"
   ]
  },
  {
   "cell_type": "code",
   "execution_count": 15,
   "id": "3a15e9e2-cadb-4451-8e76-b60e07deaee4",
   "metadata": {},
   "outputs": [
    {
     "data": {
      "image/png": "[encoded data removed]",
      "text/plain": [
       "<Figure size 432x288 with 1 Axes>"
      ]
     },
     "metadata": {
      "needs_background": "light"
     },
     "output_type": "display_data"
    }
   ],
   "source": [
    "train.groupby(train.index.month).fwd_log_ret.mean().plot.bar()\n",
    "plt.axhline(train.fwd_log_ret.mean(), color = 'r')\n",
    "plt.title('Average Next Day Log Return by Month')\n",
    "plt.xlabel('Month')\n",
    "plt.ylabel('Average Forward Log Returns')\n",
    "None"
   ]
  },
  {
   "cell_type": "code",
   "execution_count": 16,
   "id": "ff8493aa-03ce-4b97-a7cc-e7f2a467bb83",
   "metadata": {},
   "outputs": [
    {
     "name": "stdout",
     "output_type": "stream",
     "text": [
      "8 1.2273269594973495 False\n",
      "9 -1.1243058735938383 False\n",
      "10 1.3046282286404267 False\n",
      "11 -0.4214624142362868 False\n",
      "12 0.2842678944628774 False\n",
      "1 -1.636415104926473 False\n",
      "2 0.6457455426399578 False\n",
      "3 -2.0085106074230747 True\n",
      "4 1.6800486284375764 False\n",
      "5 1.4088257328256801 False\n",
      "6 -0.4410689548599772 False\n",
      "7 0.29825054760730546 False\n"
     ]
    }
   ],
   "source": [
    "overall_mean = train.fwd_log_ret.mean()\n",
    "for month_of_year in train.index.month.unique():\n",
    "    sample = train[train.index.month == month_of_year]\n",
    "    t,p=stats.ttest_1samp(sample.fwd_log_ret, overall_mean)\n",
    "    print(month_of_year, t, p<alpha)"
   ]
  },
  {
   "cell_type": "markdown",
   "id": "1d55dc0c-2a5a-4dde-9804-8cb3f9dcce6e",
   "metadata": {
    "tags": []
   },
   "source": [
    "### Takeaways:\n",
    "- All days exhibit positive log returns for the next day on average\n",
    "- There is wide variation depending on the day of the week though, suggesting day of the week matters when it comes to predicting returns\n",
    "- Notwithstanding the above bullet, no day's returns are statistically different from the overall mean based on a the t-test\n",
    "- Wednesday and Sunday have the widest spread in values, suggesting Monday and Thursday are some of the more volatile days of the week\n",
    "- No month except March exhibits average returns significantly different from the overall mean"
   ]
  },
  {
   "cell_type": "markdown",
   "id": "5bee8691-1319-4100-8e05-5c978dac9723",
   "metadata": {},
   "source": [
    "### Does the target exhibit seasonal tendencies?"
   ]
  },
  {
   "cell_type": "code",
   "execution_count": 17,
   "id": "b6dd3ebc-accc-48bf-9b84-64c5c8cfb04a",
   "metadata": {},
   "outputs": [
    {
     "data": {
      "text/plain": [
       "<matplotlib.legend.Legend at 0x7fca6a9ad040>"
      ]
     },
     "execution_count": 17,
     "metadata": {},
     "output_type": "execute_result"
    },
    {
     "data": {
      "image/png": "[encoded data removed]",
      "text/plain": [
       "<Figure size 432x288 with 1 Axes>"
      ]
     },
     "metadata": {
      "needs_background": "light"
     },
     "output_type": "display_data"
    }
   ],
   "source": [
    "train.fwd_log_ret.groupby([train.index.year, train.index.month]).mean().unstack(0).plot(title='Seasonal Plot')\n",
    "plt.xlabel(\"Month\")\n",
    "plt.ylabel(\"Average Monthly Next Day Log Return\")\n",
    "plt.legend(bbox_to_anchor=(1, 1))"
   ]
  },
  {
   "cell_type": "markdown",
   "id": "e0b99c62-80bb-4bef-8a85-1346ff14d6e1",
   "metadata": {},
   "source": [
    "### Takeaways:\n",
    "- February - April exhibit some seasonality. Every March there appears to be a big dip in returns, followed by big bounce up in April\n",
    "- No other months appear to show seasonality"
   ]
  },
  {
   "cell_type": "markdown",
   "id": "106c9455-444c-4279-9466-9dfc8fe39e02",
   "metadata": {},
   "source": [
    "## Lag plots and Autocorrelation"
   ]
  },
  {
   "cell_type": "code",
   "execution_count": 18,
   "id": "11fb6073-c980-4309-8811-e5b60e80558e",
   "metadata": {},
   "outputs": [
    {
     "data": {
      "image/png": "[encoded data removed]",
      "text/plain": [
       "<Figure size 432x288 with 1 Axes>"
      ]
     },
     "metadata": {
      "needs_background": "light"
     },
     "output_type": "display_data"
    }
   ],
   "source": [
    "pd.plotting.lag_plot(train.fwd_log_ret, lag = 1)\n",
    "plt.title('1 day lag plot of log returns\\nNo obvious relationship observed')\n",
    "None"
   ]
  },
  {
   "cell_type": "markdown",
   "id": "2bb0c451-6544-4b88-ba98-68325d3e0b45",
   "metadata": {},
   "source": [
    "### Lag plot of close price"
   ]
  },
  {
   "cell_type": "code",
   "execution_count": 19,
   "id": "c492e804-9fdf-451c-940f-c26353ae3380",
   "metadata": {},
   "outputs": [
    {
     "data": {
      "text/plain": [
       "Text(0.5, 1.0, '1 day lag plot of close price - today predicts tomorrow?')"
      ]
     },
     "execution_count": 19,
     "metadata": {},
     "output_type": "execute_result"
    },
    {
     "data": {
      "image/png": "[encoded data removed]",
      "text/plain": [
       "<Figure size 432x288 with 1 Axes>"
      ]
     },
     "metadata": {
      "needs_background": "light"
     },
     "output_type": "display_data"
    }
   ],
   "source": [
    "pd.plotting.lag_plot(train.close, lag = 1)\n",
    "plt.title('1 day lag plot of close price - today predicts tomorrow?')"
   ]
  },
  {
   "cell_type": "code",
   "execution_count": 20,
   "id": "aa4a2596-8fb8-4aad-9b20-9e62a57be74b",
   "metadata": {},
   "outputs": [
    {
     "data": {
      "image/png": "[encoded data removed]",
      "text/plain": [
       "<Figure size 432x288 with 1 Axes>"
      ]
     },
     "metadata": {
      "needs_background": "light"
     },
     "output_type": "display_data"
    }
   ],
   "source": [
    "pd.plotting.autocorrelation_plot(train.close)\n",
    "plt.title('Close Price Autocorrelation\\nNo seasonality evident but strong correlation for lags <50 ')\n",
    "None"
   ]
  },
  {
   "cell_type": "markdown",
   "id": "6561fb37-6447-4b2c-95e3-ac3f22c6d387",
   "metadata": {},
   "source": [
    "### Features vs target"
   ]
  },
  {
   "cell_type": "code",
   "execution_count": 21,
   "id": "8a7eb8a4-98a8-4100-88a6-8d62d43a29c1",
   "metadata": {},
   "outputs": [
    {
     "data": {
      "text/plain": [
       "Text(0.5, 0, 'Relative Price Range')"
      ]
     },
     "execution_count": 21,
     "metadata": {},
     "output_type": "execute_result"
    },
    {
     "data": {
      "image/png": "[encoded data removed]",
      "text/plain": [
       "<Figure size 432x288 with 1 Axes>"
      ]
     },
     "metadata": {
      "needs_background": "light"
     },
     "output_type": "display_data"
    }
   ],
   "source": [
    "sns.scatterplot(train.RR, train.fwd_log_ret)\n",
    "plt.title('Next Day Log Returns vs Relative Price Range (volatility)') \n",
    "plt.xlabel('Relative Price Range')"
   ]
  },
  {
   "cell_type": "markdown",
   "id": "78c63cc4-81d0-4131-a2e1-69edb5ad00a2",
   "metadata": {},
   "source": [
    "### Correlations of features vs target"
   ]
  },
  {
   "cell_type": "code",
   "execution_count": 22,
   "id": "1107e084-1f3d-42df-9720-c98277a505e1",
   "metadata": {},
   "outputs": [
    {
     "data": {
      "text/plain": [
       "fwd_log_ret           1.000000\n",
       "fwd_pct_chg           0.998712\n",
       "fwd_ret               0.827821\n",
       "fwd_close_positive    0.667871\n",
       "log_ret_lag_6         0.049871\n",
       "sigma_lag_6           0.047553\n",
       "sigma_lag_2           0.045426\n",
       "log_ret_lag_5         0.037157\n",
       "log_ret_lag_7         0.036887\n",
       "log_ret_lag_3         0.031387\n",
       "volume                0.031338\n",
       "log_ret_lag_2         0.020126\n",
       "RR                    0.018527\n",
       "sigma_lag_1           0.018403\n",
       "sigma_lag_7           0.015279\n",
       "sigma_lag_3           0.012200\n",
       "log_ret_lag_4         0.005556\n",
       "log_ret_lag_1        -0.011469\n",
       "pct_chg              -0.012351\n",
       "sigma_lag_4          -0.016418\n",
       "sigma_lag_5          -0.039582\n",
       "close                -0.065933\n",
       "high                 -0.066128\n",
       "low                  -0.066747\n",
       "open                 -0.068015\n",
       "dtype: float64"
      ]
     },
     "execution_count": 22,
     "metadata": {},
     "output_type": "execute_result"
    }
   ],
   "source": [
    "# Check correlation of every feature besides encoded day name columns\n",
    "train[[col for col in train.columns if 'day_name' not in col]].corrwith(train.fwd_log_ret).sort_values(ascending=False)"
   ]
  },
  {
   "cell_type": "markdown",
   "id": "ed227964-8e8d-41f2-b062-00bb2048b47c",
   "metadata": {},
   "source": [
    "## Exploration Summary:\n",
    "- Average log returns vary widely depending on the day of the week and month of the year\n",
    "    - Daily dummies are included as modeling inputs\n",
    "- Returns do not appear to follow any seasonal tendencies\n",
    "- No features exhibit strong correlation with the regression target\n",
    "- Lag and autocorrelation plots of log returns do not show that future returns are correlation with past returns\n",
    "- Lag and autocorrelation plots of close price show a correlation with lags <50"
   ]
  },
  {
   "cell_type": "markdown",
   "id": "a15896c0-5376-49d4-a5eb-a4d0ba06dcfa",
   "metadata": {},
   "source": [
    "# Modeling\n",
    "\n",
    "- 11 different models were used to test the predictability of bitcoin prices:\n",
    "    - ARMA(2,1)\n",
    "    - 5 Regression models: Decision Tree Regressor,  SVR, LinearRegression, Tweedie Regressor, and LassoLars \n",
    "        - For SVR the non-default hyperparameters used were kernel='linear' and gamma=0.1\n",
    "        - For all other models default hyperparameters from Scikit-Learn were used\n",
    "    - 5 Classification models: \n",
    "        - Logistic Regression: C=10\n",
    "        - Decision Tree Classifier \n",
    "        - KNeighbors Classifier: n_neighbors=10 \n",
    "        - KNeighbors Classifier: n_neighbors=100\n",
    "        - KNeighbors Classifier: n_neighbors=1000\n",
    "- The regression and classification models were evaluated using both the traditional train, validate, test split used for exploration above as well as a rolling window approach for single-step forecasting. The ARMA model performs single-step forecasting.\n",
    "- In addition to the standard RMSE and Accuracy score metrics an average trade was calculated and used to determine the best performance on validate for later use on the withheld test set.\n",
    "    - Average trade was calculated as follows:\n",
    "        - For regression models, long trade used for positive sign, short trade used for negative sign\n",
    "        - For classification models, long trade used for True, short trade used for False\n",
    "        - The trade is assumed to be opened on the prediction day's close and closed on the next day's close, so return is: (tomorrow's close - today's close) for long trade and (today's close - tomorrow's close) for short trades\n",
    "- No transaction costs were considered\n",
    "- Separate baseline methodologies were used for comparing regression and classification model results, though the actual baseline values were equivalent:\n",
    "    - Regression: Entering long on every close and exiting at the next close\n",
    "    - Classification: Using the mode of the target (fwd_close_positive) from the train set, which was True, as the prediction for every value. Therefore this also resulted in entering long on every close and exiting at the next close."
   ]
  },
  {
   "cell_type": "markdown",
   "id": "dd88472a-081c-4098-8da4-4c04ba8708c6",
   "metadata": {},
   "source": [
    "### ARIMA"
   ]
  },
  {
   "cell_type": "markdown",
   "id": "f9e7409e-bfa6-433a-a41f-4ca5f7d07ed4",
   "metadata": {},
   "source": [
    "##### Determine order of ARIMA to use"
   ]
  },
  {
   "cell_type": "code",
   "execution_count": 23,
   "id": "32e11485-4668-4cda-9a38-6fca423bcf92",
   "metadata": {},
   "outputs": [
    {
     "name": "stdout",
     "output_type": "stream",
     "text": [
      "AD Fuller p stat < 0.05 True\n"
     ]
    }
   ],
   "source": [
    "result=adfuller(train.fwd_log_ret)\n",
    "print(\"AD Fuller p stat < 0.05\", result[1]<0.05)"
   ]
  },
  {
   "cell_type": "markdown",
   "id": "99300c04-8c5e-4437-a0f3-161f4b110200",
   "metadata": {},
   "source": [
    "#### Augmented Dickey-Fuller test results suggest time series does not have a unit root - > it is stationary. No differencing required."
   ]
  },
  {
   "cell_type": "markdown",
   "id": "eb857a97-5bab-48c9-93c0-c02ce03739db",
   "metadata": {},
   "source": [
    "##### Determine AR (p) term"
   ]
  },
  {
   "cell_type": "code",
   "execution_count": 24,
   "id": "92661687-d79b-4727-aeaa-e055a1fefd40",
   "metadata": {},
   "outputs": [
    {
     "data": {
      "image/png": "[encoded data removed]",
      "text/plain": [
       "<Figure size 432x288 with 1 Axes>"
      ]
     },
     "metadata": {
      "needs_background": "light"
     },
     "output_type": "display_data"
    }
   ],
   "source": [
    "plot_pacf(train.fwd_log_ret.diff().dropna())\n",
    "plt.show()"
   ]
  },
  {
   "cell_type": "markdown",
   "id": "534be4ff-5a9c-4ac6-9aa7-3e7a6b3f19c6",
   "metadata": {},
   "source": [
    "#### Lags from 1-10 are significant. Will test 0<p<11"
   ]
  },
  {
   "cell_type": "markdown",
   "id": "23b6c987-82ae-4fe6-aa25-8e8ac789b413",
   "metadata": {},
   "source": [
    "##### Autocorrelation plot - MA (q) term"
   ]
  },
  {
   "cell_type": "code",
   "execution_count": 25,
   "id": "fb1b9b3f-6f06-4dc1-b6b1-e94eefd576a4",
   "metadata": {},
   "outputs": [
    {
     "data": {
      "image/png": "[encoded data removed]",
      "text/plain": [
       "<Figure size 1440x576 with 1 Axes>"
      ]
     },
     "metadata": {
      "needs_background": "light"
     },
     "output_type": "display_data"
    }
   ],
   "source": [
    "plt.rcParams.update({'figure.figsize':(20,8)})\n",
    "plot_acf(train.fwd_log_ret.diff().dropna())\n",
    "plt.show()"
   ]
  },
  {
   "cell_type": "markdown",
   "id": "29911c98-0756-4f75-acb2-bec1fb302737",
   "metadata": {},
   "source": [
    "#### Set q as 1"
   ]
  },
  {
   "cell_type": "markdown",
   "id": "c46080f5-eb5c-47a4-9981-1abf3e31b210",
   "metadata": {},
   "source": [
    "### Run the ARIMA model evaluation"
   ]
  },
  {
   "cell_type": "code",
   "execution_count": 26,
   "id": "a14058d3-6afd-42bb-8503-d84b568ecc6a",
   "metadata": {},
   "outputs": [
    {
     "name": "stdout",
     "output_type": "stream",
     "text": [
      "\tTesting (2, 0, 1) 619/620\n",
      "\n"
     ]
    }
   ],
   "source": [
    "p_values = [2]\n",
    "d_values = [0]\n",
    "q_values = [1]\n",
    "# time consuming !!! \n",
    "results_df = model.evaluate_models(train, validate, 'fwd_log_ret', p_values, d_values, q_values)"
   ]
  },
  {
   "cell_type": "code",
   "execution_count": 27,
   "id": "1cb9b1eb-5b58-4a6e-98b4-dc25f2099cb6",
   "metadata": {},
   "outputs": [
    {
     "data": {
      "text/html": [
       "<div>\n",
       "<style scoped>\n",
       "    .dataframe tbody tr th:only-of-type {\n",
       "        vertical-align: middle;\n",
       "    }\n",
       "\n",
       "    .dataframe tbody tr th {\n",
       "        vertical-align: top;\n",
       "    }\n",
       "\n",
       "    .dataframe thead th {\n",
       "        text-align: right;\n",
       "    }\n",
       "</style>\n",
       "<table border=\"1\" class=\"dataframe\">\n",
       "  <thead>\n",
       "    <tr style=\"text-align: right;\">\n",
       "      <th></th>\n",
       "      <th>p</th>\n",
       "      <th>d</th>\n",
       "      <th>q</th>\n",
       "      <th>mse</th>\n",
       "      <th>test_predictions</th>\n",
       "      <th>test_actual</th>\n",
       "      <th>rmse</th>\n",
       "    </tr>\n",
       "  </thead>\n",
       "  <tbody>\n",
       "    <tr>\n",
       "      <th>0</th>\n",
       "      <td>2</td>\n",
       "      <td>0</td>\n",
       "      <td>1</td>\n",
       "      <td>0.001817</td>\n",
       "      <td>[0.0065101283954541594, 0.005818612746221494, ...</td>\n",
       "      <td>time\n",
       "2019-06-23    0.018230\n",
       "2019-06-24    0.06...</td>\n",
       "      <td>0.042623</td>\n",
       "    </tr>\n",
       "  </tbody>\n",
       "</table>\n",
       "</div>"
      ],
      "text/plain": [
       "   p  d  q       mse                                   test_predictions  \\\n",
       "0  2  0  1  0.001817  [0.0065101283954541594, 0.005818612746221494, ...   \n",
       "\n",
       "                                         test_actual      rmse  \n",
       "0  time\n",
       "2019-06-23    0.018230\n",
       "2019-06-24    0.06...  0.042623  "
      ]
     },
     "execution_count": 27,
     "metadata": {},
     "output_type": "execute_result"
    }
   ],
   "source": [
    "real = results_df.sort_values('mse').test_actual.array[0]\n",
    "\n",
    "results_df['rmse']= results_df.mse**0.5\n",
    "\n",
    "results_df.sort_values('rmse')"
   ]
  },
  {
   "cell_type": "markdown",
   "id": "e3dfbf2f-0019-45dd-8675-10048fa6bc99",
   "metadata": {
    "tags": []
   },
   "source": [
    "### Best ARIMA models (Running the ARIMA model is very time consuming so only summary is included here. Functions included in model.py to evaluate different p,d, and q values.):\n",
    "- p values < 5\n",
    "- Orders (2,1) and (3,1) resulted in RMSEs of 0.042623 and 0.042661"
   ]
  },
  {
   "cell_type": "code",
   "execution_count": 28,
   "id": "129981dc-97f6-4a4a-916a-9025770133a1",
   "metadata": {},
   "outputs": [
    {
     "name": "stdout",
     "output_type": "stream",
     "text": [
      "Average trade based on ARMA (2,1): 48.75\n"
     ]
    }
   ],
   "source": [
    "# Build dataframe with results from top ARIMA model to determine average trade\n",
    "arima_results = pd.DataFrame(index = validate.index)\n",
    "arima_results[\"predictions\"] = results_df.head(1).test_predictions[0]\n",
    "arima_results[\"actual\"] = results_df.head(1).test_actual[0].array\n",
    "arima_results[\"close\"] = validate.close\n",
    "arima_results[\"next_day_close\"] = validate.close.shift(-1)\n",
    "# Create a column saying whether we would go long or not (short) based on the \n",
    "arima_results[\"go_long\"] = arima_results['predictions']>0\n",
    "# Calculate the return that day (assumes always goes long or short every day)\n",
    "arima_results[\"ret\"] = np.where(arima_results[\"go_long\"], arima_results.next_day_close-arima_results.close, arima_results.close-arima_results.next_day_close)\n",
    "\n",
    "print(f\"Average trade based on ARMA (2,1): {arima_results.ret.mean():.2f}\")"
   ]
  },
  {
   "cell_type": "markdown",
   "id": "f0589efb-a127-45bc-b6af-206c3923df57",
   "metadata": {},
   "source": [
    "#### ARMA results show decent trade performance."
   ]
  },
  {
   "cell_type": "markdown",
   "id": "591c5a2f-0a95-424a-97b4-4f3980f5443a",
   "metadata": {},
   "source": [
    "### Using Regression and Classification Models"
   ]
  },
  {
   "cell_type": "markdown",
   "id": "b8e62446-c559-4681-818d-5cd8a9f540a2",
   "metadata": {},
   "source": [
    "#### Features to be used as inputs:\n",
    "- log returns lagged by 1-7 days\n",
    "- Relative Price Range (RR) volatility indicator (for t lags 1-7):\n",
    "    - 2$\\frac{H_t-L_t}{H_t+L_t}$\n",
    "- Parkinson range volatility estimator $\\sigma$ (for t lags 1-7):\n",
    "    - $\\sigma$ = $\\sqrt{\\frac{(ln(H_t/L_t))^2}{(4*ln(2))}}$\n",
    "- Day of the week dummy variables"
   ]
  },
  {
   "cell_type": "code",
   "execution_count": 29,
   "id": "7458ac74-8e12-479f-8451-968969db2df4",
   "metadata": {},
   "outputs": [],
   "source": [
    "# All available features are used to start\n",
    "features_to_use = ['log_ret_lag_1', 'log_ret_lag_2', 'log_ret_lag_3', 'log_ret_lag_4',\n",
    "       'log_ret_lag_5', 'log_ret_lag_6', 'log_ret_lag_7', 'RR', 'sigma_lag_1',\n",
    "       'sigma_lag_2', 'sigma_lag_3', 'sigma_lag_4', 'sigma_lag_5',\n",
    "       'sigma_lag_6', 'sigma_lag_7', 'day_name_Friday', 'day_name_Monday',\n",
    "       'day_name_Saturday', 'day_name_Sunday', 'day_name_Thursday',\n",
    "       'day_name_Tuesday', 'day_name_Wednesday']\n",
    "# List of features to scale\n",
    "features_to_scale = ['log_ret_lag_1', 'log_ret_lag_2', 'log_ret_lag_3', 'log_ret_lag_4',\n",
    "       'log_ret_lag_5', 'log_ret_lag_6', 'log_ret_lag_7', 'RR', 'sigma_lag_1',\n",
    "       'sigma_lag_2', 'sigma_lag_3', 'sigma_lag_4', 'sigma_lag_5',\n",
    "       'sigma_lag_6', 'sigma_lag_7']\n",
    "# Specifying the target is necessary as regression and classification have different targets\n",
    "target = 'fwd_log_ret'\n",
    "\n",
    "# Return scaled datasets\n",
    "X_train_scaled, X_validate_scaled, X_test_scaled, y_train, y_validate, y_test = model.scale_datasets(train, validate, test, target, features_to_use, features_to_scale)"
   ]
  },
  {
   "cell_type": "markdown",
   "id": "4184925b-f250-4b7e-bf9b-213edbbd18bf",
   "metadata": {},
   "source": [
    "### Iterate through regression models, uses existing train, validate, test split"
   ]
  },
  {
   "cell_type": "code",
   "execution_count": 30,
   "id": "a6a130fe-cc40-417b-8d0a-90355d83ace8",
   "metadata": {},
   "outputs": [
    {
     "name": "stdout",
     "output_type": "stream",
     "text": [
      "DecisionTreeRegressor\n",
      "SVR(gamma=0.1, kernel='linear')\n",
      "LinearRegression\n",
      "TweedieRegressor\n",
      "LassoLars\n",
      "DecisionTreeRegressor 87.8\n",
      "SVR(gamma=0.1, kernel='linear') 8.67\n",
      "LinearRegression 84.36\n",
      "TweedieRegressor 69.43\n",
      "LassoLars 63.86\n"
     ]
    }
   ],
   "source": [
    "# Specify regression models to test. Feature selection using recursive feature elimination is also available.\n",
    "reg_models = [DecisionTreeRegressor(),  SVR(kernel='linear',gamma=0.1,), LinearRegression(), TweedieRegressor(), LassoLars()]\n",
    "# Fits model using train and gets predictions for validate\n",
    "rmses_train, rmses_validate, y_train, y_validate = model.predict_regression(reg_models, X_train_scaled, X_validate_scaled, X_test_scaled, y_train, y_validate, perform_feature_selection=False)\n",
    "# Consolidates results into dataframe. Outputs average trade information for each model.\n",
    "avg_trade_model_results =  model.calculate_regression_results(reg_models, rmses_train, rmses_validate, validate, y_validate)"
   ]
  },
  {
   "cell_type": "markdown",
   "id": "c674d357-7e02-46c4-93fd-5a965bcb6838",
   "metadata": {},
   "source": [
    "### Iterate through classification models, uses existing train, validate, test split"
   ]
  },
  {
   "cell_type": "code",
   "execution_count": 31,
   "id": "db1aa19c-ca75-47db-8d7c-d6eda29ffa1f",
   "metadata": {},
   "outputs": [
    {
     "name": "stdout",
     "output_type": "stream",
     "text": [
      "LogisticRegression(C=10)\n",
      "DecisionTreeClassifier\n",
      "KNeighborsClassifier(n_neighbors=10)\n",
      "KNeighborsClassifier(n_neighbors=100)\n",
      "KNeighborsClassifier(n_neighbors=1000)\n",
      "LogisticRegression(C=10) 28.98\n",
      "DecisionTreeClassifier 28.76\n",
      "KNeighborsClassifier(n_neighbors=10) 6.39\n",
      "KNeighborsClassifier(n_neighbors=100) 41.37\n",
      "KNeighborsClassifier(n_neighbors=1000) 63.86\n"
     ]
    }
   ],
   "source": [
    "class_models = [LogisticRegression(C=10), \n",
    "                DecisionTreeClassifier(max_depth=None),\n",
    "                KNeighborsClassifier(n_neighbors=10), \n",
    "                KNeighborsClassifier(n_neighbors=100), \n",
    "                KNeighborsClassifier(n_neighbors=1000)]\n",
    "\n",
    "# Define the target as the binary option\n",
    "y_train = train[['fwd_close_positive']]\n",
    "y_validate = validate[['fwd_close_positive']]\n",
    "\n",
    "# Perform predictions\n",
    "accuracies_train, accuracies_validate, y_train, y_validate = model.predict_classification(class_models, X_train_scaled, X_validate_scaled, X_test_scaled, y_train, y_validate, perform_feature_selection=False)\n",
    "# Put results into dataframe\n",
    "class_avg_trade_model_results =  model.calculate_classification_results(class_models, accuracies_train, accuracies_validate, validate, y_validate)"
   ]
  },
  {
   "cell_type": "code",
   "execution_count": 32,
   "id": "4c7d531b-ef2b-4d7d-a7bb-73115165232e",
   "metadata": {},
   "outputs": [],
   "source": [
    "# Add classification results from standard data split\n",
    "avg_trade_model_results = avg_trade_model_results.append(class_avg_trade_model_results)"
   ]
  },
  {
   "cell_type": "markdown",
   "id": "e210fa8c-4b5b-46a3-abab-546e0abb2fff",
   "metadata": {
    "tags": []
   },
   "source": [
    "## Alternative data split - perform modeling using one-step ahead forecasting (rolling window)\n",
    "- Each log return in validate is predicted using a model trained on the preceding 1033 observerations (length of train)\n",
    "- After making the prediction the first row used for train is removed and the last validate row is added to the train set\n",
    "- The result is a prediction for each validate day that is compared to the actual value of log return"
   ]
  },
  {
   "cell_type": "markdown",
   "id": "cdc4e3bb-6971-4410-8310-0801ab0720c6",
   "metadata": {},
   "source": [
    "### Regression models - single step forecasting"
   ]
  },
  {
   "cell_type": "code",
   "execution_count": 33,
   "id": "aa067718-1a39-4931-8f0f-40ebb958c7a7",
   "metadata": {},
   "outputs": [
    {
     "name": "stdout",
     "output_type": "stream",
     "text": [
      "DecisionTreeRegressor avg validate rmse 0.06043352377107349 2021-03-02\n",
      "SVR(gamma=0.1, kernel='linear') avg validate rmse 0.04654232229653415521-03-02\n",
      "LinearRegression avg validate rmse 0.0434349044883176262021-03-02\n",
      "TweedieRegressor avg validate rmse 0.0428530217936425942021-03-02\n",
      "LassoLars avg validate rmse 0.0428684732596698662021-03-02\n"
     ]
    }
   ],
   "source": [
    "target = 'fwd_log_ret'\n",
    "y_train = train[[target]]\n",
    "y_validate = validate[[target]]\n",
    "\n",
    "reg_model_results = {}\n",
    "\n",
    "# Specify regression models to test. Feature selection using recursive feature elimination is also available.\n",
    "reg_models = [DecisionTreeRegressor(),  SVR(kernel='linear',gamma=0.1,), LinearRegression(), TweedieRegressor(), LassoLars()]\n",
    "\n",
    "for model_under_test in reg_models:\n",
    "    \n",
    "    model_name = model_under_test.__repr__().split('()')[0]\n",
    "    \n",
    "    # Perform rolling predictions\n",
    "    train_rolling_predictions, train_rolling_actuals, validate_rolling_predictions, validate_rolling_actuals = model.get_rolling_predictions(X_train_scaled, X_validate_scaled, y_train, y_validate, model_under_test, 'fwd_log_ret')\n",
    "    \n",
    "    # Calculate validate RMSE\n",
    "    validate_rmse = mean_squared_error(validate_rolling_actuals, [v[0] for v in validate_rolling_predictions], squared=False)\n",
    "    \n",
    "    print(model_name,\"avg validate rmse\",validate_rmse)\n",
    "    \n",
    "    # Create a dataframe with actual validate log returns, predictions, close prices, next day close prices\n",
    "    validate_res = pd.DataFrame()\n",
    "    validate_res['actual'] = validate_rolling_actuals\n",
    "    validate_res['predictions'] = [v[0] for v in validate_rolling_predictions]\n",
    "    \n",
    "    # Set result index to validate's index\n",
    "    validate_res.index = validate.index\n",
    "    \n",
    "    # Transfer close values over to results dataframe to allow for return calculation\n",
    "    validate_res[\"close\"] = validate.close\n",
    "    validate_res[\"next_day_close\"] = validate.close.shift(-1)\n",
    "    # Create a column for whether we would go long or not (short) based on the sign of the predictions value\n",
    "    validate_res[\"go_long\"] = validate_res['predictions']>0\n",
    "    # Calculate the return that day (assumes always goes long or short every day)\n",
    "    validate_res[\"ret\"] = np.where(validate_res[\"go_long\"], validate_res.next_day_close-validate_res.close, validate_res.close-validate_res.next_day_close)\n",
    "    \n",
    "    # Store validate results in dictionary\n",
    "    reg_model_results[model_name] = validate_res\n",
    "    reg_model_results[model_name+\"_rmse\"] = validate_rmse\n",
    "\n"
   ]
  },
  {
   "cell_type": "markdown",
   "id": "b3dd80a7-fa4e-45be-b556-458377a82a58",
   "metadata": {},
   "source": [
    "#### Consolidate results into dataframe"
   ]
  },
  {
   "cell_type": "code",
   "execution_count": 34,
   "id": "b24a9670-e7a5-44ed-be36-8363d0b3b732",
   "metadata": {},
   "outputs": [],
   "source": [
    "# Create dataframe of results and append to existing results dataframe\n",
    "avg_trades = []\n",
    "rmses = []\n",
    "indices = []\n",
    "# iterate through each key in regression model results dictionary\n",
    "for key in reg_model_results.keys():\n",
    "    \n",
    "    # Store RMSE and avg trade data\n",
    "    if '_rmse' in key:\n",
    "        rmses.append(reg_model_results[key])\n",
    "    else:\n",
    "        avg_trades.append(reg_model_results[key].ret.mean())\n",
    "        indices.append(key+\"_single_step\")\n",
    "        \n",
    "reg_model_results_df = pd.DataFrame(data={'avg_trade':avg_trades,'rmse':rmses}, index = indices)\n",
    "\n",
    "avg_trade_model_results= avg_trade_model_results.append(reg_model_results_df)"
   ]
  },
  {
   "cell_type": "markdown",
   "id": "454da823-68e9-4432-abb1-adeb41bfffab",
   "metadata": {},
   "source": [
    "### Classification modeling - single step forecasting"
   ]
  },
  {
   "cell_type": "code",
   "execution_count": 35,
   "id": "0239d5f0-a6e0-4ea2-9e44-3798e4ba64d4",
   "metadata": {},
   "outputs": [
    {
     "name": "stdout",
     "output_type": "stream",
     "text": [
      "LogisticRegression(C=10) validate accuracy 0.50483870967741942021-03-02\n",
      "DecisionTreeClassifier validate accuracy 0.5145161290322581- 2021-03-02\n",
      "KNeighborsClassifier(n_neighbors=10) validate accuracy 0.52096774193548392021-03-02\n",
      "KNeighborsClassifier(n_neighbors=100) validate accuracy 0.51290322580645162021-03-02\n",
      "KNeighborsClassifier(n_neighbors=1000) validate accuracy 0.52903225806451612021-03-02\n"
     ]
    }
   ],
   "source": [
    "class_models = [LogisticRegression(C=10), \n",
    "                DecisionTreeClassifier(max_depth=None),\n",
    "                KNeighborsClassifier(n_neighbors=10), \n",
    "                KNeighborsClassifier(n_neighbors=100), \n",
    "                KNeighborsClassifier(n_neighbors=1000)]\n",
    "class_model_results = {}\n",
    "\n",
    "y_train = train[['fwd_close_positive']]\n",
    "y_validate = validate[['fwd_close_positive']]\n",
    "\n",
    "for model_under_test in class_models:\n",
    "    \n",
    "    model_name = model_under_test.__repr__().split('()')[0]\n",
    "    \n",
    "    train_rolling_predictions, train_rolling_actuals, validate_rolling_predictions, validate_rolling_actuals = model.get_rolling_predictions(X_train_scaled, X_validate_scaled, y_train, y_validate, model_under_test, 'fwd_close_positive')\n",
    "    \n",
    "    # Calculate validate accuracy\n",
    "    validate_accuracy = accuracy_score(validate_rolling_actuals, [v[0] for v in validate_rolling_predictions])\n",
    "    \n",
    "    print(model_name,\"validate accuracy\",validate_accuracy)\n",
    "    \n",
    "    # Create a dataframe with actual validate log returns, predictions, close prices, next day close prices\n",
    "    validate_res = pd.DataFrame()\n",
    "    validate_res['actual'] = validate_rolling_actuals\n",
    "    # validate_res = validate_res.T\n",
    "    # validate_res = validate_res.rename(columns = {'fwd_log_ret':'actual'})\n",
    "\n",
    "    validate_res['predictions'] = [v[0] for v in validate_rolling_predictions]\n",
    "    \n",
    "    validate_res.index = validate.index\n",
    "    \n",
    "    validate_res[\"close\"] = validate.close\n",
    "    validate_res[\"next_day_close\"] = validate.close.shift(-1)\n",
    "    # Create a column saying whether we would go long or not (short) based on the \n",
    "    validate_res[\"go_long\"] = validate_res['predictions']>0\n",
    "    # Calculate the return that day (assumes always goes long or short every day)\n",
    "    validate_res[\"ret\"] = np.where(validate_res[\"go_long\"], validate_res.next_day_close-validate_res.close, validate_res.close-validate_res.next_day_close)\n",
    "\n",
    "    class_model_results[model_name] = validate_res\n",
    "    class_model_results[model_name+\"_accuracy\"] = validate_accuracy\n",
    "\n",
    "# Create baseline dataframe\n",
    "baseline = pd.DataFrame(index = validate.index)\n",
    "baseline[\"close\"] = validate.close\n",
    "baseline[\"next_day_close\"] = validate.close.shift(-1)\n",
    "# Just predict most common value\n",
    "baseline[\"predictions\"] = train.fwd_close_positive.mode()[0]\n",
    "# Where prediction is true, go long\n",
    "baseline[\"go_long\"] = baseline[\"predictions\"]\n",
    "# Calculate the return that day (assumes always goes long or short every day)\n",
    "baseline[\"ret\"] = np.where(baseline[\"go_long\"], baseline.next_day_close-baseline.close, baseline.close-baseline.next_day_close)\n",
    "\n",
    "class_model_results[\"baseline\"] = baseline"
   ]
  },
  {
   "cell_type": "markdown",
   "id": "a1f5e8ca-4450-4003-9b89-b4b656d6083f",
   "metadata": {},
   "source": [
    "#### Consolidate results into dataframe"
   ]
  },
  {
   "cell_type": "code",
   "execution_count": 36,
   "id": "05966de5-8a09-4fe9-ac3a-bffbdf0f08ae",
   "metadata": {},
   "outputs": [],
   "source": [
    "avg_trades = []\n",
    "accuracies = []\n",
    "indices = []\n",
    "for key in class_model_results.keys():\n",
    "    \n",
    "    if '_accuracy' in key:\n",
    "        accuracies.append(class_model_results[key])\n",
    "    elif key == 'baseline':\n",
    "        accuracies.append(train.fwd_close_positive.mean())\n",
    "        avg_trades.append(class_model_results[key].ret.mean())\n",
    "        indices.append(key+\"_single_step\")\n",
    "    else:\n",
    "        avg_trades.append(class_model_results[key].ret.mean())\n",
    "        indices.append(key+\"_single_step\")\n",
    "        \n",
    "# Single step classification results\n",
    "class_model_results_df = pd.DataFrame(data={'avg_trade':avg_trades,'accuracy':accuracies}, index = indices)\n",
    "\n",
    "avg_trade_model_results = avg_trade_model_results.append(class_model_results_df)"
   ]
  },
  {
   "cell_type": "code",
   "execution_count": 37,
   "id": "62c546a4-b44f-4c24-9a5f-96317e6b9c85",
   "metadata": {},
   "outputs": [
    {
     "data": {
      "text/html": [
       "<div>\n",
       "<style scoped>\n",
       "    .dataframe tbody tr th:only-of-type {\n",
       "        vertical-align: middle;\n",
       "    }\n",
       "\n",
       "    .dataframe tbody tr th {\n",
       "        vertical-align: top;\n",
       "    }\n",
       "\n",
       "    .dataframe thead th {\n",
       "        text-align: right;\n",
       "    }\n",
       "</style>\n",
       "<table border=\"1\" class=\"dataframe\">\n",
       "  <thead>\n",
       "    <tr style=\"text-align: right;\">\n",
       "      <th></th>\n",
       "      <th>avg_trade</th>\n",
       "      <th>validate_rmse</th>\n",
       "      <th>train_rmse</th>\n",
       "      <th>validate_accuracy</th>\n",
       "      <th>train_accuracy</th>\n",
       "      <th>rmse</th>\n",
       "      <th>accuracy</th>\n",
       "    </tr>\n",
       "  </thead>\n",
       "  <tbody>\n",
       "    <tr>\n",
       "      <th>DecisionTreeRegressor</th>\n",
       "      <td>87.803199</td>\n",
       "      <td>0.054081</td>\n",
       "      <td>0.000000</td>\n",
       "      <td>NaN</td>\n",
       "      <td>NaN</td>\n",
       "      <td>NaN</td>\n",
       "      <td>NaN</td>\n",
       "    </tr>\n",
       "    <tr>\n",
       "      <th>LinearRegression</th>\n",
       "      <td>84.358998</td>\n",
       "      <td>0.043074</td>\n",
       "      <td>0.041392</td>\n",
       "      <td>NaN</td>\n",
       "      <td>NaN</td>\n",
       "      <td>NaN</td>\n",
       "      <td>NaN</td>\n",
       "    </tr>\n",
       "    <tr>\n",
       "      <th>TweedieRegressor</th>\n",
       "      <td>69.428142</td>\n",
       "      <td>0.042765</td>\n",
       "      <td>0.041693</td>\n",
       "      <td>NaN</td>\n",
       "      <td>NaN</td>\n",
       "      <td>NaN</td>\n",
       "      <td>NaN</td>\n",
       "    </tr>\n",
       "    <tr>\n",
       "      <th>LassoLars</th>\n",
       "      <td>63.856187</td>\n",
       "      <td>0.042774</td>\n",
       "      <td>0.041915</td>\n",
       "      <td>NaN</td>\n",
       "      <td>NaN</td>\n",
       "      <td>NaN</td>\n",
       "      <td>NaN</td>\n",
       "    </tr>\n",
       "    <tr>\n",
       "      <th>baseline_single_step</th>\n",
       "      <td>63.856187</td>\n",
       "      <td>NaN</td>\n",
       "      <td>NaN</td>\n",
       "      <td>NaN</td>\n",
       "      <td>NaN</td>\n",
       "      <td>NaN</td>\n",
       "      <td>0.562439</td>\n",
       "    </tr>\n",
       "    <tr>\n",
       "      <th>KNeighborsClassifier(n_neighbors=1000)</th>\n",
       "      <td>63.856187</td>\n",
       "      <td>NaN</td>\n",
       "      <td>NaN</td>\n",
       "      <td>0.529032</td>\n",
       "      <td>0.562439</td>\n",
       "      <td>NaN</td>\n",
       "      <td>NaN</td>\n",
       "    </tr>\n",
       "    <tr>\n",
       "      <th>KNeighborsClassifier(n_neighbors=1000)_single_step</th>\n",
       "      <td>63.856187</td>\n",
       "      <td>NaN</td>\n",
       "      <td>NaN</td>\n",
       "      <td>NaN</td>\n",
       "      <td>NaN</td>\n",
       "      <td>NaN</td>\n",
       "      <td>0.529032</td>\n",
       "    </tr>\n",
       "    <tr>\n",
       "      <th>buy_everyday</th>\n",
       "      <td>60.541129</td>\n",
       "      <td>NaN</td>\n",
       "      <td>NaN</td>\n",
       "      <td>NaN</td>\n",
       "      <td>NaN</td>\n",
       "      <td>NaN</td>\n",
       "      <td>NaN</td>\n",
       "    </tr>\n",
       "    <tr>\n",
       "      <th>buy_everyday</th>\n",
       "      <td>60.541129</td>\n",
       "      <td>NaN</td>\n",
       "      <td>NaN</td>\n",
       "      <td>NaN</td>\n",
       "      <td>NaN</td>\n",
       "      <td>NaN</td>\n",
       "      <td>NaN</td>\n",
       "    </tr>\n",
       "    <tr>\n",
       "      <th>LassoLars_single_step</th>\n",
       "      <td>49.811050</td>\n",
       "      <td>NaN</td>\n",
       "      <td>NaN</td>\n",
       "      <td>NaN</td>\n",
       "      <td>NaN</td>\n",
       "      <td>0.042868</td>\n",
       "      <td>NaN</td>\n",
       "    </tr>\n",
       "    <tr>\n",
       "      <th>ARIMA (2,0,1)</th>\n",
       "      <td>48.752504</td>\n",
       "      <td>NaN</td>\n",
       "      <td>NaN</td>\n",
       "      <td>NaN</td>\n",
       "      <td>NaN</td>\n",
       "      <td>0.042623</td>\n",
       "      <td>NaN</td>\n",
       "    </tr>\n",
       "    <tr>\n",
       "      <th>SVR(gamma=0.1, kernel='linear')_single_step</th>\n",
       "      <td>44.679321</td>\n",
       "      <td>NaN</td>\n",
       "      <td>NaN</td>\n",
       "      <td>NaN</td>\n",
       "      <td>NaN</td>\n",
       "      <td>0.046542</td>\n",
       "      <td>NaN</td>\n",
       "    </tr>\n",
       "    <tr>\n",
       "      <th>LinearRegression_single_step</th>\n",
       "      <td>44.237512</td>\n",
       "      <td>NaN</td>\n",
       "      <td>NaN</td>\n",
       "      <td>NaN</td>\n",
       "      <td>NaN</td>\n",
       "      <td>0.043435</td>\n",
       "      <td>NaN</td>\n",
       "    </tr>\n",
       "    <tr>\n",
       "      <th>KNeighborsClassifier(n_neighbors=100)_single_step</th>\n",
       "      <td>42.633279</td>\n",
       "      <td>NaN</td>\n",
       "      <td>NaN</td>\n",
       "      <td>NaN</td>\n",
       "      <td>NaN</td>\n",
       "      <td>NaN</td>\n",
       "      <td>0.512903</td>\n",
       "    </tr>\n",
       "    <tr>\n",
       "      <th>KNeighborsClassifier(n_neighbors=100)</th>\n",
       "      <td>41.367916</td>\n",
       "      <td>NaN</td>\n",
       "      <td>NaN</td>\n",
       "      <td>0.500000</td>\n",
       "      <td>0.570184</td>\n",
       "      <td>NaN</td>\n",
       "      <td>NaN</td>\n",
       "    </tr>\n",
       "    <tr>\n",
       "      <th>KNeighborsClassifier(n_neighbors=10)_single_step</th>\n",
       "      <td>38.374152</td>\n",
       "      <td>NaN</td>\n",
       "      <td>NaN</td>\n",
       "      <td>NaN</td>\n",
       "      <td>NaN</td>\n",
       "      <td>NaN</td>\n",
       "      <td>0.520968</td>\n",
       "    </tr>\n",
       "    <tr>\n",
       "      <th>LogisticRegression(C=10)</th>\n",
       "      <td>28.977415</td>\n",
       "      <td>NaN</td>\n",
       "      <td>NaN</td>\n",
       "      <td>0.503226</td>\n",
       "      <td>0.586641</td>\n",
       "      <td>NaN</td>\n",
       "      <td>NaN</td>\n",
       "    </tr>\n",
       "    <tr>\n",
       "      <th>DecisionTreeClassifier</th>\n",
       "      <td>28.760937</td>\n",
       "      <td>NaN</td>\n",
       "      <td>NaN</td>\n",
       "      <td>0.500000</td>\n",
       "      <td>1.000000</td>\n",
       "      <td>NaN</td>\n",
       "      <td>NaN</td>\n",
       "    </tr>\n",
       "    <tr>\n",
       "      <th>DecisionTreeRegressor_single_step</th>\n",
       "      <td>27.189467</td>\n",
       "      <td>NaN</td>\n",
       "      <td>NaN</td>\n",
       "      <td>NaN</td>\n",
       "      <td>NaN</td>\n",
       "      <td>0.060434</td>\n",
       "      <td>NaN</td>\n",
       "    </tr>\n",
       "    <tr>\n",
       "      <th>TweedieRegressor_single_step</th>\n",
       "      <td>12.852892</td>\n",
       "      <td>NaN</td>\n",
       "      <td>NaN</td>\n",
       "      <td>NaN</td>\n",
       "      <td>NaN</td>\n",
       "      <td>0.042853</td>\n",
       "      <td>NaN</td>\n",
       "    </tr>\n",
       "    <tr>\n",
       "      <th>SVR(gamma=0.1, kernel='linear')</th>\n",
       "      <td>8.673570</td>\n",
       "      <td>0.046134</td>\n",
       "      <td>0.044041</td>\n",
       "      <td>NaN</td>\n",
       "      <td>NaN</td>\n",
       "      <td>NaN</td>\n",
       "      <td>NaN</td>\n",
       "    </tr>\n",
       "    <tr>\n",
       "      <th>KNeighborsClassifier(n_neighbors=10)</th>\n",
       "      <td>6.387076</td>\n",
       "      <td>NaN</td>\n",
       "      <td>NaN</td>\n",
       "      <td>0.508065</td>\n",
       "      <td>0.642788</td>\n",
       "      <td>NaN</td>\n",
       "      <td>NaN</td>\n",
       "    </tr>\n",
       "    <tr>\n",
       "      <th>LogisticRegression(C=10)_single_step</th>\n",
       "      <td>-2.827690</td>\n",
       "      <td>NaN</td>\n",
       "      <td>NaN</td>\n",
       "      <td>NaN</td>\n",
       "      <td>NaN</td>\n",
       "      <td>NaN</td>\n",
       "      <td>0.504839</td>\n",
       "    </tr>\n",
       "    <tr>\n",
       "      <th>DecisionTreeClassifier_single_step</th>\n",
       "      <td>-31.440226</td>\n",
       "      <td>NaN</td>\n",
       "      <td>NaN</td>\n",
       "      <td>NaN</td>\n",
       "      <td>NaN</td>\n",
       "      <td>NaN</td>\n",
       "      <td>0.514516</td>\n",
       "    </tr>\n",
       "  </tbody>\n",
       "</table>\n",
       "</div>"
      ],
      "text/plain": [
       "                                                    avg_trade  validate_rmse  \\\n",
       "DecisionTreeRegressor                               87.803199       0.054081   \n",
       "LinearRegression                                    84.358998       0.043074   \n",
       "TweedieRegressor                                    69.428142       0.042765   \n",
       "LassoLars                                           63.856187       0.042774   \n",
       "baseline_single_step                                63.856187            NaN   \n",
       "KNeighborsClassifier(n_neighbors=1000)              63.856187            NaN   \n",
       "KNeighborsClassifier(n_neighbors=1000)_single_step  63.856187            NaN   \n",
       "buy_everyday                                        60.541129            NaN   \n",
       "buy_everyday                                        60.541129            NaN   \n",
       "LassoLars_single_step                               49.811050            NaN   \n",
       "ARIMA (2,0,1)                                       48.752504            NaN   \n",
       "SVR(gamma=0.1, kernel='linear')_single_step         44.679321            NaN   \n",
       "LinearRegression_single_step                        44.237512            NaN   \n",
       "KNeighborsClassifier(n_neighbors=100)_single_step   42.633279            NaN   \n",
       "KNeighborsClassifier(n_neighbors=100)               41.367916            NaN   \n",
       "KNeighborsClassifier(n_neighbors=10)_single_step    38.374152            NaN   \n",
       "LogisticRegression(C=10)                            28.977415            NaN   \n",
       "DecisionTreeClassifier                              28.760937            NaN   \n",
       "DecisionTreeRegressor_single_step                   27.189467            NaN   \n",
       "TweedieRegressor_single_step                        12.852892            NaN   \n",
       "SVR(gamma=0.1, kernel='linear')                      8.673570       0.046134   \n",
       "KNeighborsClassifier(n_neighbors=10)                 6.387076            NaN   \n",
       "LogisticRegression(C=10)_single_step                -2.827690            NaN   \n",
       "DecisionTreeClassifier_single_step                 -31.440226            NaN   \n",
       "\n",
       "                                                    train_rmse  \\\n",
       "DecisionTreeRegressor                                 0.000000   \n",
       "LinearRegression                                      0.041392   \n",
       "TweedieRegressor                                      0.041693   \n",
       "LassoLars                                             0.041915   \n",
       "baseline_single_step                                       NaN   \n",
       "KNeighborsClassifier(n_neighbors=1000)                     NaN   \n",
       "KNeighborsClassifier(n_neighbors=1000)_single_step         NaN   \n",
       "buy_everyday                                               NaN   \n",
       "buy_everyday                                               NaN   \n",
       "LassoLars_single_step                                      NaN   \n",
       "ARIMA (2,0,1)                                              NaN   \n",
       "SVR(gamma=0.1, kernel='linear')_single_step                NaN   \n",
       "LinearRegression_single_step                               NaN   \n",
       "KNeighborsClassifier(n_neighbors=100)_single_step          NaN   \n",
       "KNeighborsClassifier(n_neighbors=100)                      NaN   \n",
       "KNeighborsClassifier(n_neighbors=10)_single_step           NaN   \n",
       "LogisticRegression(C=10)                                   NaN   \n",
       "DecisionTreeClassifier                                     NaN   \n",
       "DecisionTreeRegressor_single_step                          NaN   \n",
       "TweedieRegressor_single_step                               NaN   \n",
       "SVR(gamma=0.1, kernel='linear')                       0.044041   \n",
       "KNeighborsClassifier(n_neighbors=10)                       NaN   \n",
       "LogisticRegression(C=10)_single_step                       NaN   \n",
       "DecisionTreeClassifier_single_step                         NaN   \n",
       "\n",
       "                                                    validate_accuracy  \\\n",
       "DecisionTreeRegressor                                             NaN   \n",
       "LinearRegression                                                  NaN   \n",
       "TweedieRegressor                                                  NaN   \n",
       "LassoLars                                                         NaN   \n",
       "baseline_single_step                                              NaN   \n",
       "KNeighborsClassifier(n_neighbors=1000)                       0.529032   \n",
       "KNeighborsClassifier(n_neighbors=1000)_single_step                NaN   \n",
       "buy_everyday                                                      NaN   \n",
       "buy_everyday                                                      NaN   \n",
       "LassoLars_single_step                                             NaN   \n",
       "ARIMA (2,0,1)                                                     NaN   \n",
       "SVR(gamma=0.1, kernel='linear')_single_step                       NaN   \n",
       "LinearRegression_single_step                                      NaN   \n",
       "KNeighborsClassifier(n_neighbors=100)_single_step                 NaN   \n",
       "KNeighborsClassifier(n_neighbors=100)                        0.500000   \n",
       "KNeighborsClassifier(n_neighbors=10)_single_step                  NaN   \n",
       "LogisticRegression(C=10)                                     0.503226   \n",
       "DecisionTreeClassifier                                       0.500000   \n",
       "DecisionTreeRegressor_single_step                                 NaN   \n",
       "TweedieRegressor_single_step                                      NaN   \n",
       "SVR(gamma=0.1, kernel='linear')                                   NaN   \n",
       "KNeighborsClassifier(n_neighbors=10)                         0.508065   \n",
       "LogisticRegression(C=10)_single_step                              NaN   \n",
       "DecisionTreeClassifier_single_step                                NaN   \n",
       "\n",
       "                                                    train_accuracy      rmse  \\\n",
       "DecisionTreeRegressor                                          NaN       NaN   \n",
       "LinearRegression                                               NaN       NaN   \n",
       "TweedieRegressor                                               NaN       NaN   \n",
       "LassoLars                                                      NaN       NaN   \n",
       "baseline_single_step                                           NaN       NaN   \n",
       "KNeighborsClassifier(n_neighbors=1000)                    0.562439       NaN   \n",
       "KNeighborsClassifier(n_neighbors=1000)_single_step             NaN       NaN   \n",
       "buy_everyday                                                   NaN       NaN   \n",
       "buy_everyday                                                   NaN       NaN   \n",
       "LassoLars_single_step                                          NaN  0.042868   \n",
       "ARIMA (2,0,1)                                                  NaN  0.042623   \n",
       "SVR(gamma=0.1, kernel='linear')_single_step                    NaN  0.046542   \n",
       "LinearRegression_single_step                                   NaN  0.043435   \n",
       "KNeighborsClassifier(n_neighbors=100)_single_step              NaN       NaN   \n",
       "KNeighborsClassifier(n_neighbors=100)                     0.570184       NaN   \n",
       "KNeighborsClassifier(n_neighbors=10)_single_step               NaN       NaN   \n",
       "LogisticRegression(C=10)                                  0.586641       NaN   \n",
       "DecisionTreeClassifier                                    1.000000       NaN   \n",
       "DecisionTreeRegressor_single_step                              NaN  0.060434   \n",
       "TweedieRegressor_single_step                                   NaN  0.042853   \n",
       "SVR(gamma=0.1, kernel='linear')                                NaN       NaN   \n",
       "KNeighborsClassifier(n_neighbors=10)                      0.642788       NaN   \n",
       "LogisticRegression(C=10)_single_step                           NaN       NaN   \n",
       "DecisionTreeClassifier_single_step                             NaN       NaN   \n",
       "\n",
       "                                                    accuracy  \n",
       "DecisionTreeRegressor                                    NaN  \n",
       "LinearRegression                                         NaN  \n",
       "TweedieRegressor                                         NaN  \n",
       "LassoLars                                                NaN  \n",
       "baseline_single_step                                0.562439  \n",
       "KNeighborsClassifier(n_neighbors=1000)                   NaN  \n",
       "KNeighborsClassifier(n_neighbors=1000)_single_step  0.529032  \n",
       "buy_everyday                                             NaN  \n",
       "buy_everyday                                             NaN  \n",
       "LassoLars_single_step                                    NaN  \n",
       "ARIMA (2,0,1)                                            NaN  \n",
       "SVR(gamma=0.1, kernel='linear')_single_step              NaN  \n",
       "LinearRegression_single_step                             NaN  \n",
       "KNeighborsClassifier(n_neighbors=100)_single_step   0.512903  \n",
       "KNeighborsClassifier(n_neighbors=100)                    NaN  \n",
       "KNeighborsClassifier(n_neighbors=10)_single_step    0.520968  \n",
       "LogisticRegression(C=10)                                 NaN  \n",
       "DecisionTreeClassifier                                   NaN  \n",
       "DecisionTreeRegressor_single_step                        NaN  \n",
       "TweedieRegressor_single_step                             NaN  \n",
       "SVR(gamma=0.1, kernel='linear')                          NaN  \n",
       "KNeighborsClassifier(n_neighbors=10)                     NaN  \n",
       "LogisticRegression(C=10)_single_step                0.504839  \n",
       "DecisionTreeClassifier_single_step                  0.514516  "
      ]
     },
     "execution_count": 37,
     "metadata": {},
     "output_type": "execute_result"
    }
   ],
   "source": [
    "# Add ARIMA modeling results for comparison\n",
    "avg_trade_model_results = avg_trade_model_results.append(pd.DataFrame(data = {'avg_trade':arima_results.ret.mean(), 'rmse':results_df.head(1).rmse[0]}, index = ['ARIMA (2,0,1)']))\n",
    "avg_trade_model_results.sort_values(by='avg_trade', ascending=False)"
   ]
  },
  {
   "cell_type": "markdown",
   "id": "7002e21c-54d5-4da0-944c-a43c1fa5cc26",
   "metadata": {},
   "source": [
    "### Top Model Results"
   ]
  },
  {
   "cell_type": "code",
   "execution_count": 38,
   "id": "af19f6f0-8671-41f1-89a9-9e093606523f",
   "metadata": {},
   "outputs": [
    {
     "data": {
      "text/html": [
       "<div>\n",
       "<style scoped>\n",
       "    .dataframe tbody tr th:only-of-type {\n",
       "        vertical-align: middle;\n",
       "    }\n",
       "\n",
       "    .dataframe tbody tr th {\n",
       "        vertical-align: top;\n",
       "    }\n",
       "\n",
       "    .dataframe thead th {\n",
       "        text-align: right;\n",
       "    }\n",
       "</style>\n",
       "<table border=\"1\" class=\"dataframe\">\n",
       "  <thead>\n",
       "    <tr style=\"text-align: right;\">\n",
       "      <th></th>\n",
       "      <th>avg_trade</th>\n",
       "      <th>validate_rmse</th>\n",
       "      <th>train_rmse</th>\n",
       "      <th>validate_accuracy</th>\n",
       "      <th>train_accuracy</th>\n",
       "      <th>rmse</th>\n",
       "      <th>accuracy</th>\n",
       "    </tr>\n",
       "  </thead>\n",
       "  <tbody>\n",
       "    <tr>\n",
       "      <th>DecisionTreeRegressor</th>\n",
       "      <td>87.803199</td>\n",
       "      <td>0.054081</td>\n",
       "      <td>0.000000</td>\n",
       "      <td>NaN</td>\n",
       "      <td>NaN</td>\n",
       "      <td>NaN</td>\n",
       "      <td>NaN</td>\n",
       "    </tr>\n",
       "    <tr>\n",
       "      <th>LinearRegression</th>\n",
       "      <td>84.358998</td>\n",
       "      <td>0.043074</td>\n",
       "      <td>0.041392</td>\n",
       "      <td>NaN</td>\n",
       "      <td>NaN</td>\n",
       "      <td>NaN</td>\n",
       "      <td>NaN</td>\n",
       "    </tr>\n",
       "    <tr>\n",
       "      <th>TweedieRegressor</th>\n",
       "      <td>69.428142</td>\n",
       "      <td>0.042765</td>\n",
       "      <td>0.041693</td>\n",
       "      <td>NaN</td>\n",
       "      <td>NaN</td>\n",
       "      <td>NaN</td>\n",
       "      <td>NaN</td>\n",
       "    </tr>\n",
       "    <tr>\n",
       "      <th>LassoLars</th>\n",
       "      <td>63.856187</td>\n",
       "      <td>0.042774</td>\n",
       "      <td>0.041915</td>\n",
       "      <td>NaN</td>\n",
       "      <td>NaN</td>\n",
       "      <td>NaN</td>\n",
       "      <td>NaN</td>\n",
       "    </tr>\n",
       "    <tr>\n",
       "      <th>baseline_single_step</th>\n",
       "      <td>63.856187</td>\n",
       "      <td>NaN</td>\n",
       "      <td>NaN</td>\n",
       "      <td>NaN</td>\n",
       "      <td>NaN</td>\n",
       "      <td>NaN</td>\n",
       "      <td>0.562439</td>\n",
       "    </tr>\n",
       "    <tr>\n",
       "      <th>KNeighborsClassifier(n_neighbors=1000)</th>\n",
       "      <td>63.856187</td>\n",
       "      <td>NaN</td>\n",
       "      <td>NaN</td>\n",
       "      <td>0.529032</td>\n",
       "      <td>0.562439</td>\n",
       "      <td>NaN</td>\n",
       "      <td>NaN</td>\n",
       "    </tr>\n",
       "    <tr>\n",
       "      <th>KNeighborsClassifier(n_neighbors=1000)_single_step</th>\n",
       "      <td>63.856187</td>\n",
       "      <td>NaN</td>\n",
       "      <td>NaN</td>\n",
       "      <td>NaN</td>\n",
       "      <td>NaN</td>\n",
       "      <td>NaN</td>\n",
       "      <td>0.529032</td>\n",
       "    </tr>\n",
       "    <tr>\n",
       "      <th>buy_everyday</th>\n",
       "      <td>60.541129</td>\n",
       "      <td>NaN</td>\n",
       "      <td>NaN</td>\n",
       "      <td>NaN</td>\n",
       "      <td>NaN</td>\n",
       "      <td>NaN</td>\n",
       "      <td>NaN</td>\n",
       "    </tr>\n",
       "  </tbody>\n",
       "</table>\n",
       "</div>"
      ],
      "text/plain": [
       "                                                    avg_trade  validate_rmse  \\\n",
       "DecisionTreeRegressor                               87.803199       0.054081   \n",
       "LinearRegression                                    84.358998       0.043074   \n",
       "TweedieRegressor                                    69.428142       0.042765   \n",
       "LassoLars                                           63.856187       0.042774   \n",
       "baseline_single_step                                63.856187            NaN   \n",
       "KNeighborsClassifier(n_neighbors=1000)              63.856187            NaN   \n",
       "KNeighborsClassifier(n_neighbors=1000)_single_step  63.856187            NaN   \n",
       "buy_everyday                                        60.541129            NaN   \n",
       "\n",
       "                                                    train_rmse  \\\n",
       "DecisionTreeRegressor                                 0.000000   \n",
       "LinearRegression                                      0.041392   \n",
       "TweedieRegressor                                      0.041693   \n",
       "LassoLars                                             0.041915   \n",
       "baseline_single_step                                       NaN   \n",
       "KNeighborsClassifier(n_neighbors=1000)                     NaN   \n",
       "KNeighborsClassifier(n_neighbors=1000)_single_step         NaN   \n",
       "buy_everyday                                               NaN   \n",
       "\n",
       "                                                    validate_accuracy  \\\n",
       "DecisionTreeRegressor                                             NaN   \n",
       "LinearRegression                                                  NaN   \n",
       "TweedieRegressor                                                  NaN   \n",
       "LassoLars                                                         NaN   \n",
       "baseline_single_step                                              NaN   \n",
       "KNeighborsClassifier(n_neighbors=1000)                       0.529032   \n",
       "KNeighborsClassifier(n_neighbors=1000)_single_step                NaN   \n",
       "buy_everyday                                                      NaN   \n",
       "\n",
       "                                                    train_accuracy  rmse  \\\n",
       "DecisionTreeRegressor                                          NaN   NaN   \n",
       "LinearRegression                                               NaN   NaN   \n",
       "TweedieRegressor                                               NaN   NaN   \n",
       "LassoLars                                                      NaN   NaN   \n",
       "baseline_single_step                                           NaN   NaN   \n",
       "KNeighborsClassifier(n_neighbors=1000)                    0.562439   NaN   \n",
       "KNeighborsClassifier(n_neighbors=1000)_single_step             NaN   NaN   \n",
       "buy_everyday                                                   NaN   NaN   \n",
       "\n",
       "                                                    accuracy  \n",
       "DecisionTreeRegressor                                    NaN  \n",
       "LinearRegression                                         NaN  \n",
       "TweedieRegressor                                         NaN  \n",
       "LassoLars                                                NaN  \n",
       "baseline_single_step                                0.562439  \n",
       "KNeighborsClassifier(n_neighbors=1000)                   NaN  \n",
       "KNeighborsClassifier(n_neighbors=1000)_single_step  0.529032  \n",
       "buy_everyday                                             NaN  "
      ]
     },
     "execution_count": 38,
     "metadata": {},
     "output_type": "execute_result"
    }
   ],
   "source": [
    "avg_trade_model_results.sort_values(by='avg_trade',ascending=False).head(8)"
   ]
  },
  {
   "cell_type": "markdown",
   "id": "66009871-b97d-4be5-b3f6-2a82ad691c07",
   "metadata": {},
   "source": [
    "### Takeaways after Validate:\n",
    "- The Decision Tree Regressor with default hyperparameters and standard train/validate/test split performed best on an average trade basis, but based on what appears to be severe overfitting (0 RMSE on train) will not be used on test. Linear Regression shows the best performance based on average trade and did not exhibit overfitting. This model will be tested on the withheld test data set. \n",
    "- Most models did worse than the baselines.\n",
    "- Single Step forecasting did worse than nearly every model forecasting using the standard train/validate/test split method.\n",
    "- Higher accuracy and lower RMSE scores did not always result in a better performing model on an average trade basis.\n",
    "- The ARMA model did not show superior performance relative to the machine learning models. "
   ]
  },
  {
   "cell_type": "markdown",
   "id": "16e234f1-fa84-4b80-8fd2-1383bbe7efce",
   "metadata": {
    "tags": []
   },
   "source": [
    "### Testing Linear Regression on Test set:"
   ]
  },
  {
   "cell_type": "code",
   "execution_count": 39,
   "id": "e7111796-614e-4966-b137-661df00745f1",
   "metadata": {},
   "outputs": [],
   "source": [
    "models = [LinearRegression()]"
   ]
  },
  {
   "cell_type": "code",
   "execution_count": 40,
   "id": "732bde1c-45b2-49ed-bd6e-db1d67d0c78c",
   "metadata": {},
   "outputs": [
    {
     "name": "stdout",
     "output_type": "stream",
     "text": [
      "LinearRegression\n"
     ]
    }
   ],
   "source": [
    "# Setup y_test for regression target\n",
    "y_train = train[['fwd_log_ret']]\n",
    "y_test = test[['fwd_log_ret']]\n",
    "rmses_train, rmses_test, y_train, y_test = model.predict_regression(models, X_train_scaled, X_test_scaled, X_test_scaled, y_train, y_validate = y_test, perform_feature_selection=False)"
   ]
  },
  {
   "cell_type": "code",
   "execution_count": 41,
   "id": "d11e580a-6a7d-420e-90ed-18a593191723",
   "metadata": {},
   "outputs": [
    {
     "name": "stdout",
     "output_type": "stream",
     "text": [
      "LinearRegression 38.31\n"
     ]
    }
   ],
   "source": [
    "test_results =  model.calculate_regression_results(models, rmses_train, rmses_test, test, y_test)"
   ]
  },
  {
   "cell_type": "code",
   "execution_count": 42,
   "id": "20318557-395a-4744-95bc-8cd9f585fd27",
   "metadata": {},
   "outputs": [
    {
     "data": {
      "text/html": [
       "<div>\n",
       "<style scoped>\n",
       "    .dataframe tbody tr th:only-of-type {\n",
       "        vertical-align: middle;\n",
       "    }\n",
       "\n",
       "    .dataframe tbody tr th {\n",
       "        vertical-align: top;\n",
       "    }\n",
       "\n",
       "    .dataframe thead th {\n",
       "        text-align: right;\n",
       "    }\n",
       "</style>\n",
       "<table border=\"1\" class=\"dataframe\">\n",
       "  <thead>\n",
       "    <tr style=\"text-align: right;\">\n",
       "      <th></th>\n",
       "      <th>avg_trade</th>\n",
       "      <th>validate_rmse</th>\n",
       "      <th>train_rmse</th>\n",
       "    </tr>\n",
       "  </thead>\n",
       "  <tbody>\n",
       "    <tr>\n",
       "      <th>LinearRegression</th>\n",
       "      <td>38.305593</td>\n",
       "      <td>0.0387</td>\n",
       "      <td>0.041392</td>\n",
       "    </tr>\n",
       "  </tbody>\n",
       "</table>\n",
       "</div>"
      ],
      "text/plain": [
       "                  avg_trade  validate_rmse  train_rmse\n",
       "LinearRegression  38.305593         0.0387    0.041392"
      ]
     },
     "execution_count": 42,
     "metadata": {},
     "output_type": "execute_result"
    }
   ],
   "source": [
    "test_results.head(1)"
   ]
  },
  {
   "cell_type": "markdown",
   "id": "aead59a1-ea8d-471d-a41b-0a87c5373bf5",
   "metadata": {},
   "source": [
    "### Average trade drops by about $50 but is still positive. RMSE actually improves from train to test."
   ]
  },
  {
   "cell_type": "markdown",
   "id": "5d0abf21-ad26-400d-be5f-1a42c1feeb9c",
   "metadata": {},
   "source": [
    "# Conclusion\n",
    "\n",
    "- Forecasting accuracy is highly variable across the different models tested for predicting Bitcoin returns. All models except two exhibited positive average trade performance and regression models outperformed classification models. The ARMA (2,1) model was inferior to the regression models but generally superior to the classification models.\n",
    "- The top model based on the highest average trade value and without overfitting from train to validate was Linear Regression with default hyperparameters. When used on the test set average trade dropped from 84 to 38, over 50% decrease but, encouragingly still positive. \n",
    "- Performing single step forecasts resulted in inferior performance vs multi-step (using a 50/30/20% train/validate/test split). For the top model average trade decreased by $40. \n",
    "- Returns do not appear to follow any seasonal tendencies"
   ]
  },
  {
   "cell_type": "markdown",
   "id": "e09e1f6c-e716-457c-8e7f-4560f64cc937",
   "metadata": {},
   "source": [
    "# Next Steps:\n",
    "- Explore other features and feature combinations that may be predictive of returns. The original paper also included blockchain information (such as on-chain volume, active addresses, and block sizes) as inputs, though for most of the most successful models only returns, volatility, and daily dummies were actually used. \n",
    "- Test additional hyperparameters for the models and different algorithms. Based on time and resource constraints some models used in the paper could not be tested, particularly for the single-step prediction method. \n",
    "- Test Ethereum and Litecoin\n",
    "- Generate additional trading statistics for strategies based on the model results. Here I only included average trade but other metrics such as win rate, Sharpe ratio, and max drawdown are important to know prior to implementing in live trading. \n",
    "- Test ensemble methods of determining whether a trade should be taken, per the paper. These were shown to be more successful than using a single model alone to make trading decisions. \n",
    "- Test models with higher frequency data"
   ]
  }
 ],
 "metadata": {
  "kernelspec": {
   "display_name": "quant",
   "language": "python",
   "name": "quant"
  },
  "language_info": {
   "codemirror_mode": {
    "name": "ipython",
    "version": 3
   },
   "file_extension": ".py",
   "mimetype": "text/x-python",
   "name": "python",
   "nbconvert_exporter": "python",
   "pygments_lexer": "ipython3",
   "version": "3.9.7"
  }
 },
 "nbformat": 4,
 "nbformat_minor": 5
}
