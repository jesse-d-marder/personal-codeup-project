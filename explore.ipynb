{
 "cells": [
  {
   "cell_type": "code",
   "execution_count": 482,
   "id": "64e5cdda-9012-40ee-ad91-57802f6ebe55",
   "metadata": {},
   "outputs": [],
   "source": [
    "from env import *\n",
    "from env_tradestation import *\n",
    "from data_retriever_simple import Client\n",
    "import acquire\n",
    "import prepare\n",
    "\n",
    "import cbpro\n",
    "import pandas as pd\n",
    "import numpy as np\n",
    "from datetime import datetime, timedelta\n",
    "import matplotlib.pyplot as plt\n",
    "import seaborn as sns\n",
    "\n",
    "import scipy.stats as stats\n",
    "import statsmodels.api as sm\n",
    "from statsmodels.tsa.arima.model import ARIMA\n",
    "from statsmodels.tsa.stattools import adfuller\n",
    "\n",
    "from sklearn.metrics import mean_squared_error, r2_score, accuracy_score\n",
    "from sklearn.linear_model import LinearRegression, LassoLars, TweedieRegressor, LogisticRegression\n",
    "from sklearn.tree import DecisionTreeRegressor, DecisionTreeClassifier\n",
    "from sklearn.svm import SVR, SVC\n",
    "from sklearn.ensemble import RandomForestRegressor, RandomForestClassifier\n",
    "from sklearn.neighbors import KNeighborsClassifier, KNeighborsRegressor\n",
    "from sklearn.preprocessing import PolynomialFeatures, StandardScaler, MinMaxScaler, RobustScaler\n",
    "from sklearn.feature_selection import RFE, SelectKBest\n",
    "\n",
    "import warnings\n",
    "warnings.filterwarnings(\"ignore\")\n",
    "\n",
    "np.random.seed(123)"
   ]
  },
  {
   "cell_type": "markdown",
   "id": "25cde387-3539-4f0c-8a32-c68ea2560946",
   "metadata": {},
   "source": [
    "Basis for much of this: https://jfin-swufe.springeropen.com/track/pdf/10.1186/s40854-020-00217-x.pdf"
   ]
  },
  {
   "cell_type": "markdown",
   "id": "edb21a68-bc02-433c-8e4e-f09bee20ab6b",
   "metadata": {},
   "source": [
    "# Personal Project - Compare the ability to predict cryptocurrency closing prices using machine learning and ARIMA models"
   ]
  },
  {
   "cell_type": "markdown",
   "id": "35a8ed79-8ea8-4cb3-bc34-b363b029fc46",
   "metadata": {},
   "source": [
    "## Start with acquiring crypto data\n",
    "- Will acquire Bitcoin, Ethereum, and Litecoin data as these have some of the longest price histories and greatest liquidity"
   ]
  },
  {
   "cell_type": "code",
   "execution_count": 2,
   "id": "ba80fbb4-662f-4813-a3e9-71ddbc91a7d9",
   "metadata": {},
   "outputs": [],
   "source": [
    "desired_products = ['BTC-USD',\n",
    " 'ETH-USD',\n",
    " 'LTC-USD']"
   ]
  },
  {
   "cell_type": "code",
   "execution_count": 3,
   "id": "8b2684bf-3ee7-4acc-bc03-68da8dedc757",
   "metadata": {},
   "outputs": [],
   "source": [
    "results = acquire.get_data_from_csv()"
   ]
  },
  {
   "cell_type": "code",
   "execution_count": 4,
   "id": "a1499397-1953-4c5a-b304-7002d69eee2f",
   "metadata": {},
   "outputs": [
    {
     "name": "stdout",
     "output_type": "stream",
     "text": [
      "Max first date is 2016-08-17 00:00:00, starting all dataframes at this day\n",
      "Corrected btc low data for 2017-04-15\n"
     ]
    }
   ],
   "source": [
    "prepared_results = prepare.prepare_crypto_data(results)"
   ]
  },
  {
   "cell_type": "markdown",
   "id": "a6dc0cbb-a9f2-44f8-b539-96160527399a",
   "metadata": {},
   "source": [
    "### First iteration only using BTC"
   ]
  },
  {
   "cell_type": "code",
   "execution_count": 5,
   "id": "dc68632b-2b1e-449a-8269-8afe5a298f33",
   "metadata": {},
   "outputs": [],
   "source": [
    "btc=prepared_results['BTC_USD']"
   ]
  },
  {
   "cell_type": "code",
   "execution_count": 6,
   "id": "078415c0-9ce7-44f4-a6e7-e88be4aa9d31",
   "metadata": {},
   "outputs": [
    {
     "data": {
      "text/plain": [
       "time      0\n",
       "low       0\n",
       "high      0\n",
       "open      0\n",
       "close     0\n",
       "volume    0\n",
       "dtype: int64"
      ]
     },
     "execution_count": 6,
     "metadata": {},
     "output_type": "execute_result"
    }
   ],
   "source": [
    "btc.isna().sum()"
   ]
  },
  {
   "cell_type": "markdown",
   "id": "20af3761-baa7-4855-8f18-ab10bdfc68e6",
   "metadata": {},
   "source": [
    "No nulls"
   ]
  },
  {
   "cell_type": "code",
   "execution_count": 7,
   "id": "b3075c9d-c08c-4c6c-8753-3ee55a61256f",
   "metadata": {},
   "outputs": [
    {
     "data": {
      "text/html": [
       "<div>\n",
       "<style scoped>\n",
       "    .dataframe tbody tr th:only-of-type {\n",
       "        vertical-align: middle;\n",
       "    }\n",
       "\n",
       "    .dataframe tbody tr th {\n",
       "        vertical-align: top;\n",
       "    }\n",
       "\n",
       "    .dataframe thead th {\n",
       "        text-align: right;\n",
       "    }\n",
       "</style>\n",
       "<table border=\"1\" class=\"dataframe\">\n",
       "  <thead>\n",
       "    <tr style=\"text-align: right;\">\n",
       "      <th></th>\n",
       "      <th>low</th>\n",
       "      <th>high</th>\n",
       "      <th>open</th>\n",
       "      <th>close</th>\n",
       "      <th>volume</th>\n",
       "    </tr>\n",
       "  </thead>\n",
       "  <tbody>\n",
       "    <tr>\n",
       "      <th>count</th>\n",
       "      <td>2075.000000</td>\n",
       "      <td>2075.000000</td>\n",
       "      <td>2075.000000</td>\n",
       "      <td>2075.000000</td>\n",
       "      <td>2075.000000</td>\n",
       "    </tr>\n",
       "    <tr>\n",
       "      <th>mean</th>\n",
       "      <td>15367.271296</td>\n",
       "      <td>16353.665287</td>\n",
       "      <td>15891.738578</td>\n",
       "      <td>15910.606708</td>\n",
       "      <td>14627.887462</td>\n",
       "    </tr>\n",
       "    <tr>\n",
       "      <th>std</th>\n",
       "      <td>16901.301024</td>\n",
       "      <td>17955.831798</td>\n",
       "      <td>17468.665539</td>\n",
       "      <td>17473.333789</td>\n",
       "      <td>11638.656327</td>\n",
       "    </tr>\n",
       "    <tr>\n",
       "      <th>min</th>\n",
       "      <td>568.120000</td>\n",
       "      <td>573.310000</td>\n",
       "      <td>570.830000</td>\n",
       "      <td>570.840000</td>\n",
       "      <td>683.798071</td>\n",
       "    </tr>\n",
       "    <tr>\n",
       "      <th>25%</th>\n",
       "      <td>4082.865000</td>\n",
       "      <td>4365.630000</td>\n",
       "      <td>4249.675000</td>\n",
       "      <td>4258.360000</td>\n",
       "      <td>7144.589967</td>\n",
       "    </tr>\n",
       "    <tr>\n",
       "      <th>50%</th>\n",
       "      <td>8215.660000</td>\n",
       "      <td>8760.430000</td>\n",
       "      <td>8522.300000</td>\n",
       "      <td>8525.070000</td>\n",
       "      <td>11718.880202</td>\n",
       "    </tr>\n",
       "    <tr>\n",
       "      <th>75%</th>\n",
       "      <td>17445.630000</td>\n",
       "      <td>18601.875000</td>\n",
       "      <td>17830.325000</td>\n",
       "      <td>17940.440000</td>\n",
       "      <td>18296.256136</td>\n",
       "    </tr>\n",
       "    <tr>\n",
       "      <th>max</th>\n",
       "      <td>66261.790000</td>\n",
       "      <td>69000.000000</td>\n",
       "      <td>67554.130000</td>\n",
       "      <td>67554.840000</td>\n",
       "      <td>130316.646844</td>\n",
       "    </tr>\n",
       "  </tbody>\n",
       "</table>\n",
       "</div>"
      ],
      "text/plain": [
       "                low          high          open         close         volume\n",
       "count   2075.000000   2075.000000   2075.000000   2075.000000    2075.000000\n",
       "mean   15367.271296  16353.665287  15891.738578  15910.606708   14627.887462\n",
       "std    16901.301024  17955.831798  17468.665539  17473.333789   11638.656327\n",
       "min      568.120000    573.310000    570.830000    570.840000     683.798071\n",
       "25%     4082.865000   4365.630000   4249.675000   4258.360000    7144.589967\n",
       "50%     8215.660000   8760.430000   8522.300000   8525.070000   11718.880202\n",
       "75%    17445.630000  18601.875000  17830.325000  17940.440000   18296.256136\n",
       "max    66261.790000  69000.000000  67554.130000  67554.840000  130316.646844"
      ]
     },
     "execution_count": 7,
     "metadata": {},
     "output_type": "execute_result"
    }
   ],
   "source": [
    "btc.describe()"
   ]
  },
  {
   "cell_type": "markdown",
   "id": "e695763a-697e-4cdb-a821-7fe8bec3d012",
   "metadata": {},
   "source": [
    "Min btc value of 0.06 is suspicious and should be corrected"
   ]
  },
  {
   "cell_type": "code",
   "execution_count": 8,
   "id": "aa46b2de-efdc-4db3-b379-9ae792d670bb",
   "metadata": {},
   "outputs": [],
   "source": [
    "# Incorporated into prepare\n",
    "# btc.index[btc.low == 0.06]\n",
    "\n",
    "# Gather minute data from that day to fix the low value\n",
    "# minute_data = acquire.acquire_crypto_data(acquire.get_full_product_info(['BTC-USD']),datetime(2017, 4, 15, 0,0,0), datetime(2017, 4, 15, 23, 59, 0), 60)\n",
    "\n",
    "# minute_data['BTC-USD']=minute_data['BTC-USD'].loc[(minute_data['BTC-USD'].index<'2017-04-15 23:00:00' )|(minute_data['BTC-USD'].index>'2017-04-15 23:50:00')]\n",
    "\n",
    "# minute_data['BTC-USD'].low.min()\n",
    "\n",
    "# btc.loc['2017-04-15','low'] = minute_data['BTC-USD'].low.min()"
   ]
  },
  {
   "cell_type": "code",
   "execution_count": 9,
   "id": "5c51ea01-3e08-4076-ac65-7eeeaa8b1e6c",
   "metadata": {},
   "outputs": [],
   "source": [
    "# auth_client = cbpro.AuthenticatedClient(api_key, secret_key, passphrase)"
   ]
  },
  {
   "cell_type": "code",
   "execution_count": 10,
   "id": "bf9e5ead-841f-4a08-b7bc-521110dc3c9b",
   "metadata": {},
   "outputs": [],
   "source": [
    "# desired_products_with_info = acquire.get_full_product_info(desired_products)"
   ]
  },
  {
   "cell_type": "code",
   "execution_count": 11,
   "id": "41546a8a-8d48-4673-93a8-2ffc297e930e",
   "metadata": {},
   "outputs": [],
   "source": [
    "# results = acquire.acquire_crypto_data(desired_products_with_info, datetime.now()-timedelta(days=3000), datetime.now(), minute_bars=86400)"
   ]
  },
  {
   "cell_type": "code",
   "execution_count": 12,
   "id": "724e7588-2222-4f35-8e03-e64d23222644",
   "metadata": {},
   "outputs": [
    {
     "data": {
      "text/plain": [
       "Text(0.5, 1.0, 'Bitcoin data starts earliest')"
      ]
     },
     "execution_count": 12,
     "metadata": {},
     "output_type": "execute_result"
    },
    {
     "data": {
      "image/png": "[encoded data removed]",
      "text/plain": [
       "<Figure size 432x288 with 1 Axes>"
      ]
     },
     "metadata": {
      "needs_background": "light"
     },
     "output_type": "display_data"
    }
   ],
   "source": [
    "results['BTC_USD'].close.plot(label='BTC')\n",
    "results['LTC_USD'].close.plot(label='LTC')\n",
    "results['ETH_USD'].close.plot(label='ETH')\n",
    "plt.legend()\n",
    "plt.title('Bitcoin data starts earliest')"
   ]
  },
  {
   "cell_type": "code",
   "execution_count": 13,
   "id": "c6258138-cf65-4079-90e2-3ebc99919301",
   "metadata": {},
   "outputs": [
    {
     "name": "stdout",
     "output_type": "stream",
     "text": [
      "Min data bitcoin:  2016-08-17 00:00:00\n",
      "Min data litecoin:  2016-08-17 00:00:00\n",
      "Min data ethereum:  2016-08-17 00:00:00\n"
     ]
    }
   ],
   "source": [
    "print('Min data bitcoin: ',results['BTC_USD'].index.min())\n",
    "print('Min data litecoin: ',results['LTC_USD'].index.min())\n",
    "print('Min data ethereum: ',results['ETH_USD'].index.min())"
   ]
  },
  {
   "cell_type": "markdown",
   "id": "ed403499-31d3-4917-a936-7cf2406b0a6a",
   "metadata": {},
   "source": [
    "Will truncate data so all starts at same day"
   ]
  },
  {
   "cell_type": "markdown",
   "id": "54d9ba6f-1001-4e65-838d-5c7c590e3169",
   "metadata": {},
   "source": [
    "### Volatility:\n",
    "- relative price range: RR\n",
    "- range volatility estimator of Parkinson: sigma  - lags 1-7\n",
    "\n",
    "#### Lagged log returns, 1-7 days earlier"
   ]
  },
  {
   "cell_type": "code",
   "execution_count": 14,
   "id": "4589879a-0419-4fa6-a11e-69be858dd585",
   "metadata": {},
   "outputs": [],
   "source": [
    "btc = prepare.add_features(btc)"
   ]
  },
  {
   "cell_type": "markdown",
   "id": "aac12e2a-1b83-4069-97e2-844cd444936c",
   "metadata": {},
   "source": [
    "## Add target and features (all added to prepare.py file)"
   ]
  },
  {
   "cell_type": "code",
   "execution_count": 15,
   "id": "71bf8109-1d29-4912-a637-10a61e22c02e",
   "metadata": {},
   "outputs": [],
   "source": [
    "# # forward 1 day log returns\n",
    "# btc[\"log_ret_fwd\"] = np.log(btc.close) - np.log(btc.close.shift(-1))\n",
    "# # forward standard returns\n",
    "# btc[\"ret_fwd\"] = btc.close.shift(-1) - btc.close\n",
    "# btc[\"pct_chg\"] = btc.close.pct_change()"
   ]
  },
  {
   "cell_type": "code",
   "execution_count": 16,
   "id": "341456fb-7e2f-45fc-9a4c-fe85223e8bb6",
   "metadata": {},
   "outputs": [],
   "source": [
    "# for i in range(1,8):\n",
    "#     btc[f'log_ret_lag_{i}'] = np.log(df.close) - np.log(df.close.shift(i))"
   ]
  },
  {
   "cell_type": "markdown",
   "id": "a867532f-451e-4683-b482-a9b3d5b61b72",
   "metadata": {
    "tags": []
   },
   "source": [
    "## Split data"
   ]
  },
  {
   "cell_type": "code",
   "execution_count": 17,
   "id": "83718950-3d56-458f-aacd-ef74cfd9d4d4",
   "metadata": {},
   "outputs": [],
   "source": [
    "train_size = int(len(btc) * .5)\n",
    "validate_size = int(len(btc) * .3)\n",
    "test_size = int(len(btc) - train_size - validate_size)\n",
    "validate_end_index = train_size + validate_size\n",
    "\n",
    "# split into train, validation, test\n",
    "train = btc[: train_size]\n",
    "validate = btc[train_size : validate_end_index]\n",
    "test = btc[validate_end_index : ]"
   ]
  },
  {
   "cell_type": "markdown",
   "id": "d116185b-ff84-4b98-8d02-95dae76e8b44",
   "metadata": {},
   "source": [
    "### Get summary statistics for each dataset"
   ]
  },
  {
   "cell_type": "code",
   "execution_count": 18,
   "id": "8690b9fa-32a0-487c-834e-64c38cb5729c",
   "metadata": {},
   "outputs": [],
   "source": [
    "summary_df = pd.DataFrame()\n",
    "def get_summary_statistics(df, target, index_name):\n",
    "    return pd.concat([summary_df,pd.DataFrame(data={'mean':df[target].mean()*100,\n",
    "                              'median':df[target].median()*100,\n",
    "                              'min':df[target].min()*100,\n",
    "                              'max':df[target].max()*100,\n",
    "                              'std':df[target].std()*100,\n",
    "                              'iqr':stats.iqr(df[target]),\n",
    "                              'skewness':stats.skew(df[target]),\n",
    "                              'excess_kurtosis':stats.kurtosis(df[target],fisher=True),\n",
    "                              'autocorrelation':sm.tsa.acf(df[target], nlags=1)[1],\n",
    "                                                   'start_sample_date': df.index.min(),\n",
    "                                                   'end_sample_date': df.index.max()}, index = [index_name])])"
   ]
  },
  {
   "cell_type": "code",
   "execution_count": 19,
   "id": "dca66850-9002-4f46-9587-c09cd2b37ffe",
   "metadata": {},
   "outputs": [
    {
     "data": {
      "text/html": [
       "<div>\n",
       "<style scoped>\n",
       "    .dataframe tbody tr th:only-of-type {\n",
       "        vertical-align: middle;\n",
       "    }\n",
       "\n",
       "    .dataframe tbody tr th {\n",
       "        vertical-align: top;\n",
       "    }\n",
       "\n",
       "    .dataframe thead th {\n",
       "        text-align: right;\n",
       "    }\n",
       "</style>\n",
       "<table border=\"1\" class=\"dataframe\">\n",
       "  <thead>\n",
       "    <tr style=\"text-align: right;\">\n",
       "      <th></th>\n",
       "      <th>mean</th>\n",
       "      <th>median</th>\n",
       "      <th>min</th>\n",
       "      <th>max</th>\n",
       "      <th>std</th>\n",
       "      <th>iqr</th>\n",
       "      <th>skewness</th>\n",
       "      <th>excess_kurtosis</th>\n",
       "      <th>autocorrelation</th>\n",
       "      <th>start_sample_date</th>\n",
       "      <th>end_sample_date</th>\n",
       "    </tr>\n",
       "  </thead>\n",
       "  <tbody>\n",
       "    <tr>\n",
       "      <th>btc_train</th>\n",
       "      <td>0.283637</td>\n",
       "      <td>0.311017</td>\n",
       "      <td>-17.067595</td>\n",
       "      <td>24.060603</td>\n",
       "      <td>4.19351</td>\n",
       "      <td>0.033026</td>\n",
       "      <td>0.05367</td>\n",
       "      <td>3.710479</td>\n",
       "      <td>-0.01151</td>\n",
       "      <td>2016-08-24</td>\n",
       "      <td>2019-06-22</td>\n",
       "    </tr>\n",
       "  </tbody>\n",
       "</table>\n",
       "</div>"
      ],
      "text/plain": [
       "               mean    median        min        max      std       iqr  \\\n",
       "btc_train  0.283637  0.311017 -17.067595  24.060603  4.19351  0.033026   \n",
       "\n",
       "           skewness  excess_kurtosis  autocorrelation start_sample_date  \\\n",
       "btc_train   0.05367         3.710479         -0.01151        2016-08-24   \n",
       "\n",
       "          end_sample_date  \n",
       "btc_train      2019-06-22  "
      ]
     },
     "execution_count": 19,
     "metadata": {},
     "output_type": "execute_result"
    }
   ],
   "source": [
    "get_summary_statistics(train, 'fwd_log_ret','btc_train')"
   ]
  },
  {
   "cell_type": "code",
   "execution_count": 20,
   "id": "82fa5455-3220-4aa5-979a-dc30463caf22",
   "metadata": {},
   "outputs": [
    {
     "data": {
      "text/html": [
       "<div>\n",
       "<style scoped>\n",
       "    .dataframe tbody tr th:only-of-type {\n",
       "        vertical-align: middle;\n",
       "    }\n",
       "\n",
       "    .dataframe tbody tr th {\n",
       "        vertical-align: top;\n",
       "    }\n",
       "\n",
       "    .dataframe thead th {\n",
       "        text-align: right;\n",
       "    }\n",
       "</style>\n",
       "<table border=\"1\" class=\"dataframe\">\n",
       "  <thead>\n",
       "    <tr style=\"text-align: right;\">\n",
       "      <th></th>\n",
       "      <th>mean</th>\n",
       "      <th>median</th>\n",
       "      <th>min</th>\n",
       "      <th>max</th>\n",
       "      <th>std</th>\n",
       "      <th>iqr</th>\n",
       "      <th>skewness</th>\n",
       "      <th>excess_kurtosis</th>\n",
       "      <th>autocorrelation</th>\n",
       "      <th>start_sample_date</th>\n",
       "      <th>end_sample_date</th>\n",
       "    </tr>\n",
       "  </thead>\n",
       "  <tbody>\n",
       "    <tr>\n",
       "      <th>btc_validate</th>\n",
       "      <td>0.241331</td>\n",
       "      <td>0.192699</td>\n",
       "      <td>-49.12261</td>\n",
       "      <td>17.807628</td>\n",
       "      <td>4.280663</td>\n",
       "      <td>0.035989</td>\n",
       "      <td>-2.286196</td>\n",
       "      <td>29.250919</td>\n",
       "      <td>-0.130142</td>\n",
       "      <td>2019-06-23</td>\n",
       "      <td>2021-03-03</td>\n",
       "    </tr>\n",
       "  </tbody>\n",
       "</table>\n",
       "</div>"
      ],
      "text/plain": [
       "                  mean    median       min        max       std       iqr  \\\n",
       "btc_validate  0.241331  0.192699 -49.12261  17.807628  4.280663  0.035989   \n",
       "\n",
       "              skewness  excess_kurtosis  autocorrelation start_sample_date  \\\n",
       "btc_validate -2.286196        29.250919        -0.130142        2019-06-23   \n",
       "\n",
       "             end_sample_date  \n",
       "btc_validate      2021-03-03  "
      ]
     },
     "execution_count": 20,
     "metadata": {},
     "output_type": "execute_result"
    }
   ],
   "source": [
    "get_summary_statistics(validate, 'fwd_log_ret','btc_validate')"
   ]
  },
  {
   "cell_type": "code",
   "execution_count": 21,
   "id": "4f6e426e-50a3-451e-a3bd-6894c5c6d21a",
   "metadata": {},
   "outputs": [
    {
     "data": {
      "text/html": [
       "<div>\n",
       "<style scoped>\n",
       "    .dataframe tbody tr th:only-of-type {\n",
       "        vertical-align: middle;\n",
       "    }\n",
       "\n",
       "    .dataframe tbody tr th {\n",
       "        vertical-align: top;\n",
       "    }\n",
       "\n",
       "    .dataframe thead th {\n",
       "        text-align: right;\n",
       "    }\n",
       "</style>\n",
       "<table border=\"1\" class=\"dataframe\">\n",
       "  <thead>\n",
       "    <tr style=\"text-align: right;\">\n",
       "      <th></th>\n",
       "      <th>mean</th>\n",
       "      <th>median</th>\n",
       "      <th>min</th>\n",
       "      <th>max</th>\n",
       "      <th>std</th>\n",
       "      <th>iqr</th>\n",
       "      <th>skewness</th>\n",
       "      <th>excess_kurtosis</th>\n",
       "      <th>autocorrelation</th>\n",
       "      <th>start_sample_date</th>\n",
       "      <th>end_sample_date</th>\n",
       "    </tr>\n",
       "  </thead>\n",
       "  <tbody>\n",
       "    <tr>\n",
       "      <th>btc_test</th>\n",
       "      <td>-0.047526</td>\n",
       "      <td>0.020542</td>\n",
       "      <td>-15.423099</td>\n",
       "      <td>13.555753</td>\n",
       "      <td>3.79929</td>\n",
       "      <td>0.042522</td>\n",
       "      <td>-0.163279</td>\n",
       "      <td>1.665123</td>\n",
       "      <td>-0.051122</td>\n",
       "      <td>2021-03-04</td>\n",
       "      <td>2022-04-21</td>\n",
       "    </tr>\n",
       "  </tbody>\n",
       "</table>\n",
       "</div>"
      ],
      "text/plain": [
       "              mean    median        min        max      std       iqr  \\\n",
       "btc_test -0.047526  0.020542 -15.423099  13.555753  3.79929  0.042522   \n",
       "\n",
       "          skewness  excess_kurtosis  autocorrelation start_sample_date  \\\n",
       "btc_test -0.163279         1.665123        -0.051122        2021-03-04   \n",
       "\n",
       "         end_sample_date  \n",
       "btc_test      2022-04-21  "
      ]
     },
     "execution_count": 21,
     "metadata": {},
     "output_type": "execute_result"
    }
   ],
   "source": [
    "get_summary_statistics(test, 'fwd_log_ret','btc_test')"
   ]
  },
  {
   "cell_type": "markdown",
   "id": "df01f8e7-0b22-4c0d-aa34-7021c927c5c2",
   "metadata": {},
   "source": [
    "### Some differences in descriptive statistics for each split of BTC data:\n",
    "- Train and validate have similar mean return\n",
    "- All sets have large double digit min and max log returns\n",
    "- All sets have fairly high standard deviations and iqr, showing the volatility of this currency\n"
   ]
  },
  {
   "cell_type": "code",
   "execution_count": 22,
   "id": "96121838-2cb1-42aa-b234-d599f25ce63f",
   "metadata": {},
   "outputs": [
    {
     "data": {
      "text/plain": [
       "<matplotlib.legend.Legend at 0x7fc12a432b80>"
      ]
     },
     "execution_count": 22,
     "metadata": {},
     "output_type": "execute_result"
    },
    {
     "data": {
      "image/png": "[encoded data removed]",
      "text/plain": [
       "<Figure size 432x288 with 1 Axes>"
      ]
     },
     "metadata": {
      "needs_background": "light"
     },
     "output_type": "display_data"
    }
   ],
   "source": [
    "train.close.plot(label='train')\n",
    "validate.close.plot(label='validate')\n",
    "test.close.plot(label='test')\n",
    "plt.legend()"
   ]
  },
  {
   "cell_type": "markdown",
   "id": "3467b2a2-8a3b-48b2-a5e9-5bcdea3067b2",
   "metadata": {},
   "source": [
    "### Differences in split samples:\n",
    "- Both train and validate include a huge runup, though only train has a large crash afterward\n",
    "- Test includes a crash from highs in 2021 followed by new all time highs later in the year followed by another crash"
   ]
  },
  {
   "cell_type": "markdown",
   "id": "a5ec2e71-48a6-4a88-9197-ff372acf0c4f",
   "metadata": {
    "tags": []
   },
   "source": [
    "### Target exploration:\n",
    "- primary regression target is forward log returns, which is the difference in close from tomorrow to today\n",
    "- classification target is whether next close is positive\n",
    "- returns used (vs absolute prices) so can compare between different time series\n",
    "- if assume prices are distributed log normally then log "
   ]
  },
  {
   "cell_type": "code",
   "execution_count": 23,
   "id": "416f14f3-19cb-41c7-aab4-a1aeae0b6637",
   "metadata": {},
   "outputs": [
    {
     "data": {
      "text/plain": [
       "<AxesSubplot:>"
      ]
     },
     "execution_count": 23,
     "metadata": {},
     "output_type": "execute_result"
    },
    {
     "data": {
      "image/png": "[encoded data removed]",
      "text/plain": [
       "<Figure size 432x288 with 1 Axes>"
      ]
     },
     "metadata": {
      "needs_background": "light"
     },
     "output_type": "display_data"
    }
   ],
   "source": [
    "train.fwd_ret.hist()"
   ]
  },
  {
   "cell_type": "code",
   "execution_count": 24,
   "id": "b91f0957-a46b-4d79-b930-0b4e3ca9bb68",
   "metadata": {},
   "outputs": [
    {
     "data": {
      "text/plain": [
       "Text(0.5, 1.0, 'Log returns used because assumed returns follow a log normal distribution\\nLog returns are also additive to allow for compounding easily')"
      ]
     },
     "execution_count": 24,
     "metadata": {},
     "output_type": "execute_result"
    },
    {
     "data": {
      "image/png": "[encoded data removed]",
      "text/plain": [
       "<Figure size 432x288 with 1 Axes>"
      ]
     },
     "metadata": {
      "needs_background": "light"
     },
     "output_type": "display_data"
    }
   ],
   "source": [
    "train.fwd_log_ret.plot()\n",
    "plt.title('Log returns used because assumed returns follow a log normal distribution\\nLog returns are also additive to allow for compounding easily')"
   ]
  },
  {
   "cell_type": "code",
   "execution_count": 25,
   "id": "850e7665-768c-4bbf-a3c1-c084ba4da5d8",
   "metadata": {},
   "outputs": [
    {
     "data": {
      "text/plain": [
       "Text(0.5, 1.0, 'More Normal Looking')"
      ]
     },
     "execution_count": 25,
     "metadata": {},
     "output_type": "execute_result"
    },
    {
     "data": {
      "image/png": "[encoded data removed]",
      "text/plain": [
       "<Figure size 432x288 with 1 Axes>"
      ]
     },
     "metadata": {
      "needs_background": "light"
     },
     "output_type": "display_data"
    }
   ],
   "source": [
    "train.fwd_log_ret.hist()\n",
    "plt.title('More Normal Looking')"
   ]
  },
  {
   "cell_type": "code",
   "execution_count": 26,
   "id": "3134c573-63d7-4a3f-8f28-5e57098536f4",
   "metadata": {},
   "outputs": [
    {
     "data": {
      "text/plain": [
       "<AxesSubplot:xlabel='time'>"
      ]
     },
     "execution_count": 26,
     "metadata": {},
     "output_type": "execute_result"
    },
    {
     "data": {
      "image/png": "[encoded data removed]",
      "text/plain": [
       "<Figure size 432x288 with 1 Axes>"
      ]
     },
     "metadata": {
      "needs_background": "light"
     },
     "output_type": "display_data"
    }
   ],
   "source": [
    "train.fwd_pct_chg.plot()"
   ]
  },
  {
   "cell_type": "code",
   "execution_count": 27,
   "id": "2193d669-776a-4dc2-ad30-8042dfeda070",
   "metadata": {},
   "outputs": [
    {
     "data": {
      "text/plain": [
       "Text(0.5, 1.0, 'Next Close Positive - fairly balanced')"
      ]
     },
     "execution_count": 27,
     "metadata": {},
     "output_type": "execute_result"
    },
    {
     "data": {
      "image/png": "[encoded data removed]",
      "text/plain": [
       "<Figure size 432x288 with 1 Axes>"
      ]
     },
     "metadata": {
      "needs_background": "light"
     },
     "output_type": "display_data"
    }
   ],
   "source": [
    "train.fwd_close_positive.value_counts(normalize=True).plot.bar()\n",
    "plt.title('Next Close Positive - fairly balanced')"
   ]
  },
  {
   "cell_type": "markdown",
   "id": "717dc813-3bf5-41e6-a940-e1661dba58e6",
   "metadata": {
    "tags": []
   },
   "source": [
    "### Are there any differences in log returns based on the day of the week or the month of the year?\n",
    "- Because this is looking at forward log returns it is actually looking at the following day's return"
   ]
  },
  {
   "cell_type": "code",
   "execution_count": 28,
   "id": "4614742c-3908-483b-a66e-1b13262a58fa",
   "metadata": {},
   "outputs": [
    {
     "data": {
      "text/plain": [
       "<matplotlib.lines.Line2D at 0x7fc1081369d0>"
      ]
     },
     "execution_count": 28,
     "metadata": {},
     "output_type": "execute_result"
    },
    {
     "data": {
      "image/png": "[encoded data removed]",
      "text/plain": [
       "<Figure size 432x288 with 1 Axes>"
      ]
     },
     "metadata": {
      "needs_background": "light"
     },
     "output_type": "display_data"
    }
   ],
   "source": [
    "train.groupby(train.index.day_name()).fwd_log_ret.mean().plot.bar()\n",
    "plt.axhline(train.fwd_log_ret.mean(), color = 'r')"
   ]
  },
  {
   "cell_type": "code",
   "execution_count": 29,
   "id": "a7b2f7f7-9de3-4bb3-85a5-a02a4a2910f5",
   "metadata": {},
   "outputs": [
    {
     "data": {
      "image/png": "[encoded data removed]",
      "text/plain": [
       "<Figure size 432x288 with 1 Axes>"
      ]
     },
     "metadata": {
      "needs_background": "light"
     },
     "output_type": "display_data"
    }
   ],
   "source": [
    "sns.boxplot(x=train.index.day_name(), y = train.fwd_log_ret, order=['Monday','Tuesday','Wednesday','Thursday','Friday','Saturday','Sunday'])\n",
    "plt.tight_layout()"
   ]
  },
  {
   "cell_type": "code",
   "execution_count": 30,
   "id": "d58913ca-ec52-4103-8bc6-d100e835cc4e",
   "metadata": {},
   "outputs": [
    {
     "name": "stdout",
     "output_type": "stream",
     "text": [
      "Wednesday -0.4382109049371638 False\n",
      "Thursday -0.19071391435173793 False\n",
      "Friday 1.2220108640716778 False\n",
      "Saturday -0.6757647160605057 False\n",
      "Sunday 0.22803172561984486 False\n",
      "Monday 0.45829650036842684 False\n",
      "Tuesday -0.5432212034679261 False\n"
     ]
    }
   ],
   "source": [
    "# Set alpha to 0.05\n",
    "alpha = 0.05\n",
    "overall_mean = train.fwd_log_ret.mean()\n",
    "for day_of_the_week in train.index.day_name().unique():\n",
    "    sample = train[train.index.day_name() == day_of_the_week]\n",
    "    t,p=stats.ttest_1samp(sample.fwd_log_ret, overall_mean)\n",
    "    print(day_of_the_week, t, p<alpha)"
   ]
  },
  {
   "cell_type": "code",
   "execution_count": 31,
   "id": "3f46859b-49e7-4184-8459-c7a9cb65105e",
   "metadata": {},
   "outputs": [
    {
     "data": {
      "image/png": "[encoded data removed]",
      "text/plain": [
       "<Figure size 432x288 with 1 Axes>"
      ]
     },
     "metadata": {
      "needs_background": "light"
     },
     "output_type": "display_data"
    }
   ],
   "source": [
    "train.groupby(train.index.month).fwd_log_ret.mean().plot.bar()\n",
    "plt.axhline(train.fwd_log_ret.mean(), color = 'r')\n",
    "plt.xlabel('Month')\n",
    "plt.ylabel('Average Forward Log Returns')\n",
    "None"
   ]
  },
  {
   "cell_type": "code",
   "execution_count": 32,
   "id": "18e18ef1-86bd-4b92-85b6-929025f7d51b",
   "metadata": {},
   "outputs": [
    {
     "name": "stdout",
     "output_type": "stream",
     "text": [
      "8 1.2273269594973495 False\n",
      "9 -1.1243058735938383 False\n",
      "10 1.3046282286404267 False\n",
      "11 -0.4214624142362868 False\n",
      "12 0.2842678944628774 False\n",
      "1 -1.636415104926473 False\n",
      "2 0.6457455426399578 False\n",
      "3 -2.0085106074230747 True\n",
      "4 1.6800486284375764 False\n",
      "5 1.4088257328256801 False\n",
      "6 -0.4410689548599772 False\n",
      "7 0.29825054760730546 False\n"
     ]
    }
   ],
   "source": [
    "overall_mean = train.fwd_log_ret.mean()\n",
    "for month_of_year in train.index.month.unique():\n",
    "    sample = train[train.index.month == month_of_year]\n",
    "    t,p=stats.ttest_1samp(sample.fwd_log_ret, overall_mean)\n",
    "    print(month_of_year, t, p<alpha)"
   ]
  },
  {
   "cell_type": "markdown",
   "id": "9528b815-b26d-441a-98c7-4172f9dd0d04",
   "metadata": {
    "tags": []
   },
   "source": [
    "### Takeaways:\n",
    "- All days exhibit positive log returns for the next day on average\n",
    "- There is wide variation depending on the day of the week though, suggesting day of the week matters when it comes to predicting returns\n",
    "- No day's returns are statistically different from the overall mean\n",
    "- Wednesday and Sunday have the widest spread in values, suggesting Monday and Thursday are some of the more volatile days of the week\n",
    "- No month except March exhibits average returns significantly different from the overall mean"
   ]
  },
  {
   "cell_type": "markdown",
   "id": "cb703868-045e-401e-93fa-e8ae22eff276",
   "metadata": {},
   "source": [
    "### Take a look at correlations - not very relevant given time series"
   ]
  },
  {
   "cell_type": "code",
   "execution_count": 33,
   "id": "51505763-4125-49e8-8fc5-7679a236564d",
   "metadata": {},
   "outputs": [
    {
     "data": {
      "text/plain": [
       "fwd_log_ret           1.000000\n",
       "fwd_ret               0.827821\n",
       "fwd_close_positive    0.667871\n",
       "log_ret_lag_6         0.049871\n",
       "sigma_lag_6           0.047553\n",
       "sigma_lag_2           0.045426\n",
       "log_ret_lag_5         0.037157\n",
       "log_ret_lag_7         0.036887\n",
       "log_ret_lag_3         0.031387\n",
       "volume                0.031338\n",
       "log_ret_lag_2         0.020126\n",
       "RR                    0.018527\n",
       "sigma_lag_1           0.018403\n",
       "sigma_lag_7           0.015279\n",
       "sigma_lag_3           0.012200\n",
       "log_ret_lag_4         0.005556\n",
       "log_ret_lag_1        -0.011469\n",
       "pct_chg              -0.012351\n",
       "sigma_lag_4          -0.016418\n",
       "sigma_lag_5          -0.039582\n",
       "close                -0.065933\n",
       "high                 -0.066128\n",
       "low                  -0.066747\n",
       "open                 -0.068015\n",
       "fwd_pct_chg          -0.998780\n",
       "dtype: float64"
      ]
     },
     "execution_count": 33,
     "metadata": {},
     "output_type": "execute_result"
    }
   ],
   "source": [
    "# Everything besides encoding day name columns\n",
    "train[[col for col in train.columns if 'day_name' not in col]].corrwith(train.fwd_log_ret).sort_values(ascending=False)"
   ]
  },
  {
   "cell_type": "markdown",
   "id": "279d8370-d7c3-420c-a189-aa300747a5d2",
   "metadata": {},
   "source": [
    "### Visualize target over time"
   ]
  },
  {
   "cell_type": "code",
   "execution_count": 34,
   "id": "23b05136-3677-4fc1-81de-572c2473e7ba",
   "metadata": {},
   "outputs": [
    {
     "data": {
      "text/plain": [
       "<matplotlib.legend.Legend at 0x7fc11c31f130>"
      ]
     },
     "execution_count": 34,
     "metadata": {},
     "output_type": "execute_result"
    },
    {
     "data": {
      "image/png": "[encoded data removed]",
      "text/plain": [
       "<Figure size 432x288 with 1 Axes>"
      ]
     },
     "metadata": {
      "needs_background": "light"
     },
     "output_type": "display_data"
    }
   ],
   "source": [
    "train.fwd_log_ret.rolling(5).mean().plot(label = '5 day',color = 'blue')\n",
    "train.fwd_log_ret.rolling(14).mean().plot(label = '14 day',color = 'r')\n",
    "train.fwd_log_ret.rolling(30).mean().plot(label = '30 day',color = 'black')\n",
    "plt.ylabel('Log Returns')\n",
    "plt.legend()"
   ]
  },
  {
   "cell_type": "markdown",
   "id": "5999ff6d-57fd-49cb-bede-69081354afb4",
   "metadata": {},
   "source": [
    "### Seasonal plot"
   ]
  },
  {
   "cell_type": "code",
   "execution_count": 35,
   "id": "c233782a-7a09-4241-badc-98ea06724f30",
   "metadata": {},
   "outputs": [
    {
     "data": {
      "text/plain": [
       "<matplotlib.legend.Legend at 0x7fc11c31f9d0>"
      ]
     },
     "execution_count": 35,
     "metadata": {},
     "output_type": "execute_result"
    },
    {
     "data": {
      "image/png": "[encoded data removed]",
      "text/plain": [
       "<Figure size 432x288 with 1 Axes>"
      ]
     },
     "metadata": {
      "needs_background": "light"
     },
     "output_type": "display_data"
    }
   ],
   "source": [
    "train.fwd_log_ret.groupby([train.index.year, train.index.month]).mean().unstack(0).plot(title='Seasonal Plot')\n",
    "plt.xlabel(\"Month\")\n",
    "plt.legend(bbox_to_anchor=(1, 1))"
   ]
  },
  {
   "cell_type": "markdown",
   "id": "0d38c58c-aedc-4c12-89a9-8f61fd0921e6",
   "metadata": {},
   "source": [
    "### Takeaways:\n",
    "- Every March there appears to be a big dip in returns, followed by big bounce up in April\n",
    "- No other months appear to show seasonality"
   ]
  },
  {
   "cell_type": "markdown",
   "id": "aa67b69d-8d28-421d-9ccf-94b339ed4e26",
   "metadata": {},
   "source": [
    "### Lag plot of log returns"
   ]
  },
  {
   "cell_type": "code",
   "execution_count": 36,
   "id": "139b1406-a583-42d1-b8b8-de0f00ce2b5e",
   "metadata": {},
   "outputs": [
    {
     "data": {
      "text/plain": [
       "Text(0.5, 1.0, '1 day lag plot of log returns\\nNo obvious relationship observed')"
      ]
     },
     "execution_count": 36,
     "metadata": {},
     "output_type": "execute_result"
    },
    {
     "data": {
      "image/png": "[encoded data removed]",
      "text/plain": [
       "<Figure size 432x288 with 1 Axes>"
      ]
     },
     "metadata": {
      "needs_background": "light"
     },
     "output_type": "display_data"
    }
   ],
   "source": [
    "pd.plotting.lag_plot(train.fwd_log_ret, lag = 1)\n",
    "plt.title('1 day lag plot of log returns\\nNo obvious relationship observed')"
   ]
  },
  {
   "cell_type": "code",
   "execution_count": 37,
   "id": "b439a415-c0ac-4067-add0-8623ff12f92a",
   "metadata": {},
   "outputs": [
    {
     "data": {
      "text/plain": [
       "Text(0.5, 1.0, '1 day lag plot of close price\\nDefinitely a linear looking relationship')"
      ]
     },
     "execution_count": 37,
     "metadata": {},
     "output_type": "execute_result"
    },
    {
     "data": {
      "image/png": "[encoded data removed]",
      "text/plain": [
       "<Figure size 432x288 with 1 Axes>"
      ]
     },
     "metadata": {
      "needs_background": "light"
     },
     "output_type": "display_data"
    }
   ],
   "source": [
    "pd.plotting.lag_plot(train.close, lag = 1)\n",
    "plt.title('1 day lag plot of close price\\nDefinitely a linear looking relationship')"
   ]
  },
  {
   "cell_type": "markdown",
   "id": "288fd6a6-e3a8-400b-9323-e2e6d3c40b17",
   "metadata": {},
   "source": [
    "### Autocorrelation of daily close - highest correlations with lags < 50"
   ]
  },
  {
   "cell_type": "code",
   "execution_count": 38,
   "id": "9d6d6508-e285-4dec-b786-7fa004d89cfc",
   "metadata": {},
   "outputs": [
    {
     "data": {
      "text/plain": [
       "Text(0.5, 1.0, 'No real seasonality evident')"
      ]
     },
     "execution_count": 38,
     "metadata": {},
     "output_type": "execute_result"
    },
    {
     "data": {
      "image/png": "[encoded data removed]",
      "text/plain": [
       "<Figure size 432x288 with 1 Axes>"
      ]
     },
     "metadata": {
      "needs_background": "light"
     },
     "output_type": "display_data"
    }
   ],
   "source": [
    "pd.plotting.autocorrelation_plot(train.close)\n",
    "plt.title('No real seasonality evident')"
   ]
  },
  {
   "cell_type": "markdown",
   "id": "ebaef931-c9aa-4984-8736-6bdca2e2180c",
   "metadata": {},
   "source": [
    "### Seasonal decomposition"
   ]
  },
  {
   "cell_type": "code",
   "execution_count": 39,
   "id": "e726946f-0046-42cd-89d2-06b1be8bdef1",
   "metadata": {},
   "outputs": [],
   "source": [
    "result = sm.tsa.seasonal_decompose(train.fwd_log_ret)\n",
    "decomposition = pd.DataFrame({\n",
    "    'y': result.observed,\n",
    "    'trend': result.trend,\n",
    "    'seasonal': result.seasonal,\n",
    "    'resid': result.resid,\n",
    "})"
   ]
  },
  {
   "cell_type": "code",
   "execution_count": 40,
   "id": "9a0f8741-34a7-4f50-8fb1-ba8fd0c68797",
   "metadata": {},
   "outputs": [
    {
     "data": {
      "text/plain": [
       "<AxesSubplot:xlabel='time'>"
      ]
     },
     "execution_count": 40,
     "metadata": {},
     "output_type": "execute_result"
    },
    {
     "data": {
      "image/png": "[encoded data removed]",
      "text/plain": [
       "<Figure size 432x288 with 1 Axes>"
      ]
     },
     "metadata": {
      "needs_background": "light"
     },
     "output_type": "display_data"
    }
   ],
   "source": [
    "decomposition.iloc[:,1:].plot()"
   ]
  },
  {
   "cell_type": "markdown",
   "id": "8e7342b2-ffd2-4c58-861c-95fda9451833",
   "metadata": {},
   "source": [
    "### No seasonality evident"
   ]
  },
  {
   "cell_type": "markdown",
   "id": "9798dafc-f0db-4289-b05e-a1d8287c9344",
   "metadata": {},
   "source": [
    "### Plotting some of the predictors vs returns"
   ]
  },
  {
   "cell_type": "code",
   "execution_count": 41,
   "id": "878b0872-d750-4f3f-8328-d47cbca2b653",
   "metadata": {},
   "outputs": [
    {
     "data": {
      "text/plain": [
       "Index(['time', 'low', 'high', 'open', 'close', 'volume', 'fwd_log_ret',\n",
       "       'fwd_ret', 'fwd_pct_chg', 'fwd_close_positive', 'pct_chg',\n",
       "       'log_ret_lag_1', 'log_ret_lag_2', 'log_ret_lag_3', 'log_ret_lag_4',\n",
       "       'log_ret_lag_5', 'log_ret_lag_6', 'log_ret_lag_7', 'RR', 'sigma_lag_1',\n",
       "       'sigma_lag_2', 'sigma_lag_3', 'sigma_lag_4', 'sigma_lag_5',\n",
       "       'sigma_lag_6', 'sigma_lag_7', 'day_name_Friday', 'day_name_Monday',\n",
       "       'day_name_Saturday', 'day_name_Sunday', 'day_name_Thursday',\n",
       "       'day_name_Tuesday', 'day_name_Wednesday'],\n",
       "      dtype='object')"
      ]
     },
     "execution_count": 41,
     "metadata": {},
     "output_type": "execute_result"
    }
   ],
   "source": [
    "train.columns"
   ]
  },
  {
   "cell_type": "code",
   "execution_count": 463,
   "id": "ae93da39-4361-4924-b1c4-6e148ddeff41",
   "metadata": {},
   "outputs": [
    {
     "data": {
      "text/plain": [
       "<AxesSubplot:xlabel='RR', ylabel='fwd_log_ret'>"
      ]
     },
     "execution_count": 463,
     "metadata": {},
     "output_type": "execute_result"
    },
    {
     "data": {
      "image/png": "[encoded data removed]",
      "text/plain": [
       "<Figure size 432x288 with 1 Axes>"
      ]
     },
     "metadata": {
      "needs_background": "light"
     },
     "output_type": "display_data"
    }
   ],
   "source": [
    "sns.scatterplot(train.RR, train.fwd_log_ret)"
   ]
  },
  {
   "cell_type": "markdown",
   "id": "1b10a11a-a3e8-45e4-925a-5fdaf2ecc3be",
   "metadata": {},
   "source": [
    "# Modeling\n",
    "- Will start with ARIMA\n",
    "- After ARIMA will try regression and classification models"
   ]
  },
  {
   "cell_type": "markdown",
   "id": "10493a68-94c1-498c-af5a-40eece4b7cb6",
   "metadata": {},
   "source": [
    "### Arima\n",
    "- Will set up a grid search for best parameters to use\n",
    "- Based on https://machinelearningmastery.com/grid-search-arima-hyperparameters-with-python/\n",
    "- No validate dataset needed as ARIMA will perform one day prediction and then will be retrained for next day"
   ]
  },
  {
   "cell_type": "code",
   "execution_count": 43,
   "id": "c1a51c7a-4800-440e-87c1-9c7cedb1c114",
   "metadata": {},
   "outputs": [],
   "source": [
    "def evaluate_arima_model(train, test, target, arima_order):\n",
    "    \"\"\" Evaluates an ARIMA model based on arima_order argument, train set, test set, and target. \n",
    "    Outputs error and predictions for every  timestep in test\"\"\"\n",
    "    train_target = train[target]\n",
    "    test_target = test[target]\n",
    "    history = [x for x in train_target]\n",
    "\n",
    "    # Make predictions\n",
    "    predictions = []\n",
    "    for t in range(len(test_target)):\n",
    "        print(f\"\\tTesting {arima_order} {t}/{len(test_target)}\", end=\"\\r\")\n",
    "        model = ARIMA(history, order = arima_order)\n",
    "        model_fit = model.fit()\n",
    "        # Forecast returns forecast value, standard error, and confidence interval - only need forecast value ([0])\n",
    "        yhat = model_fit.forecast()[0]\n",
    "        predictions.append(yhat)\n",
    "        # Adds the latest test value to history so it can be used to train\n",
    "        history.append(test_target[t])\n",
    "    error = mean_squared_error(test_target, predictions)\n",
    "    print(\"\\n\")\n",
    "    return error, test_target, predictions"
   ]
  },
  {
   "cell_type": "code",
   "execution_count": 44,
   "id": "6c872b1e-61b0-422d-b9b5-e4ec233895e2",
   "metadata": {},
   "outputs": [],
   "source": [
    "def evaluate_models(train, test, target, p_values, d_values, q_values):\n",
    "    mses=[]\n",
    "    prediction_list=[]\n",
    "    actual_test = []\n",
    "    orders = []\n",
    "    for p in p_values:\n",
    "        for d in d_values:\n",
    "            for q in q_values:\n",
    "                order = (p,d,q)\n",
    "                orders.append(order)\n",
    "                try:\n",
    "                    mse, test_target, predictions = evaluate_arima_model(train, test, target, order)\n",
    "                    mses.append(mse)\n",
    "                    prediction_list.append(predictions)\n",
    "                    actual_test.append(test_target)\n",
    "                except KeyboardInterrupt:\n",
    "                    print(\"Keyboard interrupt\")\n",
    "                    raise\n",
    "                except:\n",
    "                    print(f\"{order} didn't work, continuing with next order\")\n",
    "                    continue\n",
    "    results_df = pd.DataFrame.from_records(orders, columns = ['p','d','q'])\n",
    "    results_df[\"mse\"] = mses\n",
    "    results_df[\"test_predictions\"] = prediction_list\n",
    "    results_df[\"test_actual\"] = actual_test\n",
    "    return results_df"
   ]
  },
  {
   "cell_type": "code",
   "execution_count": 45,
   "id": "fad5e57b-0417-4c2d-9931-e917a84dc823",
   "metadata": {},
   "outputs": [],
   "source": [
    "# p_values = [1]\n",
    "# d_values = [3]\n",
    "# q_values = [3]\n",
    "# results_df = evaluate_models(train.iloc[:980], train.iloc[980:], 'fwd_log_ret', p_values, d_values, q_values)"
   ]
  },
  {
   "cell_type": "code",
   "execution_count": 46,
   "id": "81a47eb2-8de0-44ce-9fad-5abc8edf094f",
   "metadata": {},
   "outputs": [],
   "source": [
    "# results_df"
   ]
  },
  {
   "cell_type": "code",
   "execution_count": 47,
   "id": "e0832d8f-34ff-4041-ad53-e10e5143485a",
   "metadata": {},
   "outputs": [],
   "source": [
    "# real = results_df.test_actual[0]\n",
    "# predictions = results_df.test_predictions[0]"
   ]
  },
  {
   "cell_type": "code",
   "execution_count": 48,
   "id": "70236523-1ca6-44a9-b818-2bc0aa6c0913",
   "metadata": {},
   "outputs": [],
   "source": [
    "# plt.figure(figsize=(16,8))\n",
    "# plt.plot(train.iloc[980:].fwd_log_ret, label = \"actual\")\n",
    "# plt.plot(train.iloc[980:].index, predictions, label = \"predictions\")\n",
    "# plt.title(f\"Actual vs Predictions based on ARIMA 1,3,3: MSE {results_df.mse[0]:.5f}\")\n",
    "# plt.legend()\n",
    "# plt.tight_layout()"
   ]
  },
  {
   "cell_type": "markdown",
   "id": "fde6c642-4e86-48a2-97d3-5ed38a8d8975",
   "metadata": {},
   "source": [
    "### Best ARIMA parameters based on gridsearch of:\n",
    "p_values = [0,1,2]\n",
    "d_values = [0,1,2]\n",
    "q_values = [0,1,2]\n",
    "- (p,d,q) = (1,2,2) -> MSE of 0.001813\n",
    "- 2 is top q and d value\n",
    "- 1 and 0 top p value"
   ]
  },
  {
   "cell_type": "markdown",
   "id": "f1093492-96bf-4c09-9490-e36c5748c7e1",
   "metadata": {},
   "source": [
    "## Evaluate regression models"
   ]
  },
  {
   "cell_type": "code",
   "execution_count": 49,
   "id": "4bafca54-e878-4d6b-ad6e-28b35ee99e4d",
   "metadata": {},
   "outputs": [
    {
     "data": {
      "text/plain": [
       "Index(['time', 'low', 'high', 'open', 'close', 'volume', 'fwd_log_ret',\n",
       "       'fwd_ret', 'fwd_pct_chg', 'fwd_close_positive', 'pct_chg',\n",
       "       'log_ret_lag_1', 'log_ret_lag_2', 'log_ret_lag_3', 'log_ret_lag_4',\n",
       "       'log_ret_lag_5', 'log_ret_lag_6', 'log_ret_lag_7', 'RR', 'sigma_lag_1',\n",
       "       'sigma_lag_2', 'sigma_lag_3', 'sigma_lag_4', 'sigma_lag_5',\n",
       "       'sigma_lag_6', 'sigma_lag_7', 'day_name_Friday', 'day_name_Monday',\n",
       "       'day_name_Saturday', 'day_name_Sunday', 'day_name_Thursday',\n",
       "       'day_name_Tuesday', 'day_name_Wednesday'],\n",
       "      dtype='object')"
      ]
     },
     "execution_count": 49,
     "metadata": {},
     "output_type": "execute_result"
    }
   ],
   "source": [
    "train.columns"
   ]
  },
  {
   "cell_type": "code",
   "execution_count": 72,
   "id": "f0505c25-1dbc-405e-bf52-889c345137fb",
   "metadata": {},
   "outputs": [],
   "source": [
    "features_to_use = ['log_ret_lag_1', 'log_ret_lag_2', 'log_ret_lag_3', 'log_ret_lag_4',\n",
    "       'log_ret_lag_5', 'log_ret_lag_6', 'log_ret_lag_7', 'RR', 'sigma_lag_1',\n",
    "       'sigma_lag_2', 'sigma_lag_3', 'sigma_lag_4', 'sigma_lag_5',\n",
    "       'sigma_lag_6', 'sigma_lag_7', 'day_name_Friday', 'day_name_Monday',\n",
    "       'day_name_Saturday', 'day_name_Sunday', 'day_name_Thursday',\n",
    "       'day_name_Tuesday', 'day_name_Wednesday']\n",
    "features_to_scale = ['log_ret_lag_1', 'log_ret_lag_2', 'log_ret_lag_3', 'log_ret_lag_4',\n",
    "       'log_ret_lag_5', 'log_ret_lag_6', 'log_ret_lag_7', 'RR', 'sigma_lag_1',\n",
    "       'sigma_lag_2', 'sigma_lag_3', 'sigma_lag_4', 'sigma_lag_5',\n",
    "       'sigma_lag_6', 'sigma_lag_7']\n"
   ]
  },
  {
   "cell_type": "code",
   "execution_count": 73,
   "id": "8633cb63-dccf-4dd9-af30-7c441840e213",
   "metadata": {},
   "outputs": [],
   "source": [
    "# def evaluate_regression_model(train, validate, test, target, features_to_use, model):\n",
    "\n"
   ]
  },
  {
   "cell_type": "code",
   "execution_count": 74,
   "id": "131a6f0d-2d44-4519-8ef9-fc9133a4178c",
   "metadata": {},
   "outputs": [],
   "source": [
    "# model = LassoLars()\n"
   ]
  },
  {
   "cell_type": "code",
   "execution_count": 192,
   "id": "4d1454b7-ca00-4057-b589-f4a81b112c0d",
   "metadata": {},
   "outputs": [],
   "source": [
    "target = 'fwd_log_ret'\n",
    "# Segment out features into individual dataframes\n",
    "X_train = train[features_to_use]\n",
    "X_validate = validate[features_to_use]\n",
    "X_test = test[features_to_use]\n",
    "\n",
    "# Segment out target into individual dataframe\n",
    "y_train = train[[target]]\n",
    "y_validate = validate[[target]]\n",
    "y_test = test[[target]]\n",
    "\n",
    "# Will scale features using StandardScaler as sigmas are orders of magnitude different from log_ret\n",
    "scaler = StandardScaler()\n",
    "\n",
    "# Fit scaler to train. Transform validate and test based on fitted scaler. Concatenate to df with non-scaled features.\n",
    "X_train_scaled = pd.concat([X_train.drop(columns = features_to_scale),\n",
    "                            pd.DataFrame(data = scaler.fit_transform(X_train[features_to_scale]), \n",
    "                                         columns = features_to_scale, index = X_train.index)], \n",
    "                           axis=1)\n",
    "X_validate_scaled = pd.concat([X_validate.drop(columns = features_to_scale),\n",
    "                            pd.DataFrame(data = scaler.transform(X_validate[features_to_scale]), \n",
    "                                         columns = features_to_scale, index = X_validate.index)], \n",
    "                           axis=1)\n",
    "X_test_scaled = pd.concat([X_test.drop(columns = features_to_scale),\n",
    "                            pd.DataFrame(data = scaler.transform(X_test[features_to_scale]), \n",
    "                                         columns = features_to_scale, index = X_test.index)], \n",
    "                           axis=1)"
   ]
  },
  {
   "cell_type": "code",
   "execution_count": 84,
   "id": "e7356a56-7f01-4b4e-8b98-34c19bc6140b",
   "metadata": {},
   "outputs": [],
   "source": [
    "# Feature selection using model (argument)\n",
    "\n",
    "\n",
    "def get_top_features(X_train_scaled, y_train, model, target, n_features):\n",
    "\n",
    "    lm = model\n",
    "    \n",
    "    rfe = RFE(lm, n_features_to_select= n_features)\n",
    "\n",
    "    rfe.fit(X_train_scaled, y_train[[target]])\n",
    "\n",
    "    # Get mask of the columns selected\n",
    "    feature_mask = rfe.support_\n",
    "\n",
    "    # Get list of column names\n",
    "    rfe_feature = X_train_scaled.iloc[:,feature_mask].columns.tolist()\n",
    "\n",
    "    # view list of columns and their ranking\n",
    "\n",
    "    # get the ranks\n",
    "    var_ranks = rfe.ranking_\n",
    "    # get the variable names\n",
    "    var_names = X_train_scaled.columns.tolist()\n",
    "    # combine ranks and names into a df for clean viewing\n",
    "    rfe_ranks_df = pd.DataFrame({'Var': var_names, 'Rank': var_ranks})\n",
    "    # sort the df by rank\n",
    "    rfe_ranks_df.sort_values('Rank')\n",
    "    \n",
    "    return rfe_feature\n"
   ]
  },
  {
   "cell_type": "markdown",
   "id": "9cfa376c-7204-487f-ad47-1544fd8b81e5",
   "metadata": {},
   "source": [
    "### Evaluate Model on Train and Validate"
   ]
  },
  {
   "cell_type": "code",
   "execution_count": 476,
   "id": "a865a435-27e2-4f71-bbc9-d1e00475baf8",
   "metadata": {},
   "outputs": [],
   "source": [
    "models = [DecisionTreeRegressor(), KNeighborsRegressor(),  SVR(kernel='linear',gamma=0.1,), LinearRegression(), TweedieRegressor(), LassoLars()]\n",
    "# RandomForestRegressor(n_estimators=500),"
   ]
  },
  {
   "cell_type": "code",
   "execution_count": 477,
   "id": "b7cc93bf-4b86-452f-a10c-e866e1c063a1",
   "metadata": {},
   "outputs": [
    {
     "name": "stdout",
     "output_type": "stream",
     "text": [
      "DecisionTreeRegressor\n",
      "RMSE for DecisionTreeRegressor\n",
      "Training/In-Sample:  0.0 \n",
      "Validation/Out-of-Sample:  0.05408050822740693\n",
      "KNeighborsRegressor\n",
      "RMSE for KNeighborsRegressor\n",
      "Training/In-Sample:  0.03651841344212067 \n",
      "Validation/Out-of-Sample:  0.045294869653139995\n",
      "SVR(gamma=0.1, kernel='linear')\n",
      "RMSE for SVR(gamma=0.1, kernel='linear')\n",
      "Training/In-Sample:  0.044041103708558835 \n",
      "Validation/Out-of-Sample:  0.046133946938408665\n",
      "LinearRegression\n",
      "RMSE for LinearRegression\n",
      "Training/In-Sample:  0.04139187282716599 \n",
      "Validation/Out-of-Sample:  0.043074195015479474\n",
      "TweedieRegressor\n",
      "RMSE for TweedieRegressor\n",
      "Training/In-Sample:  0.04169251976588164 \n",
      "Validation/Out-of-Sample:  0.042765328851848174\n",
      "LassoLars\n",
      "RMSE for LassoLars\n",
      "Training/In-Sample:  0.04191479329921535 \n",
      "Validation/Out-of-Sample:  0.04277418289652522\n"
     ]
    }
   ],
   "source": [
    "rmses_validate={}\n",
    "perform_feature_selection = False\n",
    "\n",
    "for model in models:\n",
    "    \n",
    "    regression_model = model\n",
    "    \n",
    "    model_name = model.__repr__().split('()')[0]\n",
    "    \n",
    "    print(model_name)\n",
    "    \n",
    "    if perform_feature_selection:\n",
    "        \n",
    "        top_features = get_top_features(X_train_scaled, y_train, model,target, 16)\n",
    "        \n",
    "        X_train_scaled_featured = X_train_scaled[top_features]\n",
    "        X_validate_scaled_featured  = X_validate_scaled[top_features]\n",
    "        X_test_scaled_featured = X_test_scaled[top_features]\n",
    "    else:\n",
    "        X_train_scaled_featured = X_train_scaled\n",
    "        X_validate_scaled_featured = X_validate_scaled\n",
    "        X_test_scaled_featured = X_test_scaled\n",
    "    \n",
    "    regression_model.fit(X_train_scaled_featured, y_train.fwd_log_ret)\n",
    "\n",
    "    y_train[model_name] = regression_model.predict(X_train_scaled_featured)\n",
    "\n",
    "    rmse_train = mean_squared_error(y_train.fwd_log_ret, y_train[model_name], squared=False)\n",
    "\n",
    "    y_validate[model_name] = regression_model.predict(X_validate_scaled_featured)\n",
    "\n",
    "    rmse_validate = mean_squared_error(y_validate.fwd_log_ret, y_validate[model_name], squared=False)\n",
    "\n",
    "    print(f\"RMSE for {model_name}\\nTraining/In-Sample: \", rmse_train, \n",
    "          \"\\nValidation/Out-of-Sample: \", rmse_validate)\n",
    "    \n",
    "    rmses_validate[model_name] = rmse_validate"
   ]
  },
  {
   "cell_type": "markdown",
   "id": "c179e4ae-db4e-47ee-aa71-0027538c64dd",
   "metadata": {},
   "source": [
    "### calculate the average trade return"
   ]
  },
  {
   "cell_type": "code",
   "execution_count": 478,
   "id": "a76730ca-524a-4ecd-829a-9d9eca8fbc9e",
   "metadata": {},
   "outputs": [
    {
     "name": "stdout",
     "output_type": "stream",
     "text": [
      "DecisionTreeRegressor 87.8\n",
      "KNeighborsRegressor 23.54\n",
      "SVR(gamma=0.1, kernel='linear') 8.67\n",
      "LinearRegression 84.36\n",
      "TweedieRegressor 69.43\n",
      "LassoLars 63.86\n"
     ]
    }
   ],
   "source": [
    "# Get names of each model\n",
    "model_names = [m.__repr__().split('()')[0] for m in models]\n",
    "# Add close prices to y_validate to enable calculated trade return\n",
    "y_validate[\"close\"] = validate.close\n",
    "y_validate[\"next_day_close\"] = validate.close.shift(-1)\n",
    "\n",
    "model_rmse_validate = []\n",
    "model_average_trade_returns = []\n",
    "\n",
    "# Iterate through each model\n",
    "for mod in model_names:\n",
    "    # Create a column saying whether we would go long or not (short)\n",
    "    y_validate[mod+\"_long\"] = y_validate[mod]>0\n",
    "    # Calculate the return that day (assumes always goes long or short every day)\n",
    "    y_validate[mod+\"_ret\"] = np.where(y_validate[mod+\"_long\"], y_validate.next_day_close-y_validate.close, y_validate.close-y_validate.next_day_close)\n",
    "    print(mod,round(y_validate[mod+\"_ret\"].mean(),2))\n",
    "    model_average_trade_returns.append(y_validate[mod+\"_ret\"].mean())\n",
    "    model_rmse_validate.append(rmses_validate[mod])"
   ]
  },
  {
   "cell_type": "code",
   "execution_count": 479,
   "id": "f4080b3a-9b5c-499a-a84c-ec70711b1089",
   "metadata": {},
   "outputs": [
    {
     "data": {
      "text/html": [
       "<div>\n",
       "<style scoped>\n",
       "    .dataframe tbody tr th:only-of-type {\n",
       "        vertical-align: middle;\n",
       "    }\n",
       "\n",
       "    .dataframe tbody tr th {\n",
       "        vertical-align: top;\n",
       "    }\n",
       "\n",
       "    .dataframe thead th {\n",
       "        text-align: right;\n",
       "    }\n",
       "</style>\n",
       "<table border=\"1\" class=\"dataframe\">\n",
       "  <thead>\n",
       "    <tr style=\"text-align: right;\">\n",
       "      <th></th>\n",
       "      <th>avg_trade</th>\n",
       "      <th>rmse</th>\n",
       "    </tr>\n",
       "  </thead>\n",
       "  <tbody>\n",
       "    <tr>\n",
       "      <th>DecisionTreeRegressor</th>\n",
       "      <td>87.803199</td>\n",
       "      <td>0.054081</td>\n",
       "    </tr>\n",
       "    <tr>\n",
       "      <th>LinearRegression</th>\n",
       "      <td>84.358998</td>\n",
       "      <td>0.043074</td>\n",
       "    </tr>\n",
       "    <tr>\n",
       "      <th>TweedieRegressor</th>\n",
       "      <td>69.428142</td>\n",
       "      <td>0.042765</td>\n",
       "    </tr>\n",
       "    <tr>\n",
       "      <th>LassoLars</th>\n",
       "      <td>63.856187</td>\n",
       "      <td>0.042774</td>\n",
       "    </tr>\n",
       "    <tr>\n",
       "      <th>buy_everyday</th>\n",
       "      <td>60.541129</td>\n",
       "      <td>NaN</td>\n",
       "    </tr>\n",
       "    <tr>\n",
       "      <th>KNeighborsRegressor</th>\n",
       "      <td>23.536640</td>\n",
       "      <td>0.045295</td>\n",
       "    </tr>\n",
       "    <tr>\n",
       "      <th>SVR(gamma=0.1, kernel='linear')</th>\n",
       "      <td>8.673570</td>\n",
       "      <td>0.046134</td>\n",
       "    </tr>\n",
       "  </tbody>\n",
       "</table>\n",
       "</div>"
      ],
      "text/plain": [
       "                                 avg_trade      rmse\n",
       "DecisionTreeRegressor            87.803199  0.054081\n",
       "LinearRegression                 84.358998  0.043074\n",
       "TweedieRegressor                 69.428142  0.042765\n",
       "LassoLars                        63.856187  0.042774\n",
       "buy_everyday                     60.541129       NaN\n",
       "KNeighborsRegressor              23.536640  0.045295\n",
       "SVR(gamma=0.1, kernel='linear')   8.673570  0.046134"
      ]
     },
     "execution_count": 479,
     "metadata": {},
     "output_type": "execute_result"
    }
   ],
   "source": [
    "# Add return column to y_validate\n",
    "y_validate['daily_return'] = validate.fwd_ret\n",
    "\n",
    "# Create dataframe of avg trade and rmse values\n",
    "avg_trade_model = pd.DataFrame(data = {'avg_trade':model_average_trade_returns,'rmse':model_rmse_validate}, index = model_names)\n",
    "\n",
    "# Concatenate to the avg_trade_model df the avg trade we'd get if just bought every day and sold next (close to close)\n",
    "avg_trade_model= pd.concat([avg_trade_model,pd.DataFrame({'avg_trade':y_validate.daily_return.mean(),'rmse':np.nan}, index = ['buy_everyday'])])\n",
    "\n",
    "avg_trade_model.sort_values(by='avg_trade',ascending=False)"
   ]
  },
  {
   "cell_type": "markdown",
   "id": "d905db3d-8aa7-437b-9979-b29cd2c0aa20",
   "metadata": {},
   "source": [
    "### Set up rolling train/validate window:\n",
    "- single step \n",
    "- each log return in validate is predicted using a model trained on the preceding 1033 observerations (length of train)\n",
    "- after making the prediction the first row used for train is removed and the last validate row is added to the train set"
   ]
  },
  {
   "cell_type": "code",
   "execution_count": 469,
   "id": "8a2af8fc-3764-4d00-983c-2e991dcf9c30",
   "metadata": {},
   "outputs": [],
   "source": [
    "def get_rolling_predictions(X_train_scaled_featured, X_validate_scaled_featured, y_train, y_validate, model, target):\n",
    "                            \n",
    "    X_train_scaled_featured_rolled = X_train_scaled_featured.copy()\n",
    "    X_validate_scaled_featured_rolled = X_validate_scaled_featured.copy()\n",
    "    y_train_rolled = y_train.copy()              \n",
    "    \n",
    "    train_rolling_predictions = []\n",
    "    train_rolling_actuals = []\n",
    "    validate_rolling_predictions = []\n",
    "    validate_rolling_actuals = []\n",
    "\n",
    "    for validate_row in range(len(X_validate_scaled_featured)):\n",
    "\n",
    "        print(f\"{model} {validate_row+1}/{len(X_validate_scaled_featured)} Train X range: {X_train_scaled_featured_rolled.index.min().date()} - {X_train_scaled_featured_rolled.index.max().date()}\",end=\"\\r\")\n",
    "        # print(f\"\\nTrain X range: {X_train_scaled_featured_rolled.index.min().date()} - {X_train_scaled_featured_rolled.index.max().date()}\",end=\"\\r\")\n",
    "\n",
    "        # Fit the model to the training data\n",
    "        # print(f\"Fitting to train, X: {X_train_scaled_featured_rolled.index.min().date()} - {X_train_scaled_featured_rolled.index.max().date()}, y: {y_train_rolled.index.min().date()} - {y_train_rolled.index.max().date()}\") \n",
    "        model.fit(X_train_scaled_featured_rolled, y_train_rolled[target])\n",
    "\n",
    "        # Predict on Train\n",
    "        train_prediction = model.predict(X_train_scaled_featured_rolled)\n",
    "        train_actual = y_train_rolled[target]\n",
    "\n",
    "        # Append train results to list\n",
    "        # print(f\"First train prediction {train_prediction[0]} vs actual {train_actual[0]}\")\n",
    "        train_rolling_predictions.append(train_prediction)\n",
    "        train_rolling_actuals.append(train_actual)\n",
    "\n",
    "        # Predict on validate\n",
    "        validate_rolling_predictions.append(model.predict(X_validate_scaled_featured_rolled.iloc[validate_row].array.reshape(1,-1)))\n",
    "        validate_rolling_actuals.append(y_validate.iloc[validate_row][target])\n",
    "\n",
    "        # Remove the first row from X train and y train\n",
    "        X_train_scaled_featured_rolled = X_train_scaled_featured_rolled.iloc[1:]\n",
    "        y_train_rolled= y_train_rolled.iloc[1:]\n",
    "\n",
    "        # Add the latest row from X validate and y validate\n",
    "        X_train_scaled_featured_rolled = X_train_scaled_featured_rolled.append(X_validate_scaled_featured.iloc[validate_row])\n",
    "        y_train_rolled = y_train_rolled.append(y_validate.iloc[validate_row])\n",
    "    \n",
    "    return train_rolling_predictions, train_rolling_actuals, validate_rolling_predictions, validate_rolling_actuals\n"
   ]
  },
  {
   "cell_type": "code",
   "execution_count": 471,
   "id": "b12ebf8e-66ec-455e-8747-7e644bb89da0",
   "metadata": {},
   "outputs": [
    {
     "name": "stdout",
     "output_type": "stream",
     "text": [
      "LinearRegression avg validate rmse 0.0434349044883176262021-03-02\n",
      "DecisionTreeRegressor avg validate rmse 0.06131868865352343 2021-03-02\n"
     ]
    }
   ],
   "source": [
    "model_results = {}\n",
    "\n",
    "for model in models:\n",
    "    \n",
    "    model_name = model.__repr__().split('()')[0]\n",
    "    \n",
    "    train_rolling_predictions, train_rolling_actuals, validate_rolling_predictions, validate_rolling_actuals = get_rolling_predictions(X_train_scaled_featured, X_validate_scaled_featured, y_train, y_validate, model, 'fwd_log_ret')\n",
    "    \n",
    "    # Calculate validate RMSE\n",
    "    validate_rmse = mean_squared_error(validate_rolling_actuals, [v[0] for v in validate_rolling_predictions], squared=False)\n",
    "    \n",
    "    print(model_name,\"avg validate rmse\",validate_rmse)\n",
    "    \n",
    "    # Create a dataframe with actual validate log returns, predictions, close prices, next day close prices\n",
    "    validate_res = pd.DataFrame()\n",
    "    validate_res['actual'] = validate_rolling_actuals\n",
    "    # validate_res = validate_res.T\n",
    "    # validate_res = validate_res.rename(columns = {'fwd_log_ret':'actual'})\n",
    "\n",
    "    validate_res['predictions'] = [v[0] for v in validate_rolling_predictions]\n",
    "    \n",
    "    validate_res.index = validate.index\n",
    "    \n",
    "    validate_res[\"close\"] = validate.close\n",
    "    validate_res[\"next_day_close\"] = validate.close.shift(-1)\n",
    "    # Create a column saying whether we would go long or not (short) based on the \n",
    "    validate_res[\"go_long\"] = validate_res['predictions']>0\n",
    "    # Calculate the return that day (assumes always goes long or short every day)\n",
    "    validate_res[\"ret\"] = np.where(validate_res[\"go_long\"], validate_res.next_day_close-validate_res.close, validate_res.close-validate_res.next_day_close)\n",
    "\n",
    "    model_results[model_name] = validate_res\n"
   ]
  },
  {
   "cell_type": "code",
   "execution_count": 472,
   "id": "4688faf0-045e-4810-9dad-1b164894bb5c",
   "metadata": {},
   "outputs": [
    {
     "name": "stdout",
     "output_type": "stream",
     "text": [
      "LinearRegression Avg Trade 44.24\n",
      "DecisionTreeRegressor Avg Trade 12.34\n"
     ]
    }
   ],
   "source": [
    "for key in model_results.keys():\n",
    "    print(key, \"Avg Trade\", round(model_results[key].ret.mean(),2))"
   ]
  },
  {
   "cell_type": "code",
   "execution_count": 508,
   "id": "e3417acd-69e6-4ab4-969e-4faae8f9cb6d",
   "metadata": {},
   "outputs": [
    {
     "name": "stdout",
     "output_type": "stream",
     "text": [
      "LogisticRegression(C=10) validate accuracy 0.50483870967741942021-03-02\n",
      "DecisionTreeClassifier validate accuracy 0.4935483870967742- 2021-03-02\n",
      "RandomForestClassifier(n_estimators=500) 452/620 Train X range: 2017-11-18 - 2020-09-15\r"
     ]
    },
    {
     "ename": "KeyboardInterrupt",
     "evalue": "",
     "output_type": "error",
     "traceback": [
      "\u001b[0;31m---------------------------------------------------------------------------\u001b[0m",
      "\u001b[0;31mKeyboardInterrupt\u001b[0m                         Traceback (most recent call last)",
      "Input \u001b[0;32mIn [508]\u001b[0m, in \u001b[0;36m<cell line: 7>\u001b[0;34m()\u001b[0m\n\u001b[1;32m      7\u001b[0m \u001b[38;5;28;01mfor\u001b[39;00m model \u001b[38;5;129;01min\u001b[39;00m class_models:\n\u001b[1;32m      9\u001b[0m     model_name \u001b[38;5;241m=\u001b[39m model\u001b[38;5;241m.\u001b[39m\u001b[38;5;21m__repr__\u001b[39m()\u001b[38;5;241m.\u001b[39msplit(\u001b[38;5;124m'\u001b[39m\u001b[38;5;124m()\u001b[39m\u001b[38;5;124m'\u001b[39m)[\u001b[38;5;241m0\u001b[39m]\n\u001b[0;32m---> 11\u001b[0m     train_rolling_predictions, train_rolling_actuals, validate_rolling_predictions, validate_rolling_actuals \u001b[38;5;241m=\u001b[39m \u001b[43mget_rolling_predictions\u001b[49m\u001b[43m(\u001b[49m\u001b[43mX_train_scaled_featured\u001b[49m\u001b[43m,\u001b[49m\u001b[43m \u001b[49m\u001b[43mX_validate_scaled_featured\u001b[49m\u001b[43m,\u001b[49m\u001b[43m \u001b[49m\u001b[43my_train\u001b[49m\u001b[43m,\u001b[49m\u001b[43m \u001b[49m\u001b[43my_validate\u001b[49m\u001b[43m,\u001b[49m\u001b[43m \u001b[49m\u001b[43mmodel\u001b[49m\u001b[43m,\u001b[49m\u001b[43m \u001b[49m\u001b[38;5;124;43m'\u001b[39;49m\u001b[38;5;124;43mfwd_close_positive\u001b[39;49m\u001b[38;5;124;43m'\u001b[39;49m\u001b[43m)\u001b[49m\n\u001b[1;32m     13\u001b[0m     \u001b[38;5;66;03m# Calculate validate accuracy\u001b[39;00m\n\u001b[1;32m     14\u001b[0m     validate_accuracy \u001b[38;5;241m=\u001b[39m accuracy_score(validate_rolling_actuals, [v[\u001b[38;5;241m0\u001b[39m] \u001b[38;5;28;01mfor\u001b[39;00m v \u001b[38;5;129;01min\u001b[39;00m validate_rolling_predictions])\n",
      "Input \u001b[0;32mIn [469]\u001b[0m, in \u001b[0;36mget_rolling_predictions\u001b[0;34m(X_train_scaled_featured, X_validate_scaled_featured, y_train, y_validate, model, target)\u001b[0m\n\u001b[1;32m     14\u001b[0m \u001b[38;5;28mprint\u001b[39m(\u001b[38;5;124mf\u001b[39m\u001b[38;5;124m\"\u001b[39m\u001b[38;5;132;01m{\u001b[39;00mmodel\u001b[38;5;132;01m}\u001b[39;00m\u001b[38;5;124m \u001b[39m\u001b[38;5;132;01m{\u001b[39;00mvalidate_row\u001b[38;5;241m+\u001b[39m\u001b[38;5;241m1\u001b[39m\u001b[38;5;132;01m}\u001b[39;00m\u001b[38;5;124m/\u001b[39m\u001b[38;5;132;01m{\u001b[39;00m\u001b[38;5;28mlen\u001b[39m(X_validate_scaled_featured)\u001b[38;5;132;01m}\u001b[39;00m\u001b[38;5;124m Train X range: \u001b[39m\u001b[38;5;132;01m{\u001b[39;00mX_train_scaled_featured_rolled\u001b[38;5;241m.\u001b[39mindex\u001b[38;5;241m.\u001b[39mmin()\u001b[38;5;241m.\u001b[39mdate()\u001b[38;5;132;01m}\u001b[39;00m\u001b[38;5;124m - \u001b[39m\u001b[38;5;132;01m{\u001b[39;00mX_train_scaled_featured_rolled\u001b[38;5;241m.\u001b[39mindex\u001b[38;5;241m.\u001b[39mmax()\u001b[38;5;241m.\u001b[39mdate()\u001b[38;5;132;01m}\u001b[39;00m\u001b[38;5;124m\"\u001b[39m,end\u001b[38;5;241m=\u001b[39m\u001b[38;5;124m\"\u001b[39m\u001b[38;5;130;01m\\r\u001b[39;00m\u001b[38;5;124m\"\u001b[39m)\n\u001b[1;32m     15\u001b[0m \u001b[38;5;66;03m# print(f\"\\nTrain X range: {X_train_scaled_featured_rolled.index.min().date()} - {X_train_scaled_featured_rolled.index.max().date()}\",end=\"\\r\")\u001b[39;00m\n\u001b[1;32m     16\u001b[0m \n\u001b[1;32m     17\u001b[0m \u001b[38;5;66;03m# Fit the model to the training data\u001b[39;00m\n\u001b[1;32m     18\u001b[0m \u001b[38;5;66;03m# print(f\"Fitting to train, X: {X_train_scaled_featured_rolled.index.min().date()} - {X_train_scaled_featured_rolled.index.max().date()}, y: {y_train_rolled.index.min().date()} - {y_train_rolled.index.max().date()}\") \u001b[39;00m\n\u001b[0;32m---> 19\u001b[0m \u001b[43mmodel\u001b[49m\u001b[38;5;241;43m.\u001b[39;49m\u001b[43mfit\u001b[49m\u001b[43m(\u001b[49m\u001b[43mX_train_scaled_featured_rolled\u001b[49m\u001b[43m,\u001b[49m\u001b[43m \u001b[49m\u001b[43my_train_rolled\u001b[49m\u001b[43m[\u001b[49m\u001b[43mtarget\u001b[49m\u001b[43m]\u001b[49m\u001b[43m)\u001b[49m\n\u001b[1;32m     21\u001b[0m \u001b[38;5;66;03m# Predict on Train\u001b[39;00m\n\u001b[1;32m     22\u001b[0m train_prediction \u001b[38;5;241m=\u001b[39m model\u001b[38;5;241m.\u001b[39mpredict(X_train_scaled_featured_rolled)\n",
      "File \u001b[0;32m/opt/homebrew/anaconda3/envs/quant/lib/python3.9/site-packages/sklearn/ensemble/_forest.py:450\u001b[0m, in \u001b[0;36mBaseForest.fit\u001b[0;34m(self, X, y, sample_weight)\u001b[0m\n\u001b[1;32m    439\u001b[0m trees \u001b[38;5;241m=\u001b[39m [\n\u001b[1;32m    440\u001b[0m     \u001b[38;5;28mself\u001b[39m\u001b[38;5;241m.\u001b[39m_make_estimator(append\u001b[38;5;241m=\u001b[39m\u001b[38;5;28;01mFalse\u001b[39;00m, random_state\u001b[38;5;241m=\u001b[39mrandom_state)\n\u001b[1;32m    441\u001b[0m     \u001b[38;5;28;01mfor\u001b[39;00m i \u001b[38;5;129;01min\u001b[39;00m \u001b[38;5;28mrange\u001b[39m(n_more_estimators)\n\u001b[1;32m    442\u001b[0m ]\n\u001b[1;32m    444\u001b[0m \u001b[38;5;66;03m# Parallel loop: we prefer the threading backend as the Cython code\u001b[39;00m\n\u001b[1;32m    445\u001b[0m \u001b[38;5;66;03m# for fitting the trees is internally releasing the Python GIL\u001b[39;00m\n\u001b[1;32m    446\u001b[0m \u001b[38;5;66;03m# making threading more efficient than multiprocessing in\u001b[39;00m\n\u001b[1;32m    447\u001b[0m \u001b[38;5;66;03m# that case. However, for joblib 0.12+ we respect any\u001b[39;00m\n\u001b[1;32m    448\u001b[0m \u001b[38;5;66;03m# parallel_backend contexts set at a higher level,\u001b[39;00m\n\u001b[1;32m    449\u001b[0m \u001b[38;5;66;03m# since correctness does not rely on using threads.\u001b[39;00m\n\u001b[0;32m--> 450\u001b[0m trees \u001b[38;5;241m=\u001b[39m \u001b[43mParallel\u001b[49m\u001b[43m(\u001b[49m\n\u001b[1;32m    451\u001b[0m \u001b[43m    \u001b[49m\u001b[43mn_jobs\u001b[49m\u001b[38;5;241;43m=\u001b[39;49m\u001b[38;5;28;43mself\u001b[39;49m\u001b[38;5;241;43m.\u001b[39;49m\u001b[43mn_jobs\u001b[49m\u001b[43m,\u001b[49m\n\u001b[1;32m    452\u001b[0m \u001b[43m    \u001b[49m\u001b[43mverbose\u001b[49m\u001b[38;5;241;43m=\u001b[39;49m\u001b[38;5;28;43mself\u001b[39;49m\u001b[38;5;241;43m.\u001b[39;49m\u001b[43mverbose\u001b[49m\u001b[43m,\u001b[49m\n\u001b[1;32m    453\u001b[0m \u001b[43m    \u001b[49m\u001b[38;5;241;43m*\u001b[39;49m\u001b[38;5;241;43m*\u001b[39;49m\u001b[43m_joblib_parallel_args\u001b[49m\u001b[43m(\u001b[49m\u001b[43mprefer\u001b[49m\u001b[38;5;241;43m=\u001b[39;49m\u001b[38;5;124;43m\"\u001b[39;49m\u001b[38;5;124;43mthreads\u001b[39;49m\u001b[38;5;124;43m\"\u001b[39;49m\u001b[43m)\u001b[49m\u001b[43m,\u001b[49m\n\u001b[1;32m    454\u001b[0m \u001b[43m\u001b[49m\u001b[43m)\u001b[49m\u001b[43m(\u001b[49m\n\u001b[1;32m    455\u001b[0m \u001b[43m    \u001b[49m\u001b[43mdelayed\u001b[49m\u001b[43m(\u001b[49m\u001b[43m_parallel_build_trees\u001b[49m\u001b[43m)\u001b[49m\u001b[43m(\u001b[49m\n\u001b[1;32m    456\u001b[0m \u001b[43m        \u001b[49m\u001b[43mt\u001b[49m\u001b[43m,\u001b[49m\n\u001b[1;32m    457\u001b[0m \u001b[43m        \u001b[49m\u001b[38;5;28;43mself\u001b[39;49m\u001b[43m,\u001b[49m\n\u001b[1;32m    458\u001b[0m \u001b[43m        \u001b[49m\u001b[43mX\u001b[49m\u001b[43m,\u001b[49m\n\u001b[1;32m    459\u001b[0m \u001b[43m        \u001b[49m\u001b[43my\u001b[49m\u001b[43m,\u001b[49m\n\u001b[1;32m    460\u001b[0m \u001b[43m        \u001b[49m\u001b[43msample_weight\u001b[49m\u001b[43m,\u001b[49m\n\u001b[1;32m    461\u001b[0m \u001b[43m        \u001b[49m\u001b[43mi\u001b[49m\u001b[43m,\u001b[49m\n\u001b[1;32m    462\u001b[0m \u001b[43m        \u001b[49m\u001b[38;5;28;43mlen\u001b[39;49m\u001b[43m(\u001b[49m\u001b[43mtrees\u001b[49m\u001b[43m)\u001b[49m\u001b[43m,\u001b[49m\n\u001b[1;32m    463\u001b[0m \u001b[43m        \u001b[49m\u001b[43mverbose\u001b[49m\u001b[38;5;241;43m=\u001b[39;49m\u001b[38;5;28;43mself\u001b[39;49m\u001b[38;5;241;43m.\u001b[39;49m\u001b[43mverbose\u001b[49m\u001b[43m,\u001b[49m\n\u001b[1;32m    464\u001b[0m \u001b[43m        \u001b[49m\u001b[43mclass_weight\u001b[49m\u001b[38;5;241;43m=\u001b[39;49m\u001b[38;5;28;43mself\u001b[39;49m\u001b[38;5;241;43m.\u001b[39;49m\u001b[43mclass_weight\u001b[49m\u001b[43m,\u001b[49m\n\u001b[1;32m    465\u001b[0m \u001b[43m        \u001b[49m\u001b[43mn_samples_bootstrap\u001b[49m\u001b[38;5;241;43m=\u001b[39;49m\u001b[43mn_samples_bootstrap\u001b[49m\u001b[43m,\u001b[49m\n\u001b[1;32m    466\u001b[0m \u001b[43m    \u001b[49m\u001b[43m)\u001b[49m\n\u001b[1;32m    467\u001b[0m \u001b[43m    \u001b[49m\u001b[38;5;28;43;01mfor\u001b[39;49;00m\u001b[43m \u001b[49m\u001b[43mi\u001b[49m\u001b[43m,\u001b[49m\u001b[43m \u001b[49m\u001b[43mt\u001b[49m\u001b[43m \u001b[49m\u001b[38;5;129;43;01min\u001b[39;49;00m\u001b[43m \u001b[49m\u001b[38;5;28;43menumerate\u001b[39;49m\u001b[43m(\u001b[49m\u001b[43mtrees\u001b[49m\u001b[43m)\u001b[49m\n\u001b[1;32m    468\u001b[0m \u001b[43m\u001b[49m\u001b[43m)\u001b[49m\n\u001b[1;32m    470\u001b[0m \u001b[38;5;66;03m# Collect newly grown trees\u001b[39;00m\n\u001b[1;32m    471\u001b[0m \u001b[38;5;28mself\u001b[39m\u001b[38;5;241m.\u001b[39mestimators_\u001b[38;5;241m.\u001b[39mextend(trees)\n",
      "File \u001b[0;32m/opt/homebrew/anaconda3/envs/quant/lib/python3.9/site-packages/joblib/parallel.py:1046\u001b[0m, in \u001b[0;36mParallel.__call__\u001b[0;34m(self, iterable)\u001b[0m\n\u001b[1;32m   1043\u001b[0m \u001b[38;5;28;01mif\u001b[39;00m \u001b[38;5;28mself\u001b[39m\u001b[38;5;241m.\u001b[39mdispatch_one_batch(iterator):\n\u001b[1;32m   1044\u001b[0m     \u001b[38;5;28mself\u001b[39m\u001b[38;5;241m.\u001b[39m_iterating \u001b[38;5;241m=\u001b[39m \u001b[38;5;28mself\u001b[39m\u001b[38;5;241m.\u001b[39m_original_iterator \u001b[38;5;129;01mis\u001b[39;00m \u001b[38;5;129;01mnot\u001b[39;00m \u001b[38;5;28;01mNone\u001b[39;00m\n\u001b[0;32m-> 1046\u001b[0m \u001b[38;5;28;01mwhile\u001b[39;00m \u001b[38;5;28;43mself\u001b[39;49m\u001b[38;5;241;43m.\u001b[39;49m\u001b[43mdispatch_one_batch\u001b[49m\u001b[43m(\u001b[49m\u001b[43miterator\u001b[49m\u001b[43m)\u001b[49m:\n\u001b[1;32m   1047\u001b[0m     \u001b[38;5;28;01mpass\u001b[39;00m\n\u001b[1;32m   1049\u001b[0m \u001b[38;5;28;01mif\u001b[39;00m pre_dispatch \u001b[38;5;241m==\u001b[39m \u001b[38;5;124m\"\u001b[39m\u001b[38;5;124mall\u001b[39m\u001b[38;5;124m\"\u001b[39m \u001b[38;5;129;01mor\u001b[39;00m n_jobs \u001b[38;5;241m==\u001b[39m \u001b[38;5;241m1\u001b[39m:\n\u001b[1;32m   1050\u001b[0m     \u001b[38;5;66;03m# The iterable was consumed all at once by the above for loop.\u001b[39;00m\n\u001b[1;32m   1051\u001b[0m     \u001b[38;5;66;03m# No need to wait for async callbacks to trigger to\u001b[39;00m\n\u001b[1;32m   1052\u001b[0m     \u001b[38;5;66;03m# consumption.\u001b[39;00m\n",
      "File \u001b[0;32m/opt/homebrew/anaconda3/envs/quant/lib/python3.9/site-packages/joblib/parallel.py:861\u001b[0m, in \u001b[0;36mParallel.dispatch_one_batch\u001b[0;34m(self, iterator)\u001b[0m\n\u001b[1;32m    859\u001b[0m     \u001b[38;5;28;01mreturn\u001b[39;00m \u001b[38;5;28;01mFalse\u001b[39;00m\n\u001b[1;32m    860\u001b[0m \u001b[38;5;28;01melse\u001b[39;00m:\n\u001b[0;32m--> 861\u001b[0m     \u001b[38;5;28;43mself\u001b[39;49m\u001b[38;5;241;43m.\u001b[39;49m\u001b[43m_dispatch\u001b[49m\u001b[43m(\u001b[49m\u001b[43mtasks\u001b[49m\u001b[43m)\u001b[49m\n\u001b[1;32m    862\u001b[0m     \u001b[38;5;28;01mreturn\u001b[39;00m \u001b[38;5;28;01mTrue\u001b[39;00m\n",
      "File \u001b[0;32m/opt/homebrew/anaconda3/envs/quant/lib/python3.9/site-packages/joblib/parallel.py:779\u001b[0m, in \u001b[0;36mParallel._dispatch\u001b[0;34m(self, batch)\u001b[0m\n\u001b[1;32m    777\u001b[0m \u001b[38;5;28;01mwith\u001b[39;00m \u001b[38;5;28mself\u001b[39m\u001b[38;5;241m.\u001b[39m_lock:\n\u001b[1;32m    778\u001b[0m     job_idx \u001b[38;5;241m=\u001b[39m \u001b[38;5;28mlen\u001b[39m(\u001b[38;5;28mself\u001b[39m\u001b[38;5;241m.\u001b[39m_jobs)\n\u001b[0;32m--> 779\u001b[0m     job \u001b[38;5;241m=\u001b[39m \u001b[38;5;28;43mself\u001b[39;49m\u001b[38;5;241;43m.\u001b[39;49m\u001b[43m_backend\u001b[49m\u001b[38;5;241;43m.\u001b[39;49m\u001b[43mapply_async\u001b[49m\u001b[43m(\u001b[49m\u001b[43mbatch\u001b[49m\u001b[43m,\u001b[49m\u001b[43m \u001b[49m\u001b[43mcallback\u001b[49m\u001b[38;5;241;43m=\u001b[39;49m\u001b[43mcb\u001b[49m\u001b[43m)\u001b[49m\n\u001b[1;32m    780\u001b[0m     \u001b[38;5;66;03m# A job can complete so quickly than its callback is\u001b[39;00m\n\u001b[1;32m    781\u001b[0m     \u001b[38;5;66;03m# called before we get here, causing self._jobs to\u001b[39;00m\n\u001b[1;32m    782\u001b[0m     \u001b[38;5;66;03m# grow. To ensure correct results ordering, .insert is\u001b[39;00m\n\u001b[1;32m    783\u001b[0m     \u001b[38;5;66;03m# used (rather than .append) in the following line\u001b[39;00m\n\u001b[1;32m    784\u001b[0m     \u001b[38;5;28mself\u001b[39m\u001b[38;5;241m.\u001b[39m_jobs\u001b[38;5;241m.\u001b[39minsert(job_idx, job)\n",
      "File \u001b[0;32m/opt/homebrew/anaconda3/envs/quant/lib/python3.9/site-packages/joblib/_parallel_backends.py:208\u001b[0m, in \u001b[0;36mSequentialBackend.apply_async\u001b[0;34m(self, func, callback)\u001b[0m\n\u001b[1;32m    206\u001b[0m \u001b[38;5;28;01mdef\u001b[39;00m \u001b[38;5;21mapply_async\u001b[39m(\u001b[38;5;28mself\u001b[39m, func, callback\u001b[38;5;241m=\u001b[39m\u001b[38;5;28;01mNone\u001b[39;00m):\n\u001b[1;32m    207\u001b[0m     \u001b[38;5;124;03m\"\"\"Schedule a func to be run\"\"\"\u001b[39;00m\n\u001b[0;32m--> 208\u001b[0m     result \u001b[38;5;241m=\u001b[39m \u001b[43mImmediateResult\u001b[49m\u001b[43m(\u001b[49m\u001b[43mfunc\u001b[49m\u001b[43m)\u001b[49m\n\u001b[1;32m    209\u001b[0m     \u001b[38;5;28;01mif\u001b[39;00m callback:\n\u001b[1;32m    210\u001b[0m         callback(result)\n",
      "File \u001b[0;32m/opt/homebrew/anaconda3/envs/quant/lib/python3.9/site-packages/joblib/_parallel_backends.py:572\u001b[0m, in \u001b[0;36mImmediateResult.__init__\u001b[0;34m(self, batch)\u001b[0m\n\u001b[1;32m    569\u001b[0m \u001b[38;5;28;01mdef\u001b[39;00m \u001b[38;5;21m__init__\u001b[39m(\u001b[38;5;28mself\u001b[39m, batch):\n\u001b[1;32m    570\u001b[0m     \u001b[38;5;66;03m# Don't delay the application, to avoid keeping the input\u001b[39;00m\n\u001b[1;32m    571\u001b[0m     \u001b[38;5;66;03m# arguments in memory\u001b[39;00m\n\u001b[0;32m--> 572\u001b[0m     \u001b[38;5;28mself\u001b[39m\u001b[38;5;241m.\u001b[39mresults \u001b[38;5;241m=\u001b[39m \u001b[43mbatch\u001b[49m\u001b[43m(\u001b[49m\u001b[43m)\u001b[49m\n",
      "File \u001b[0;32m/opt/homebrew/anaconda3/envs/quant/lib/python3.9/site-packages/joblib/parallel.py:262\u001b[0m, in \u001b[0;36mBatchedCalls.__call__\u001b[0;34m(self)\u001b[0m\n\u001b[1;32m    258\u001b[0m \u001b[38;5;28;01mdef\u001b[39;00m \u001b[38;5;21m__call__\u001b[39m(\u001b[38;5;28mself\u001b[39m):\n\u001b[1;32m    259\u001b[0m     \u001b[38;5;66;03m# Set the default nested backend to self._backend but do not set the\u001b[39;00m\n\u001b[1;32m    260\u001b[0m     \u001b[38;5;66;03m# change the default number of processes to -1\u001b[39;00m\n\u001b[1;32m    261\u001b[0m     \u001b[38;5;28;01mwith\u001b[39;00m parallel_backend(\u001b[38;5;28mself\u001b[39m\u001b[38;5;241m.\u001b[39m_backend, n_jobs\u001b[38;5;241m=\u001b[39m\u001b[38;5;28mself\u001b[39m\u001b[38;5;241m.\u001b[39m_n_jobs):\n\u001b[0;32m--> 262\u001b[0m         \u001b[38;5;28;01mreturn\u001b[39;00m [func(\u001b[38;5;241m*\u001b[39margs, \u001b[38;5;241m*\u001b[39m\u001b[38;5;241m*\u001b[39mkwargs)\n\u001b[1;32m    263\u001b[0m                 \u001b[38;5;28;01mfor\u001b[39;00m func, args, kwargs \u001b[38;5;129;01min\u001b[39;00m \u001b[38;5;28mself\u001b[39m\u001b[38;5;241m.\u001b[39mitems]\n",
      "File \u001b[0;32m/opt/homebrew/anaconda3/envs/quant/lib/python3.9/site-packages/joblib/parallel.py:262\u001b[0m, in \u001b[0;36m<listcomp>\u001b[0;34m(.0)\u001b[0m\n\u001b[1;32m    258\u001b[0m \u001b[38;5;28;01mdef\u001b[39;00m \u001b[38;5;21m__call__\u001b[39m(\u001b[38;5;28mself\u001b[39m):\n\u001b[1;32m    259\u001b[0m     \u001b[38;5;66;03m# Set the default nested backend to self._backend but do not set the\u001b[39;00m\n\u001b[1;32m    260\u001b[0m     \u001b[38;5;66;03m# change the default number of processes to -1\u001b[39;00m\n\u001b[1;32m    261\u001b[0m     \u001b[38;5;28;01mwith\u001b[39;00m parallel_backend(\u001b[38;5;28mself\u001b[39m\u001b[38;5;241m.\u001b[39m_backend, n_jobs\u001b[38;5;241m=\u001b[39m\u001b[38;5;28mself\u001b[39m\u001b[38;5;241m.\u001b[39m_n_jobs):\n\u001b[0;32m--> 262\u001b[0m         \u001b[38;5;28;01mreturn\u001b[39;00m [\u001b[43mfunc\u001b[49m\u001b[43m(\u001b[49m\u001b[38;5;241;43m*\u001b[39;49m\u001b[43margs\u001b[49m\u001b[43m,\u001b[49m\u001b[43m \u001b[49m\u001b[38;5;241;43m*\u001b[39;49m\u001b[38;5;241;43m*\u001b[39;49m\u001b[43mkwargs\u001b[49m\u001b[43m)\u001b[49m\n\u001b[1;32m    263\u001b[0m                 \u001b[38;5;28;01mfor\u001b[39;00m func, args, kwargs \u001b[38;5;129;01min\u001b[39;00m \u001b[38;5;28mself\u001b[39m\u001b[38;5;241m.\u001b[39mitems]\n",
      "File \u001b[0;32m/opt/homebrew/anaconda3/envs/quant/lib/python3.9/site-packages/sklearn/utils/fixes.py:216\u001b[0m, in \u001b[0;36m_FuncWrapper.__call__\u001b[0;34m(self, *args, **kwargs)\u001b[0m\n\u001b[1;32m    214\u001b[0m \u001b[38;5;28;01mdef\u001b[39;00m \u001b[38;5;21m__call__\u001b[39m(\u001b[38;5;28mself\u001b[39m, \u001b[38;5;241m*\u001b[39margs, \u001b[38;5;241m*\u001b[39m\u001b[38;5;241m*\u001b[39mkwargs):\n\u001b[1;32m    215\u001b[0m     \u001b[38;5;28;01mwith\u001b[39;00m config_context(\u001b[38;5;241m*\u001b[39m\u001b[38;5;241m*\u001b[39m\u001b[38;5;28mself\u001b[39m\u001b[38;5;241m.\u001b[39mconfig):\n\u001b[0;32m--> 216\u001b[0m         \u001b[38;5;28;01mreturn\u001b[39;00m \u001b[38;5;28;43mself\u001b[39;49m\u001b[38;5;241;43m.\u001b[39;49m\u001b[43mfunction\u001b[49m\u001b[43m(\u001b[49m\u001b[38;5;241;43m*\u001b[39;49m\u001b[43margs\u001b[49m\u001b[43m,\u001b[49m\u001b[43m \u001b[49m\u001b[38;5;241;43m*\u001b[39;49m\u001b[38;5;241;43m*\u001b[39;49m\u001b[43mkwargs\u001b[49m\u001b[43m)\u001b[49m\n",
      "File \u001b[0;32m/opt/homebrew/anaconda3/envs/quant/lib/python3.9/site-packages/sklearn/ensemble/_forest.py:185\u001b[0m, in \u001b[0;36m_parallel_build_trees\u001b[0;34m(tree, forest, X, y, sample_weight, tree_idx, n_trees, verbose, class_weight, n_samples_bootstrap)\u001b[0m\n\u001b[1;32m    182\u001b[0m     \u001b[38;5;28;01melif\u001b[39;00m class_weight \u001b[38;5;241m==\u001b[39m \u001b[38;5;124m\"\u001b[39m\u001b[38;5;124mbalanced_subsample\u001b[39m\u001b[38;5;124m\"\u001b[39m:\n\u001b[1;32m    183\u001b[0m         curr_sample_weight \u001b[38;5;241m*\u001b[39m\u001b[38;5;241m=\u001b[39m compute_sample_weight(\u001b[38;5;124m\"\u001b[39m\u001b[38;5;124mbalanced\u001b[39m\u001b[38;5;124m\"\u001b[39m, y, indices\u001b[38;5;241m=\u001b[39mindices)\n\u001b[0;32m--> 185\u001b[0m     \u001b[43mtree\u001b[49m\u001b[38;5;241;43m.\u001b[39;49m\u001b[43mfit\u001b[49m\u001b[43m(\u001b[49m\u001b[43mX\u001b[49m\u001b[43m,\u001b[49m\u001b[43m \u001b[49m\u001b[43my\u001b[49m\u001b[43m,\u001b[49m\u001b[43m \u001b[49m\u001b[43msample_weight\u001b[49m\u001b[38;5;241;43m=\u001b[39;49m\u001b[43mcurr_sample_weight\u001b[49m\u001b[43m,\u001b[49m\u001b[43m \u001b[49m\u001b[43mcheck_input\u001b[49m\u001b[38;5;241;43m=\u001b[39;49m\u001b[38;5;28;43;01mFalse\u001b[39;49;00m\u001b[43m)\u001b[49m\n\u001b[1;32m    186\u001b[0m \u001b[38;5;28;01melse\u001b[39;00m:\n\u001b[1;32m    187\u001b[0m     tree\u001b[38;5;241m.\u001b[39mfit(X, y, sample_weight\u001b[38;5;241m=\u001b[39msample_weight, check_input\u001b[38;5;241m=\u001b[39m\u001b[38;5;28;01mFalse\u001b[39;00m)\n",
      "File \u001b[0;32m/opt/homebrew/anaconda3/envs/quant/lib/python3.9/site-packages/sklearn/tree/_classes.py:937\u001b[0m, in \u001b[0;36mDecisionTreeClassifier.fit\u001b[0;34m(self, X, y, sample_weight, check_input, X_idx_sorted)\u001b[0m\n\u001b[1;32m    899\u001b[0m \u001b[38;5;28;01mdef\u001b[39;00m \u001b[38;5;21mfit\u001b[39m(\n\u001b[1;32m    900\u001b[0m     \u001b[38;5;28mself\u001b[39m, X, y, sample_weight\u001b[38;5;241m=\u001b[39m\u001b[38;5;28;01mNone\u001b[39;00m, check_input\u001b[38;5;241m=\u001b[39m\u001b[38;5;28;01mTrue\u001b[39;00m, X_idx_sorted\u001b[38;5;241m=\u001b[39m\u001b[38;5;124m\"\u001b[39m\u001b[38;5;124mdeprecated\u001b[39m\u001b[38;5;124m\"\u001b[39m\n\u001b[1;32m    901\u001b[0m ):\n\u001b[1;32m    902\u001b[0m     \u001b[38;5;124;03m\"\"\"Build a decision tree classifier from the training set (X, y).\u001b[39;00m\n\u001b[1;32m    903\u001b[0m \n\u001b[1;32m    904\u001b[0m \u001b[38;5;124;03m    Parameters\u001b[39;00m\n\u001b[0;32m   (...)\u001b[0m\n\u001b[1;32m    934\u001b[0m \u001b[38;5;124;03m        Fitted estimator.\u001b[39;00m\n\u001b[1;32m    935\u001b[0m \u001b[38;5;124;03m    \"\"\"\u001b[39;00m\n\u001b[0;32m--> 937\u001b[0m     \u001b[38;5;28;43msuper\u001b[39;49m\u001b[43m(\u001b[49m\u001b[43m)\u001b[49m\u001b[38;5;241;43m.\u001b[39;49m\u001b[43mfit\u001b[49m\u001b[43m(\u001b[49m\n\u001b[1;32m    938\u001b[0m \u001b[43m        \u001b[49m\u001b[43mX\u001b[49m\u001b[43m,\u001b[49m\n\u001b[1;32m    939\u001b[0m \u001b[43m        \u001b[49m\u001b[43my\u001b[49m\u001b[43m,\u001b[49m\n\u001b[1;32m    940\u001b[0m \u001b[43m        \u001b[49m\u001b[43msample_weight\u001b[49m\u001b[38;5;241;43m=\u001b[39;49m\u001b[43msample_weight\u001b[49m\u001b[43m,\u001b[49m\n\u001b[1;32m    941\u001b[0m \u001b[43m        \u001b[49m\u001b[43mcheck_input\u001b[49m\u001b[38;5;241;43m=\u001b[39;49m\u001b[43mcheck_input\u001b[49m\u001b[43m,\u001b[49m\n\u001b[1;32m    942\u001b[0m \u001b[43m        \u001b[49m\u001b[43mX_idx_sorted\u001b[49m\u001b[38;5;241;43m=\u001b[39;49m\u001b[43mX_idx_sorted\u001b[49m\u001b[43m,\u001b[49m\n\u001b[1;32m    943\u001b[0m \u001b[43m    \u001b[49m\u001b[43m)\u001b[49m\n\u001b[1;32m    944\u001b[0m     \u001b[38;5;28;01mreturn\u001b[39;00m \u001b[38;5;28mself\u001b[39m\n",
      "File \u001b[0;32m/opt/homebrew/anaconda3/envs/quant/lib/python3.9/site-packages/sklearn/tree/_classes.py:420\u001b[0m, in \u001b[0;36mBaseDecisionTree.fit\u001b[0;34m(self, X, y, sample_weight, check_input, X_idx_sorted)\u001b[0m\n\u001b[1;32m    409\u001b[0m \u001b[38;5;28;01melse\u001b[39;00m:\n\u001b[1;32m    410\u001b[0m     builder \u001b[38;5;241m=\u001b[39m BestFirstTreeBuilder(\n\u001b[1;32m    411\u001b[0m         splitter,\n\u001b[1;32m    412\u001b[0m         min_samples_split,\n\u001b[0;32m   (...)\u001b[0m\n\u001b[1;32m    417\u001b[0m         \u001b[38;5;28mself\u001b[39m\u001b[38;5;241m.\u001b[39mmin_impurity_decrease,\n\u001b[1;32m    418\u001b[0m     )\n\u001b[0;32m--> 420\u001b[0m \u001b[43mbuilder\u001b[49m\u001b[38;5;241;43m.\u001b[39;49m\u001b[43mbuild\u001b[49m\u001b[43m(\u001b[49m\u001b[38;5;28;43mself\u001b[39;49m\u001b[38;5;241;43m.\u001b[39;49m\u001b[43mtree_\u001b[49m\u001b[43m,\u001b[49m\u001b[43m \u001b[49m\u001b[43mX\u001b[49m\u001b[43m,\u001b[49m\u001b[43m \u001b[49m\u001b[43my\u001b[49m\u001b[43m,\u001b[49m\u001b[43m \u001b[49m\u001b[43msample_weight\u001b[49m\u001b[43m)\u001b[49m\n\u001b[1;32m    422\u001b[0m \u001b[38;5;28;01mif\u001b[39;00m \u001b[38;5;28mself\u001b[39m\u001b[38;5;241m.\u001b[39mn_outputs_ \u001b[38;5;241m==\u001b[39m \u001b[38;5;241m1\u001b[39m \u001b[38;5;129;01mand\u001b[39;00m is_classifier(\u001b[38;5;28mself\u001b[39m):\n\u001b[1;32m    423\u001b[0m     \u001b[38;5;28mself\u001b[39m\u001b[38;5;241m.\u001b[39mn_classes_ \u001b[38;5;241m=\u001b[39m \u001b[38;5;28mself\u001b[39m\u001b[38;5;241m.\u001b[39mn_classes_[\u001b[38;5;241m0\u001b[39m]\n",
      "\u001b[0;31mKeyboardInterrupt\u001b[0m: "
     ]
    }
   ],
   "source": [
    "class_models = [LogisticRegression(C=10), DecisionTreeClassifier(max_depth=None), RandomForestClassifier(n_estimators=500), KNeighborsClassifier(n_neighbors=10), KNeighborsClassifier(n_neighbors=100), KNeighborsClassifier(n_neighbors=1000)]\n",
    "model_results = {}\n",
    "\n",
    "y_train = train[['fwd_close_positive']]\n",
    "y_validate = validate[['fwd_close_positive']]\n",
    "\n",
    "for model in class_models:\n",
    "    \n",
    "    model_name = model.__repr__().split('()')[0]\n",
    "    \n",
    "    train_rolling_predictions, train_rolling_actuals, validate_rolling_predictions, validate_rolling_actuals = get_rolling_predictions(X_train_scaled_featured, X_validate_scaled_featured, y_train, y_validate, model, 'fwd_close_positive')\n",
    "    \n",
    "    # Calculate validate accuracy\n",
    "    validate_accuracy = accuracy_score(validate_rolling_actuals, [v[0] for v in validate_rolling_predictions])\n",
    "    \n",
    "    print(model_name,\"validate accuracy\",validate_accuracy)\n",
    "    \n",
    "    # Create a dataframe with actual validate log returns, predictions, close prices, next day close prices\n",
    "    validate_res = pd.DataFrame()\n",
    "    validate_res['actual'] = validate_rolling_actuals\n",
    "    # validate_res = validate_res.T\n",
    "    # validate_res = validate_res.rename(columns = {'fwd_log_ret':'actual'})\n",
    "\n",
    "    validate_res['predictions'] = [v[0] for v in validate_rolling_predictions]\n",
    "    \n",
    "    validate_res.index = validate.index\n",
    "    \n",
    "    validate_res[\"close\"] = validate.close\n",
    "    validate_res[\"next_day_close\"] = validate.close.shift(-1)\n",
    "    # Create a column saying whether we would go long or not (short) based on the \n",
    "    validate_res[\"go_long\"] = validate_res['predictions']>0\n",
    "    # Calculate the return that day (assumes always goes long or short every day)\n",
    "    validate_res[\"ret\"] = np.where(validate_res[\"go_long\"], validate_res.next_day_close-validate_res.close, validate_res.close-validate_res.next_day_close)\n",
    "\n",
    "    model_results[model_name] = validate_res\n",
    "    model_results[model_name+\"_accuracy\"] = validate_accuracy\n",
    "\n",
    "baseline = pd.DataFrame(index = validate.index)\n",
    "baseline[\"close\"] = validate.close\n",
    "baseline[\"next_day_close\"] = validate.close.shift(-1)\n",
    "# Just predict most common value\n",
    "baseline[\"predictions\"] = train.fwd_close_positive.mode()[0]\n",
    "# Where prediction is true, go long\n",
    "baseline[\"go_long\"] = baseline[\"predictions\"]\n",
    "# Calculate the return that day (assumes always goes long or short every day)\n",
    "baseline[\"ret\"] = np.where(baseline[\"go_long\"], baseline.next_day_close-baseline.close, baseline.close-baseline.next_day_close)\n",
    "\n",
    "model_results[\"baseline\"] = baseline\n",
    "\n"
   ]
  },
  {
   "cell_type": "code",
   "execution_count": 506,
   "id": "994081e6-fcb4-454c-8203-8e47a2671bac",
   "metadata": {},
   "outputs": [
    {
     "name": "stdout",
     "output_type": "stream",
     "text": [
      "LogisticRegression(C=10) Avg Trade -2.83\n",
      "LogisticRegression Avg Trade -2.83\n",
      "DecisionTreeClassifier(max_depth=4) Avg Trade 16.97\n",
      "RandomForestClassifier Avg Trade 47.91\n",
      "KNeighborsClassifier(n_neighbors=10) Avg Trade 38.37\n",
      "KNeighborsClassifier(n_neighbors=100) Avg Trade 42.63\n",
      "baseline Avg Trade 63.86\n"
     ]
    }
   ],
   "source": [
    "for key in model_results.keys():\n",
    "    print(key, \"Avg Trade\", round(model_results[key].ret.mean(),2))"
   ]
  },
  {
   "cell_type": "code",
   "execution_count": null,
   "id": "17819944-5d4c-45d0-9c45-448e46a07b5b",
   "metadata": {},
   "outputs": [],
   "source": []
  }
 ],
 "metadata": {
  "kernelspec": {
   "display_name": "quant",
   "language": "python",
   "name": "quant"
  },
  "language_info": {
   "codemirror_mode": {
    "name": "ipython",
    "version": 3
   },
   "file_extension": ".py",
   "mimetype": "text/x-python",
   "name": "python",
   "nbconvert_exporter": "python",
   "pygments_lexer": "ipython3",
   "version": "3.9.7"
  }
 },
 "nbformat": 4,
 "nbformat_minor": 5
}
