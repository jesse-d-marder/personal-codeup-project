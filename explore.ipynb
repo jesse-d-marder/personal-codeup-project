{
 "cells": [
  {
   "cell_type": "code",
   "execution_count": 37,
   "id": "64e5cdda-9012-40ee-ad91-57802f6ebe55",
   "metadata": {},
   "outputs": [],
   "source": [
    "from env import *\n",
    "from env_tradestation import *\n",
    "from data_retriever_simple import Client\n",
    "import acquire\n",
    "import prepare\n",
    "\n",
    "import cbpro\n",
    "import pandas as pd\n",
    "import numpy as np\n",
    "from datetime import datetime, timedelta\n",
    "import matplotlib.pyplot as plt\n",
    "import seaborn as sns\n",
    "\n",
    "from statsmodels.tsa.arima.model import ARIMA\n",
    "from sklearn.metrics import mean_squared_error\n",
    "from sklearn.linear_model import LinearRegression, LassoLars, TweedieRegressor\n",
    "from sklearn.preprocessing import PolynomialFeatures, StandardScaler\n",
    "\n",
    "import warnings\n",
    "warnings.filterwarnings(\"ignore\")"
   ]
  },
  {
   "cell_type": "markdown",
   "id": "25cde387-3539-4f0c-8a32-c68ea2560946",
   "metadata": {},
   "source": [
    "Basis for much of this: https://jfin-swufe.springeropen.com/track/pdf/10.1186/s40854-020-00217-x.pdf"
   ]
  },
  {
   "cell_type": "markdown",
   "id": "edb21a68-bc02-433c-8e4e-f09bee20ab6b",
   "metadata": {},
   "source": [
    "# Personal Project - Compare the ability to predict cryptocurrency and futures prices using machine learning"
   ]
  },
  {
   "cell_type": "markdown",
   "id": "35a8ed79-8ea8-4cb3-bc34-b363b029fc46",
   "metadata": {},
   "source": [
    "## Start with acquiring crypto data\n",
    "- Will acquire Bitcoin, Ethereum, and Litecoin data as these have some of the longest price histories and greatest liquidity"
   ]
  },
  {
   "cell_type": "code",
   "execution_count": 2,
   "id": "ba80fbb4-662f-4813-a3e9-71ddbc91a7d9",
   "metadata": {},
   "outputs": [],
   "source": [
    "desired_products = ['BTC-USD',\n",
    " 'ETH-USD',\n",
    " 'LTC-USD']"
   ]
  },
  {
   "cell_type": "code",
   "execution_count": 3,
   "id": "8b2684bf-3ee7-4acc-bc03-68da8dedc757",
   "metadata": {},
   "outputs": [],
   "source": [
    "results = acquire.get_data_from_csv()"
   ]
  },
  {
   "cell_type": "code",
   "execution_count": 4,
   "id": "a1499397-1953-4c5a-b304-7002d69eee2f",
   "metadata": {},
   "outputs": [
    {
     "name": "stdout",
     "output_type": "stream",
     "text": [
      "Max first date is 2016-08-17 00:00:00, starting all dataframes at this day\n",
      "Corrected btc low data for 2017-04-15\n"
     ]
    }
   ],
   "source": [
    "prepared_results = prepare.prepare_crypto_data(results)"
   ]
  },
  {
   "cell_type": "code",
   "execution_count": 5,
   "id": "dc68632b-2b1e-449a-8269-8afe5a298f33",
   "metadata": {},
   "outputs": [],
   "source": [
    "btc=prepared_results['BTC_USD']"
   ]
  },
  {
   "cell_type": "code",
   "execution_count": 6,
   "id": "078415c0-9ce7-44f4-a6e7-e88be4aa9d31",
   "metadata": {},
   "outputs": [
    {
     "data": {
      "text/plain": [
       "time      0\n",
       "low       0\n",
       "high      0\n",
       "open      0\n",
       "close     0\n",
       "volume    0\n",
       "dtype: int64"
      ]
     },
     "execution_count": 6,
     "metadata": {},
     "output_type": "execute_result"
    }
   ],
   "source": [
    "btc.isna().sum()"
   ]
  },
  {
   "cell_type": "markdown",
   "id": "20af3761-baa7-4855-8f18-ab10bdfc68e6",
   "metadata": {},
   "source": [
    "No nulls"
   ]
  },
  {
   "cell_type": "code",
   "execution_count": 7,
   "id": "b3075c9d-c08c-4c6c-8753-3ee55a61256f",
   "metadata": {},
   "outputs": [
    {
     "data": {
      "text/html": [
       "<div>\n",
       "<style scoped>\n",
       "    .dataframe tbody tr th:only-of-type {\n",
       "        vertical-align: middle;\n",
       "    }\n",
       "\n",
       "    .dataframe tbody tr th {\n",
       "        vertical-align: top;\n",
       "    }\n",
       "\n",
       "    .dataframe thead th {\n",
       "        text-align: right;\n",
       "    }\n",
       "</style>\n",
       "<table border=\"1\" class=\"dataframe\">\n",
       "  <thead>\n",
       "    <tr style=\"text-align: right;\">\n",
       "      <th></th>\n",
       "      <th>low</th>\n",
       "      <th>high</th>\n",
       "      <th>open</th>\n",
       "      <th>close</th>\n",
       "      <th>volume</th>\n",
       "    </tr>\n",
       "  </thead>\n",
       "  <tbody>\n",
       "    <tr>\n",
       "      <th>count</th>\n",
       "      <td>2075.000000</td>\n",
       "      <td>2075.000000</td>\n",
       "      <td>2075.000000</td>\n",
       "      <td>2075.000000</td>\n",
       "      <td>2075.000000</td>\n",
       "    </tr>\n",
       "    <tr>\n",
       "      <th>mean</th>\n",
       "      <td>15367.271296</td>\n",
       "      <td>16353.665287</td>\n",
       "      <td>15891.738578</td>\n",
       "      <td>15910.606708</td>\n",
       "      <td>14627.887462</td>\n",
       "    </tr>\n",
       "    <tr>\n",
       "      <th>std</th>\n",
       "      <td>16901.301024</td>\n",
       "      <td>17955.831798</td>\n",
       "      <td>17468.665539</td>\n",
       "      <td>17473.333789</td>\n",
       "      <td>11638.656327</td>\n",
       "    </tr>\n",
       "    <tr>\n",
       "      <th>min</th>\n",
       "      <td>568.120000</td>\n",
       "      <td>573.310000</td>\n",
       "      <td>570.830000</td>\n",
       "      <td>570.840000</td>\n",
       "      <td>683.798071</td>\n",
       "    </tr>\n",
       "    <tr>\n",
       "      <th>25%</th>\n",
       "      <td>4082.865000</td>\n",
       "      <td>4365.630000</td>\n",
       "      <td>4249.675000</td>\n",
       "      <td>4258.360000</td>\n",
       "      <td>7144.589967</td>\n",
       "    </tr>\n",
       "    <tr>\n",
       "      <th>50%</th>\n",
       "      <td>8215.660000</td>\n",
       "      <td>8760.430000</td>\n",
       "      <td>8522.300000</td>\n",
       "      <td>8525.070000</td>\n",
       "      <td>11718.880202</td>\n",
       "    </tr>\n",
       "    <tr>\n",
       "      <th>75%</th>\n",
       "      <td>17445.630000</td>\n",
       "      <td>18601.875000</td>\n",
       "      <td>17830.325000</td>\n",
       "      <td>17940.440000</td>\n",
       "      <td>18296.256136</td>\n",
       "    </tr>\n",
       "    <tr>\n",
       "      <th>max</th>\n",
       "      <td>66261.790000</td>\n",
       "      <td>69000.000000</td>\n",
       "      <td>67554.130000</td>\n",
       "      <td>67554.840000</td>\n",
       "      <td>130316.646844</td>\n",
       "    </tr>\n",
       "  </tbody>\n",
       "</table>\n",
       "</div>"
      ],
      "text/plain": [
       "                low          high          open         close         volume\n",
       "count   2075.000000   2075.000000   2075.000000   2075.000000    2075.000000\n",
       "mean   15367.271296  16353.665287  15891.738578  15910.606708   14627.887462\n",
       "std    16901.301024  17955.831798  17468.665539  17473.333789   11638.656327\n",
       "min      568.120000    573.310000    570.830000    570.840000     683.798071\n",
       "25%     4082.865000   4365.630000   4249.675000   4258.360000    7144.589967\n",
       "50%     8215.660000   8760.430000   8522.300000   8525.070000   11718.880202\n",
       "75%    17445.630000  18601.875000  17830.325000  17940.440000   18296.256136\n",
       "max    66261.790000  69000.000000  67554.130000  67554.840000  130316.646844"
      ]
     },
     "execution_count": 7,
     "metadata": {},
     "output_type": "execute_result"
    }
   ],
   "source": [
    "btc.describe()"
   ]
  },
  {
   "cell_type": "markdown",
   "id": "e695763a-697e-4cdb-a821-7fe8bec3d012",
   "metadata": {},
   "source": [
    "Min btc value of 0.06 is suspicious and should be corrected"
   ]
  },
  {
   "cell_type": "code",
   "execution_count": 8,
   "id": "aa46b2de-efdc-4db3-b379-9ae792d670bb",
   "metadata": {},
   "outputs": [
    {
     "data": {
      "text/plain": [
       "DatetimeIndex([], dtype='datetime64[ns]', name='time', freq=None)"
      ]
     },
     "execution_count": 8,
     "metadata": {},
     "output_type": "execute_result"
    }
   ],
   "source": [
    "# Incorporated into prepare\n",
    "btc.index[btc.low == 0.06]\n",
    "\n",
    "# Gather minute data from that day to fix the low value\n",
    "# minute_data = acquire.acquire_crypto_data(acquire.get_full_product_info(['BTC-USD']),datetime(2017, 4, 15, 0,0,0), datetime(2017, 4, 15, 23, 59, 0), 60)\n",
    "\n",
    "# minute_data['BTC-USD']=minute_data['BTC-USD'].loc[(minute_data['BTC-USD'].index<'2017-04-15 23:00:00' )|(minute_data['BTC-USD'].index>'2017-04-15 23:50:00')]\n",
    "\n",
    "# minute_data['BTC-USD'].low.min()\n",
    "\n",
    "# btc.loc['2017-04-15','low'] = minute_data['BTC-USD'].low.min()"
   ]
  },
  {
   "cell_type": "code",
   "execution_count": 9,
   "id": "5c51ea01-3e08-4076-ac65-7eeeaa8b1e6c",
   "metadata": {},
   "outputs": [],
   "source": [
    "# auth_client = cbpro.AuthenticatedClient(api_key, secret_key, passphrase)"
   ]
  },
  {
   "cell_type": "code",
   "execution_count": 10,
   "id": "bf9e5ead-841f-4a08-b7bc-521110dc3c9b",
   "metadata": {},
   "outputs": [],
   "source": [
    "# desired_products_with_info = acquire.get_full_product_info(desired_products)"
   ]
  },
  {
   "cell_type": "code",
   "execution_count": 11,
   "id": "41546a8a-8d48-4673-93a8-2ffc297e930e",
   "metadata": {},
   "outputs": [],
   "source": [
    "# results = acquire.acquire_crypto_data(desired_products_with_info, datetime.now()-timedelta(days=3000), datetime.now(), minute_bars=86400)"
   ]
  },
  {
   "cell_type": "code",
   "execution_count": 12,
   "id": "724e7588-2222-4f35-8e03-e64d23222644",
   "metadata": {},
   "outputs": [
    {
     "data": {
      "text/plain": [
       "Text(0.5, 1.0, 'Bitcoin data starts earliest\\nDifferent currencies clearly at different scales')"
      ]
     },
     "execution_count": 12,
     "metadata": {},
     "output_type": "execute_result"
    },
    {
     "data": {
      "image/png": "[encoded data removed]",
      "text/plain": [
       "<Figure size 432x288 with 1 Axes>"
      ]
     },
     "metadata": {
      "needs_background": "light"
     },
     "output_type": "display_data"
    }
   ],
   "source": [
    "results['BTC_USD'].close.plot(label='BTC')\n",
    "results['LTC_USD'].close.plot(label='LTC')\n",
    "results['ETH_USD'].close.plot(label='ETH')\n",
    "plt.legend()\n",
    "plt.title('Bitcoin data starts earliest\\nDifferent currencies clearly at different scales')"
   ]
  },
  {
   "cell_type": "code",
   "execution_count": 13,
   "id": "c6258138-cf65-4079-90e2-3ebc99919301",
   "metadata": {},
   "outputs": [
    {
     "name": "stdout",
     "output_type": "stream",
     "text": [
      "Min data bitcoin:  2016-08-17 00:00:00\n",
      "Min data litecoin:  2016-08-17 00:00:00\n",
      "Min data ethereum:  2016-08-17 00:00:00\n"
     ]
    }
   ],
   "source": [
    "print('Min data bitcoin: ',results['BTC_USD'].index.min())\n",
    "print('Min data litecoin: ',results['LTC_USD'].index.min())\n",
    "print('Min data ethereum: ',results['ETH_USD'].index.min())"
   ]
  },
  {
   "cell_type": "markdown",
   "id": "ed403499-31d3-4917-a936-7cf2406b0a6a",
   "metadata": {},
   "source": [
    "Will truncate data so all starts at same day"
   ]
  },
  {
   "cell_type": "markdown",
   "id": "54d9ba6f-1001-4e65-838d-5c7c590e3169",
   "metadata": {},
   "source": [
    "### Volatility:\n",
    "- relative price range: RR\n",
    "- range volatility estimator of Parkinson: sigma  - lags 1-7\n",
    "\n",
    "#### Lagged log returns, 1-7 days earlier"
   ]
  },
  {
   "cell_type": "code",
   "execution_count": 14,
   "id": "4589879a-0419-4fa6-a11e-69be858dd585",
   "metadata": {},
   "outputs": [],
   "source": [
    "btc = prepare.add_features(btc)"
   ]
  },
  {
   "cell_type": "markdown",
   "id": "aac12e2a-1b83-4069-97e2-844cd444936c",
   "metadata": {},
   "source": [
    "## Add target and features (all added to prepare.py file)"
   ]
  },
  {
   "cell_type": "code",
   "execution_count": 15,
   "id": "71bf8109-1d29-4912-a637-10a61e22c02e",
   "metadata": {},
   "outputs": [],
   "source": [
    "# # forward 1 day log returns\n",
    "# btc[\"log_ret_fwd\"] = np.log(btc.close) - np.log(btc.close.shift(-1))\n",
    "# # forward standard returns\n",
    "# btc[\"ret_fwd\"] = btc.close.shift(-1) - btc.close\n",
    "# btc[\"pct_chg\"] = btc.close.pct_change()"
   ]
  },
  {
   "cell_type": "code",
   "execution_count": 16,
   "id": "341456fb-7e2f-45fc-9a4c-fe85223e8bb6",
   "metadata": {},
   "outputs": [],
   "source": [
    "# for i in range(1,8):\n",
    "#     btc[f'log_ret_lag_{i}'] = np.log(df.close) - np.log(df.close.shift(i))"
   ]
  },
  {
   "cell_type": "markdown",
   "id": "a867532f-451e-4683-b482-a9b3d5b61b72",
   "metadata": {
    "tags": []
   },
   "source": [
    "## Split data"
   ]
  },
  {
   "cell_type": "code",
   "execution_count": 17,
   "id": "83718950-3d56-458f-aacd-ef74cfd9d4d4",
   "metadata": {},
   "outputs": [],
   "source": [
    "train_size = int(len(btc) * .5)\n",
    "validate_size = int(len(btc) * .3)\n",
    "test_size = int(len(btc) - train_size - validate_size)\n",
    "validate_end_index = train_size + validate_size\n",
    "\n",
    "# split into train, validation, test\n",
    "train = btc[: train_size]\n",
    "validate = btc[train_size : validate_end_index]\n",
    "test = btc[validate_end_index : ]"
   ]
  },
  {
   "cell_type": "markdown",
   "id": "a5ec2e71-48a6-4a88-9197-ff372acf0c4f",
   "metadata": {},
   "source": [
    "### Target exploration:\n",
    "- primary regression target is forward log returns, which is the difference in close from tomorrow to today\n",
    "- classification target is whether next close is positive\n",
    "- returns used (vs absolute prices) so can compare between different time series\n",
    "- if assume prices are distributed log normally then log "
   ]
  },
  {
   "cell_type": "code",
   "execution_count": 18,
   "id": "416f14f3-19cb-41c7-aab4-a1aeae0b6637",
   "metadata": {},
   "outputs": [
    {
     "data": {
      "text/plain": [
       "<AxesSubplot:>"
      ]
     },
     "execution_count": 18,
     "metadata": {},
     "output_type": "execute_result"
    },
    {
     "data": {
      "image/png": "[encoded data removed]",
      "text/plain": [
       "<Figure size 432x288 with 1 Axes>"
      ]
     },
     "metadata": {
      "needs_background": "light"
     },
     "output_type": "display_data"
    }
   ],
   "source": [
    "train.fwd_ret.hist()"
   ]
  },
  {
   "cell_type": "code",
   "execution_count": 19,
   "id": "b91f0957-a46b-4d79-b930-0b4e3ca9bb68",
   "metadata": {},
   "outputs": [
    {
     "data": {
      "text/plain": [
       "Text(0.5, 1.0, 'Log returns used because assumed returns follow a log normal distribution\\nLog returns are also additive to allow for compounding easily')"
      ]
     },
     "execution_count": 19,
     "metadata": {},
     "output_type": "execute_result"
    },
    {
     "data": {
      "image/png": "[encoded data removed]",
      "text/plain": [
       "<Figure size 432x288 with 1 Axes>"
      ]
     },
     "metadata": {
      "needs_background": "light"
     },
     "output_type": "display_data"
    }
   ],
   "source": [
    "train.fwd_log_ret.plot()\n",
    "plt.title('Log returns used because assumed returns follow a log normal distribution\\nLog returns are also additive to allow for compounding easily')"
   ]
  },
  {
   "cell_type": "code",
   "execution_count": 20,
   "id": "850e7665-768c-4bbf-a3c1-c084ba4da5d8",
   "metadata": {},
   "outputs": [
    {
     "data": {
      "text/plain": [
       "Text(0.5, 1.0, 'More Normal Looking')"
      ]
     },
     "execution_count": 20,
     "metadata": {},
     "output_type": "execute_result"
    },
    {
     "data": {
      "image/png": "[encoded data removed]",
      "text/plain": [
       "<Figure size 432x288 with 1 Axes>"
      ]
     },
     "metadata": {
      "needs_background": "light"
     },
     "output_type": "display_data"
    }
   ],
   "source": [
    "train.fwd_log_ret.hist()\n",
    "plt.title('More Normal Looking')"
   ]
  },
  {
   "cell_type": "code",
   "execution_count": 21,
   "id": "3134c573-63d7-4a3f-8f28-5e57098536f4",
   "metadata": {},
   "outputs": [
    {
     "data": {
      "text/plain": [
       "<AxesSubplot:xlabel='time'>"
      ]
     },
     "execution_count": 21,
     "metadata": {},
     "output_type": "execute_result"
    },
    {
     "data": {
      "image/png": "[encoded data removed]",
      "text/plain": [
       "<Figure size 432x288 with 1 Axes>"
      ]
     },
     "metadata": {
      "needs_background": "light"
     },
     "output_type": "display_data"
    }
   ],
   "source": [
    "train.fwd_pct_chg.plot()"
   ]
  },
  {
   "cell_type": "code",
   "execution_count": 22,
   "id": "2193d669-776a-4dc2-ad30-8042dfeda070",
   "metadata": {},
   "outputs": [
    {
     "data": {
      "text/plain": [
       "Text(0.5, 1.0, 'Next Close Positive - fairly balanced')"
      ]
     },
     "execution_count": 22,
     "metadata": {},
     "output_type": "execute_result"
    },
    {
     "data": {
      "image/png": "[encoded data removed]",
      "text/plain": [
       "<Figure size 432x288 with 1 Axes>"
      ]
     },
     "metadata": {
      "needs_background": "light"
     },
     "output_type": "display_data"
    }
   ],
   "source": [
    "train.fwd_close_positive.value_counts(normalize=True).plot.bar()\n",
    "plt.title('Next Close Positive - fairly balanced')"
   ]
  },
  {
   "cell_type": "markdown",
   "id": "cb703868-045e-401e-93fa-e8ae22eff276",
   "metadata": {},
   "source": [
    "### Take a look at correlations - not very relevant given time series"
   ]
  },
  {
   "cell_type": "code",
   "execution_count": 33,
   "id": "51505763-4125-49e8-8fc5-7679a236564d",
   "metadata": {},
   "outputs": [
    {
     "data": {
      "text/plain": [
       "fwd_log_ret           1.000000\n",
       "fwd_pct_chg           0.998780\n",
       "open                  0.068015\n",
       "low                   0.066747\n",
       "high                  0.066128\n",
       "close                 0.065933\n",
       "sigma_lag_5           0.039582\n",
       "sigma_lag_4           0.016418\n",
       "pct_chg               0.012351\n",
       "log_ret_lag_1         0.011469\n",
       "log_ret_lag_4        -0.005556\n",
       "sigma_lag_3          -0.012200\n",
       "sigma_lag_7          -0.015279\n",
       "sigma_lag_1          -0.018403\n",
       "RR                   -0.018527\n",
       "log_ret_lag_2        -0.020126\n",
       "volume               -0.031338\n",
       "log_ret_lag_3        -0.031387\n",
       "log_ret_lag_7        -0.036887\n",
       "log_ret_lag_5        -0.037157\n",
       "sigma_lag_2          -0.045426\n",
       "sigma_lag_6          -0.047553\n",
       "log_ret_lag_6        -0.049871\n",
       "fwd_close_positive   -0.667871\n",
       "fwd_ret              -0.827821\n",
       "dtype: float64"
      ]
     },
     "execution_count": 33,
     "metadata": {},
     "output_type": "execute_result"
    }
   ],
   "source": [
    "train[[col for col in train.columns if 'day_name' not in col]].corrwith(train.fwd_log_ret).sort_values(ascending=False)"
   ]
  },
  {
   "cell_type": "markdown",
   "id": "288fd6a6-e3a8-400b-9323-e2e6d3c40b17",
   "metadata": {},
   "source": [
    "### Autocorrelation of daily close - highest correlations with lags < 50"
   ]
  },
  {
   "cell_type": "code",
   "execution_count": 35,
   "id": "9d6d6508-e285-4dec-b786-7fa004d89cfc",
   "metadata": {},
   "outputs": [
    {
     "data": {
      "text/plain": [
       "Text(0.5, 1.0, 'No real seasonality evident')"
      ]
     },
     "execution_count": 35,
     "metadata": {},
     "output_type": "execute_result"
    },
    {
     "data": {
      "image/png": "[encoded data removed]",
      "text/plain": [
       "<Figure size 432x288 with 1 Axes>"
      ]
     },
     "metadata": {
      "needs_background": "light"
     },
     "output_type": "display_data"
    }
   ],
   "source": [
    "pd.plotting.autocorrelation_plot(train.close)\n",
    "plt.title('No real seasonality evident')"
   ]
  },
  {
   "cell_type": "markdown",
   "id": "1b10a11a-a3e8-45e4-925a-5fdaf2ecc3be",
   "metadata": {},
   "source": [
    "# Modeling"
   ]
  },
  {
   "cell_type": "markdown",
   "id": "10493a68-94c1-498c-af5a-40eece4b7cb6",
   "metadata": {},
   "source": [
    "Arima"
   ]
  },
  {
   "cell_type": "code",
   "execution_count": null,
   "id": "c1a51c7a-4800-440e-87c1-9c7cedb1c114",
   "metadata": {},
   "outputs": [],
   "source": []
  },
  {
   "cell_type": "code",
   "execution_count": null,
   "id": "6395300b-5ae3-4c35-9e72-7e6ae222f55b",
   "metadata": {},
   "outputs": [],
   "source": [
    "# fit model\n",
    "model = ARIMA(series, order=(5,1,0))\n",
    "model_fit = model.fit()\n",
    "# summary of fit model\n",
    "print(model_fit.summary())\n",
    "# line plot of residuals\n",
    "residuals = DataFrame(model_fit.resid)\n",
    "residuals.plot()\n",
    "pyplot.show()\n",
    "# density plot of residuals\n",
    "residuals.plot(kind='kde')\n",
    "pyplot.show()\n",
    "# summary stats of residuals\n",
    "print(residuals.describe())"
   ]
  },
  {
   "cell_type": "code",
   "execution_count": null,
   "id": "4b141d0b-2d20-43b7-acbe-59164e4d7bda",
   "metadata": {},
   "outputs": [],
   "source": []
  },
  {
   "cell_type": "code",
   "execution_count": null,
   "id": "615df361-de22-472f-92ff-2db0fa7bcb7a",
   "metadata": {},
   "outputs": [],
   "source": []
  },
  {
   "cell_type": "code",
   "execution_count": null,
   "id": "8fcd4285-fca7-4a9b-b646-4f516bb1c964",
   "metadata": {},
   "outputs": [],
   "source": [
    "y_train = train.fwd_log_ret"
   ]
  },
  {
   "cell_type": "code",
   "execution_count": null,
   "id": "60d5de3b-dee7-4598-a6fe-1b2c88b69f49",
   "metadata": {},
   "outputs": [],
   "source": []
  },
  {
   "cell_type": "code",
   "execution_count": null,
   "id": "10f976dd-54f2-457b-9ce8-a4bffdb0b6ce",
   "metadata": {},
   "outputs": [],
   "source": [
    "# We need y_train and y_validate to be dataframes to append the new columns with predicted values. \n",
    "y_train = pd.DataFrame(y_train)\n",
    "y_validate = pd.DataFrame(y_validate)\n",
    "\n",
    "# 1. Predict G3_pred_mean\n",
    "G3_pred_mean = y_train['G3'].mean()\n",
    "y_train['G3_pred_mean'] = G3_pred_mean\n",
    "y_validate['G3_pred_mean'] = G3_pred_mean\n",
    "\n",
    "# 2. compute G3_pred_median\n",
    "G3_pred_median = y_train['G3'].median()\n",
    "y_train['G3_pred_median'] = G3_pred_median\n",
    "y_validate['G3_pred_median'] = G3_pred_median\n",
    "\n",
    "# 3. RMSE of G3_pred_mean\n",
    "rmse_train = mean_squared_error(y_train.G3, y_train.G3_pred_mean)**(1/2)\n",
    "rmse_validate = mean_squared_error(y_validate.G3, y_validate.G3_pred_mean)**(1/2)\n",
    "\n",
    "print(\"RMSE using Mean\\nTrain/In-Sample: \", round(rmse_train, 2), \n",
    "      \"\\nValidate/Out-of-Sample: \", round(rmse_validate, 2))\n",
    "\n",
    "# 4. RMSE of G3_pred_median\n",
    "rmse_train = mean_squared_error(y_train.G3, y_train.G3_pred_median)**(1/2)\n",
    "rmse_validate = mean_squared_error(y_validate.G3, y_validate.G3_pred_median)**(1/2)\n",
    "\n",
    "print(\"RMSE using Median\\nTrain/In-Sample: \", round(rmse_train, 2), \n",
    "      \"\\nValidate/Out-of-Sample: \", round(rmse_validate, 2))\n"
   ]
  }
 ],
 "metadata": {
  "kernelspec": {
   "display_name": "quant",
   "language": "python",
   "name": "quant"
  },
  "language_info": {
   "codemirror_mode": {
    "name": "ipython",
    "version": 3
   },
   "file_extension": ".py",
   "mimetype": "text/x-python",
   "name": "python",
   "nbconvert_exporter": "python",
   "pygments_lexer": "ipython3",
   "version": "3.9.7"
  }
 },
 "nbformat": 4,
 "nbformat_minor": 5
}
